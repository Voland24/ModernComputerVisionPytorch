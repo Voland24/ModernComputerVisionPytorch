{
  "nbformat": 4,
  "nbformat_minor": 0,
  "metadata": {
    "colab": {
      "provenance": [],
      "authorship_tag": "ABX9TyMHXpILetChkPQi1z6a8IqM",
      "include_colab_link": true
    },
    "kernelspec": {
      "name": "python3",
      "display_name": "Python 3"
    },
    "language_info": {
      "name": "python"
    },
    "widgets": {
      "application/vnd.jupyter.widget-state+json": {
        "d8c32b5c168d4f2ea4e97c63cb508d9e": {
          "model_module": "@jupyter-widgets/controls",
          "model_name": "HBoxModel",
          "model_module_version": "1.5.0",
          "state": {
            "_dom_classes": [],
            "_model_module": "@jupyter-widgets/controls",
            "_model_module_version": "1.5.0",
            "_model_name": "HBoxModel",
            "_view_count": null,
            "_view_module": "@jupyter-widgets/controls",
            "_view_module_version": "1.5.0",
            "_view_name": "HBoxView",
            "box_style": "",
            "children": [
              "IPY_MODEL_220e713403ac43709cb2b681023544b3",
              "IPY_MODEL_19954e20e65d47528c80aba2a150f4b3",
              "IPY_MODEL_c1c7037551ff4ed884ed16b4a84a2e30"
            ],
            "layout": "IPY_MODEL_b5b1749d1f2147f087ac15f447392511"
          }
        },
        "220e713403ac43709cb2b681023544b3": {
          "model_module": "@jupyter-widgets/controls",
          "model_name": "HTMLModel",
          "model_module_version": "1.5.0",
          "state": {
            "_dom_classes": [],
            "_model_module": "@jupyter-widgets/controls",
            "_model_module_version": "1.5.0",
            "_model_name": "HTMLModel",
            "_view_count": null,
            "_view_module": "@jupyter-widgets/controls",
            "_view_module_version": "1.5.0",
            "_view_name": "HTMLView",
            "description": "",
            "description_tooltip": null,
            "layout": "IPY_MODEL_f32d24894f134f779cce0afb193ad7f9",
            "placeholder": "​",
            "style": "IPY_MODEL_c8db3518032942b08a5be6b9aef00dba",
            "value": "100%"
          }
        },
        "19954e20e65d47528c80aba2a150f4b3": {
          "model_module": "@jupyter-widgets/controls",
          "model_name": "FloatProgressModel",
          "model_module_version": "1.5.0",
          "state": {
            "_dom_classes": [],
            "_model_module": "@jupyter-widgets/controls",
            "_model_module_version": "1.5.0",
            "_model_name": "FloatProgressModel",
            "_view_count": null,
            "_view_module": "@jupyter-widgets/controls",
            "_view_module_version": "1.5.0",
            "_view_name": "ProgressView",
            "bar_style": "success",
            "description": "",
            "description_tooltip": null,
            "layout": "IPY_MODEL_8b819f3f05b54675badd17ba8769af92",
            "max": 553433881,
            "min": 0,
            "orientation": "horizontal",
            "style": "IPY_MODEL_2b3b9c528b7949a9bdf83a058e9a13b6",
            "value": 553433881
          }
        },
        "c1c7037551ff4ed884ed16b4a84a2e30": {
          "model_module": "@jupyter-widgets/controls",
          "model_name": "HTMLModel",
          "model_module_version": "1.5.0",
          "state": {
            "_dom_classes": [],
            "_model_module": "@jupyter-widgets/controls",
            "_model_module_version": "1.5.0",
            "_model_name": "HTMLModel",
            "_view_count": null,
            "_view_module": "@jupyter-widgets/controls",
            "_view_module_version": "1.5.0",
            "_view_name": "HTMLView",
            "description": "",
            "description_tooltip": null,
            "layout": "IPY_MODEL_a024af29f2de4bea9f8628b44c7b90c0",
            "placeholder": "​",
            "style": "IPY_MODEL_65efb51268c54a2eab0819e807c56f09",
            "value": " 528M/528M [00:04&lt;00:00, 137MB/s]"
          }
        },
        "b5b1749d1f2147f087ac15f447392511": {
          "model_module": "@jupyter-widgets/base",
          "model_name": "LayoutModel",
          "model_module_version": "1.2.0",
          "state": {
            "_model_module": "@jupyter-widgets/base",
            "_model_module_version": "1.2.0",
            "_model_name": "LayoutModel",
            "_view_count": null,
            "_view_module": "@jupyter-widgets/base",
            "_view_module_version": "1.2.0",
            "_view_name": "LayoutView",
            "align_content": null,
            "align_items": null,
            "align_self": null,
            "border": null,
            "bottom": null,
            "display": null,
            "flex": null,
            "flex_flow": null,
            "grid_area": null,
            "grid_auto_columns": null,
            "grid_auto_flow": null,
            "grid_auto_rows": null,
            "grid_column": null,
            "grid_gap": null,
            "grid_row": null,
            "grid_template_areas": null,
            "grid_template_columns": null,
            "grid_template_rows": null,
            "height": null,
            "justify_content": null,
            "justify_items": null,
            "left": null,
            "margin": null,
            "max_height": null,
            "max_width": null,
            "min_height": null,
            "min_width": null,
            "object_fit": null,
            "object_position": null,
            "order": null,
            "overflow": null,
            "overflow_x": null,
            "overflow_y": null,
            "padding": null,
            "right": null,
            "top": null,
            "visibility": null,
            "width": null
          }
        },
        "f32d24894f134f779cce0afb193ad7f9": {
          "model_module": "@jupyter-widgets/base",
          "model_name": "LayoutModel",
          "model_module_version": "1.2.0",
          "state": {
            "_model_module": "@jupyter-widgets/base",
            "_model_module_version": "1.2.0",
            "_model_name": "LayoutModel",
            "_view_count": null,
            "_view_module": "@jupyter-widgets/base",
            "_view_module_version": "1.2.0",
            "_view_name": "LayoutView",
            "align_content": null,
            "align_items": null,
            "align_self": null,
            "border": null,
            "bottom": null,
            "display": null,
            "flex": null,
            "flex_flow": null,
            "grid_area": null,
            "grid_auto_columns": null,
            "grid_auto_flow": null,
            "grid_auto_rows": null,
            "grid_column": null,
            "grid_gap": null,
            "grid_row": null,
            "grid_template_areas": null,
            "grid_template_columns": null,
            "grid_template_rows": null,
            "height": null,
            "justify_content": null,
            "justify_items": null,
            "left": null,
            "margin": null,
            "max_height": null,
            "max_width": null,
            "min_height": null,
            "min_width": null,
            "object_fit": null,
            "object_position": null,
            "order": null,
            "overflow": null,
            "overflow_x": null,
            "overflow_y": null,
            "padding": null,
            "right": null,
            "top": null,
            "visibility": null,
            "width": null
          }
        },
        "c8db3518032942b08a5be6b9aef00dba": {
          "model_module": "@jupyter-widgets/controls",
          "model_name": "DescriptionStyleModel",
          "model_module_version": "1.5.0",
          "state": {
            "_model_module": "@jupyter-widgets/controls",
            "_model_module_version": "1.5.0",
            "_model_name": "DescriptionStyleModel",
            "_view_count": null,
            "_view_module": "@jupyter-widgets/base",
            "_view_module_version": "1.2.0",
            "_view_name": "StyleView",
            "description_width": ""
          }
        },
        "8b819f3f05b54675badd17ba8769af92": {
          "model_module": "@jupyter-widgets/base",
          "model_name": "LayoutModel",
          "model_module_version": "1.2.0",
          "state": {
            "_model_module": "@jupyter-widgets/base",
            "_model_module_version": "1.2.0",
            "_model_name": "LayoutModel",
            "_view_count": null,
            "_view_module": "@jupyter-widgets/base",
            "_view_module_version": "1.2.0",
            "_view_name": "LayoutView",
            "align_content": null,
            "align_items": null,
            "align_self": null,
            "border": null,
            "bottom": null,
            "display": null,
            "flex": null,
            "flex_flow": null,
            "grid_area": null,
            "grid_auto_columns": null,
            "grid_auto_flow": null,
            "grid_auto_rows": null,
            "grid_column": null,
            "grid_gap": null,
            "grid_row": null,
            "grid_template_areas": null,
            "grid_template_columns": null,
            "grid_template_rows": null,
            "height": null,
            "justify_content": null,
            "justify_items": null,
            "left": null,
            "margin": null,
            "max_height": null,
            "max_width": null,
            "min_height": null,
            "min_width": null,
            "object_fit": null,
            "object_position": null,
            "order": null,
            "overflow": null,
            "overflow_x": null,
            "overflow_y": null,
            "padding": null,
            "right": null,
            "top": null,
            "visibility": null,
            "width": null
          }
        },
        "2b3b9c528b7949a9bdf83a058e9a13b6": {
          "model_module": "@jupyter-widgets/controls",
          "model_name": "ProgressStyleModel",
          "model_module_version": "1.5.0",
          "state": {
            "_model_module": "@jupyter-widgets/controls",
            "_model_module_version": "1.5.0",
            "_model_name": "ProgressStyleModel",
            "_view_count": null,
            "_view_module": "@jupyter-widgets/base",
            "_view_module_version": "1.2.0",
            "_view_name": "StyleView",
            "bar_color": null,
            "description_width": ""
          }
        },
        "a024af29f2de4bea9f8628b44c7b90c0": {
          "model_module": "@jupyter-widgets/base",
          "model_name": "LayoutModel",
          "model_module_version": "1.2.0",
          "state": {
            "_model_module": "@jupyter-widgets/base",
            "_model_module_version": "1.2.0",
            "_model_name": "LayoutModel",
            "_view_count": null,
            "_view_module": "@jupyter-widgets/base",
            "_view_module_version": "1.2.0",
            "_view_name": "LayoutView",
            "align_content": null,
            "align_items": null,
            "align_self": null,
            "border": null,
            "bottom": null,
            "display": null,
            "flex": null,
            "flex_flow": null,
            "grid_area": null,
            "grid_auto_columns": null,
            "grid_auto_flow": null,
            "grid_auto_rows": null,
            "grid_column": null,
            "grid_gap": null,
            "grid_row": null,
            "grid_template_areas": null,
            "grid_template_columns": null,
            "grid_template_rows": null,
            "height": null,
            "justify_content": null,
            "justify_items": null,
            "left": null,
            "margin": null,
            "max_height": null,
            "max_width": null,
            "min_height": null,
            "min_width": null,
            "object_fit": null,
            "object_position": null,
            "order": null,
            "overflow": null,
            "overflow_x": null,
            "overflow_y": null,
            "padding": null,
            "right": null,
            "top": null,
            "visibility": null,
            "width": null
          }
        },
        "65efb51268c54a2eab0819e807c56f09": {
          "model_module": "@jupyter-widgets/controls",
          "model_name": "DescriptionStyleModel",
          "model_module_version": "1.5.0",
          "state": {
            "_model_module": "@jupyter-widgets/controls",
            "_model_module_version": "1.5.0",
            "_model_name": "DescriptionStyleModel",
            "_view_count": null,
            "_view_module": "@jupyter-widgets/base",
            "_view_module_version": "1.2.0",
            "_view_name": "StyleView",
            "description_width": ""
          }
        }
      }
    }
  },
  "cells": [
    {
      "cell_type": "markdown",
      "metadata": {
        "id": "view-in-github",
        "colab_type": "text"
      },
      "source": [
        "<a href=\"https://colab.research.google.com/github/Voland24/ModernComputerVisionPytorch/blob/main/Chapter_5_Transfer_learning_for_classification.ipynb\" target=\"_parent\"><img src=\"https://colab.research.google.com/assets/colab-badge.svg\" alt=\"Open In Colab\"/></a>"
      ]
    },
    {
      "cell_type": "markdown",
      "source": [
        "# Transfer learning\n",
        "\n",
        "We know the model's performance increases with the number of images we have for training the model. However, it's not always possible to have the option of having thousands of labeled images, sometimes because there aren't enough images, sometimes because it's not possible to label them all with the ground truth labels. This is where transfer learning helps.\n",
        "\n",
        "The idea here is to take the \"learning\" the model has done on some generic dataset with millions of examples and apply that to our case, finetuning the model to meet our demands.\n",
        "\n",
        "Here, we will take a look at various iterations of two different architectures, VGG and ResNet.\n",
        "\n",
        "We will understand the architectures, apply them to age and gender classification, learn to optimize over both cross entropy and mean absolute error losses at the same time, we will learn how to make the network output 136 values instead of just one and look at the library that can help us reduce code complexity.\n",
        "\n",
        "Both the VGG and ResNet have been trained on the ImageNet dataset.\n",
        "\n",
        "**Transfer learning use case scenario**\n",
        "\n",
        "If we want to classify objects found on the images of streets, such as cars, trees etc. we would have a difficult time training a model from scratch since it's highly unlikely that we could account for all the variations the real world images could have in terms of objects, angles etc. It is much easier and better to use a pretrained model, that has seen countless images of our objects of interes, as well as other obejcts and use it to produce and emmbeding of the images and then just simply train a classificator to classify these images.\n",
        "\n",
        "**Flow of transfer learning**\n",
        "\n",
        "1. Normalize the input images with the same mean and stand dev as the images of the pretrained model\n",
        "2. Fetch the pretrained model's weights and architecture\n",
        "3. Discard the fully connected layer of the pretrained model\n",
        "4. Connect our fully connected layer to the network and make sure it has enough output neurons as the classes we want to classify\n",
        "5. Ensure the weights of the pretrained model are frozen since we don't want to train it any further\n",
        "6. Update the weight of our layers over epochs\n",
        "\n",
        "\n"
      ],
      "metadata": {
        "id": "hgJS_orRYqAZ"
      }
    },
    {
      "cell_type": "markdown",
      "source": [
        "# VGG16 Architecture\n",
        "\n",
        "VGG stands for Visual Geometry Group and 16 is the number of layers"
      ],
      "metadata": {
        "id": "1JOOiMercCW9"
      }
    },
    {
      "cell_type": "code",
      "source": [
        "import torchvision\n",
        "import torch.nn as nn\n",
        "import torch\n",
        "import torch.nn.functional as F\n",
        "from torchvision import transforms, models, datasets\n",
        "!pip install torch_summary\n",
        "from torchsummary import summary\n",
        "device = 'cuda' if torch.cuda.is_available() else 'cpu'\n"
      ],
      "metadata": {
        "colab": {
          "base_uri": "https://localhost:8080/"
        },
        "id": "leP_AFqJcr2O",
        "outputId": "2658e86e-afb0-4f5e-ebfa-e2effb0c9a63"
      },
      "execution_count": 3,
      "outputs": [
        {
          "output_type": "stream",
          "name": "stdout",
          "text": [
            "Looking in indexes: https://pypi.org/simple, https://us-python.pkg.dev/colab-wheels/public/simple/\n",
            "Requirement already satisfied: torch_summary in /usr/local/lib/python3.8/dist-packages (1.4.5)\n"
          ]
        }
      ]
    },
    {
      "cell_type": "markdown",
      "source": [
        "Load the VGG16 model and register it to the device"
      ],
      "metadata": {
        "id": "B3pLDewFdR42"
      }
    },
    {
      "cell_type": "code",
      "source": [
        "model = models.vgg16(pretrained = True).to(device)"
      ],
      "metadata": {
        "colab": {
          "base_uri": "https://localhost:8080/",
          "height": 156,
          "referenced_widgets": [
            "d8c32b5c168d4f2ea4e97c63cb508d9e",
            "220e713403ac43709cb2b681023544b3",
            "19954e20e65d47528c80aba2a150f4b3",
            "c1c7037551ff4ed884ed16b4a84a2e30",
            "b5b1749d1f2147f087ac15f447392511",
            "f32d24894f134f779cce0afb193ad7f9",
            "c8db3518032942b08a5be6b9aef00dba",
            "8b819f3f05b54675badd17ba8769af92",
            "2b3b9c528b7949a9bdf83a058e9a13b6",
            "a024af29f2de4bea9f8628b44c7b90c0",
            "65efb51268c54a2eab0819e807c56f09"
          ]
        },
        "id": "6_nW7DsWdU-d",
        "outputId": "453da240-8ad9-4247-d9fa-020b84e87206"
      },
      "execution_count": 4,
      "outputs": [
        {
          "output_type": "stream",
          "name": "stderr",
          "text": [
            "/usr/local/lib/python3.8/dist-packages/torchvision/models/_utils.py:208: UserWarning: The parameter 'pretrained' is deprecated since 0.13 and may be removed in the future, please use 'weights' instead.\n",
            "  warnings.warn(\n",
            "/usr/local/lib/python3.8/dist-packages/torchvision/models/_utils.py:223: UserWarning: Arguments other than a weight enum or `None` for 'weights' are deprecated since 0.13 and may be removed in the future. The current behavior is equivalent to passing `weights=VGG16_Weights.IMAGENET1K_V1`. You can also use `weights=VGG16_Weights.DEFAULT` to get the most up-to-date weights.\n",
            "  warnings.warn(msg)\n",
            "Downloading: \"https://download.pytorch.org/models/vgg16-397923af.pth\" to /root/.cache/torch/hub/checkpoints/vgg16-397923af.pth\n"
          ]
        },
        {
          "output_type": "display_data",
          "data": {
            "text/plain": [
              "  0%|          | 0.00/528M [00:00<?, ?B/s]"
            ],
            "application/vnd.jupyter.widget-view+json": {
              "version_major": 2,
              "version_minor": 0,
              "model_id": "d8c32b5c168d4f2ea4e97c63cb508d9e"
            }
          },
          "metadata": {}
        }
      ]
    },
    {
      "cell_type": "markdown",
      "source": [
        "Let's look at the model's architecture"
      ],
      "metadata": {
        "id": "XYjmkXkudd1-"
      }
    },
    {
      "cell_type": "code",
      "source": [
        "summary(model, torch.zeros(1,3,224,224))"
      ],
      "metadata": {
        "colab": {
          "base_uri": "https://localhost:8080/"
        },
        "id": "qjDuN0N9dgQ6",
        "outputId": "fe295246-21bf-4f6e-8b85-f45a350603d4"
      },
      "execution_count": 5,
      "outputs": [
        {
          "output_type": "stream",
          "name": "stdout",
          "text": [
            "==========================================================================================\n",
            "Layer (type:depth-idx)                   Output Shape              Param #\n",
            "==========================================================================================\n",
            "├─Sequential: 1-1                        [-1, 512, 7, 7]           --\n",
            "|    └─Conv2d: 2-1                       [-1, 64, 224, 224]        1,792\n",
            "|    └─ReLU: 2-2                         [-1, 64, 224, 224]        --\n",
            "|    └─Conv2d: 2-3                       [-1, 64, 224, 224]        36,928\n",
            "|    └─ReLU: 2-4                         [-1, 64, 224, 224]        --\n",
            "|    └─MaxPool2d: 2-5                    [-1, 64, 112, 112]        --\n",
            "|    └─Conv2d: 2-6                       [-1, 128, 112, 112]       73,856\n",
            "|    └─ReLU: 2-7                         [-1, 128, 112, 112]       --\n",
            "|    └─Conv2d: 2-8                       [-1, 128, 112, 112]       147,584\n",
            "|    └─ReLU: 2-9                         [-1, 128, 112, 112]       --\n",
            "|    └─MaxPool2d: 2-10                   [-1, 128, 56, 56]         --\n",
            "|    └─Conv2d: 2-11                      [-1, 256, 56, 56]         295,168\n",
            "|    └─ReLU: 2-12                        [-1, 256, 56, 56]         --\n",
            "|    └─Conv2d: 2-13                      [-1, 256, 56, 56]         590,080\n",
            "|    └─ReLU: 2-14                        [-1, 256, 56, 56]         --\n",
            "|    └─Conv2d: 2-15                      [-1, 256, 56, 56]         590,080\n",
            "|    └─ReLU: 2-16                        [-1, 256, 56, 56]         --\n",
            "|    └─MaxPool2d: 2-17                   [-1, 256, 28, 28]         --\n",
            "|    └─Conv2d: 2-18                      [-1, 512, 28, 28]         1,180,160\n",
            "|    └─ReLU: 2-19                        [-1, 512, 28, 28]         --\n",
            "|    └─Conv2d: 2-20                      [-1, 512, 28, 28]         2,359,808\n",
            "|    └─ReLU: 2-21                        [-1, 512, 28, 28]         --\n",
            "|    └─Conv2d: 2-22                      [-1, 512, 28, 28]         2,359,808\n",
            "|    └─ReLU: 2-23                        [-1, 512, 28, 28]         --\n",
            "|    └─MaxPool2d: 2-24                   [-1, 512, 14, 14]         --\n",
            "|    └─Conv2d: 2-25                      [-1, 512, 14, 14]         2,359,808\n",
            "|    └─ReLU: 2-26                        [-1, 512, 14, 14]         --\n",
            "|    └─Conv2d: 2-27                      [-1, 512, 14, 14]         2,359,808\n",
            "|    └─ReLU: 2-28                        [-1, 512, 14, 14]         --\n",
            "|    └─Conv2d: 2-29                      [-1, 512, 14, 14]         2,359,808\n",
            "|    └─ReLU: 2-30                        [-1, 512, 14, 14]         --\n",
            "|    └─MaxPool2d: 2-31                   [-1, 512, 7, 7]           --\n",
            "├─AdaptiveAvgPool2d: 1-2                 [-1, 512, 7, 7]           --\n",
            "├─Sequential: 1-3                        [-1, 1000]                --\n",
            "|    └─Linear: 2-32                      [-1, 4096]                102,764,544\n",
            "|    └─ReLU: 2-33                        [-1, 4096]                --\n",
            "|    └─Dropout: 2-34                     [-1, 4096]                --\n",
            "|    └─Linear: 2-35                      [-1, 4096]                16,781,312\n",
            "|    └─ReLU: 2-36                        [-1, 4096]                --\n",
            "|    └─Dropout: 2-37                     [-1, 4096]                --\n",
            "|    └─Linear: 2-38                      [-1, 1000]                4,097,000\n",
            "==========================================================================================\n",
            "Total params: 138,357,544\n",
            "Trainable params: 138,357,544\n",
            "Non-trainable params: 0\n",
            "Total mult-adds (G): 15.61\n",
            "==========================================================================================\n",
            "Input size (MB): 0.57\n",
            "Forward/backward pass size (MB): 103.43\n",
            "Params size (MB): 527.79\n",
            "Estimated Total Size (MB): 631.80\n",
            "==========================================================================================\n"
          ]
        },
        {
          "output_type": "execute_result",
          "data": {
            "text/plain": [
              "==========================================================================================\n",
              "Layer (type:depth-idx)                   Output Shape              Param #\n",
              "==========================================================================================\n",
              "├─Sequential: 1-1                        [-1, 512, 7, 7]           --\n",
              "|    └─Conv2d: 2-1                       [-1, 64, 224, 224]        1,792\n",
              "|    └─ReLU: 2-2                         [-1, 64, 224, 224]        --\n",
              "|    └─Conv2d: 2-3                       [-1, 64, 224, 224]        36,928\n",
              "|    └─ReLU: 2-4                         [-1, 64, 224, 224]        --\n",
              "|    └─MaxPool2d: 2-5                    [-1, 64, 112, 112]        --\n",
              "|    └─Conv2d: 2-6                       [-1, 128, 112, 112]       73,856\n",
              "|    └─ReLU: 2-7                         [-1, 128, 112, 112]       --\n",
              "|    └─Conv2d: 2-8                       [-1, 128, 112, 112]       147,584\n",
              "|    └─ReLU: 2-9                         [-1, 128, 112, 112]       --\n",
              "|    └─MaxPool2d: 2-10                   [-1, 128, 56, 56]         --\n",
              "|    └─Conv2d: 2-11                      [-1, 256, 56, 56]         295,168\n",
              "|    └─ReLU: 2-12                        [-1, 256, 56, 56]         --\n",
              "|    └─Conv2d: 2-13                      [-1, 256, 56, 56]         590,080\n",
              "|    └─ReLU: 2-14                        [-1, 256, 56, 56]         --\n",
              "|    └─Conv2d: 2-15                      [-1, 256, 56, 56]         590,080\n",
              "|    └─ReLU: 2-16                        [-1, 256, 56, 56]         --\n",
              "|    └─MaxPool2d: 2-17                   [-1, 256, 28, 28]         --\n",
              "|    └─Conv2d: 2-18                      [-1, 512, 28, 28]         1,180,160\n",
              "|    └─ReLU: 2-19                        [-1, 512, 28, 28]         --\n",
              "|    └─Conv2d: 2-20                      [-1, 512, 28, 28]         2,359,808\n",
              "|    └─ReLU: 2-21                        [-1, 512, 28, 28]         --\n",
              "|    └─Conv2d: 2-22                      [-1, 512, 28, 28]         2,359,808\n",
              "|    └─ReLU: 2-23                        [-1, 512, 28, 28]         --\n",
              "|    └─MaxPool2d: 2-24                   [-1, 512, 14, 14]         --\n",
              "|    └─Conv2d: 2-25                      [-1, 512, 14, 14]         2,359,808\n",
              "|    └─ReLU: 2-26                        [-1, 512, 14, 14]         --\n",
              "|    └─Conv2d: 2-27                      [-1, 512, 14, 14]         2,359,808\n",
              "|    └─ReLU: 2-28                        [-1, 512, 14, 14]         --\n",
              "|    └─Conv2d: 2-29                      [-1, 512, 14, 14]         2,359,808\n",
              "|    └─ReLU: 2-30                        [-1, 512, 14, 14]         --\n",
              "|    └─MaxPool2d: 2-31                   [-1, 512, 7, 7]           --\n",
              "├─AdaptiveAvgPool2d: 1-2                 [-1, 512, 7, 7]           --\n",
              "├─Sequential: 1-3                        [-1, 1000]                --\n",
              "|    └─Linear: 2-32                      [-1, 4096]                102,764,544\n",
              "|    └─ReLU: 2-33                        [-1, 4096]                --\n",
              "|    └─Dropout: 2-34                     [-1, 4096]                --\n",
              "|    └─Linear: 2-35                      [-1, 4096]                16,781,312\n",
              "|    └─ReLU: 2-36                        [-1, 4096]                --\n",
              "|    └─Dropout: 2-37                     [-1, 4096]                --\n",
              "|    └─Linear: 2-38                      [-1, 1000]                4,097,000\n",
              "==========================================================================================\n",
              "Total params: 138,357,544\n",
              "Trainable params: 138,357,544\n",
              "Non-trainable params: 0\n",
              "Total mult-adds (G): 15.61\n",
              "==========================================================================================\n",
              "Input size (MB): 0.57\n",
              "Forward/backward pass size (MB): 103.43\n",
              "Params size (MB): 527.79\n",
              "Estimated Total Size (MB): 631.80\n",
              "=========================================================================================="
            ]
          },
          "metadata": {},
          "execution_count": 5
        }
      ]
    },
    {
      "cell_type": "markdown",
      "source": [
        "![Screenshot_20230130_171635.png](data:image/png;base64,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)"
      ],
      "metadata": {
        "id": "zf7l-8z7d1iO"
      }
    },
    {
      "cell_type": "markdown",
      "source": [
        "There are ~138 million parameters, of which ~122 million are at the end of the network, in the classification part. There are 13 convolutional layers and 3 linear layers."
      ],
      "metadata": {
        "id": "x7NnrBVud3De"
      }
    },
    {
      "cell_type": "code",
      "source": [
        "model"
      ],
      "metadata": {
        "colab": {
          "base_uri": "https://localhost:8080/"
        },
        "id": "sCtTBNxBeHzG",
        "outputId": "97c8fc8f-d488-4ee6-a5ef-9f0f2341c695"
      },
      "execution_count": 6,
      "outputs": [
        {
          "output_type": "execute_result",
          "data": {
            "text/plain": [
              "VGG(\n",
              "  (features): Sequential(\n",
              "    (0): Conv2d(3, 64, kernel_size=(3, 3), stride=(1, 1), padding=(1, 1))\n",
              "    (1): ReLU(inplace=True)\n",
              "    (2): Conv2d(64, 64, kernel_size=(3, 3), stride=(1, 1), padding=(1, 1))\n",
              "    (3): ReLU(inplace=True)\n",
              "    (4): MaxPool2d(kernel_size=2, stride=2, padding=0, dilation=1, ceil_mode=False)\n",
              "    (5): Conv2d(64, 128, kernel_size=(3, 3), stride=(1, 1), padding=(1, 1))\n",
              "    (6): ReLU(inplace=True)\n",
              "    (7): Conv2d(128, 128, kernel_size=(3, 3), stride=(1, 1), padding=(1, 1))\n",
              "    (8): ReLU(inplace=True)\n",
              "    (9): MaxPool2d(kernel_size=2, stride=2, padding=0, dilation=1, ceil_mode=False)\n",
              "    (10): Conv2d(128, 256, kernel_size=(3, 3), stride=(1, 1), padding=(1, 1))\n",
              "    (11): ReLU(inplace=True)\n",
              "    (12): Conv2d(256, 256, kernel_size=(3, 3), stride=(1, 1), padding=(1, 1))\n",
              "    (13): ReLU(inplace=True)\n",
              "    (14): Conv2d(256, 256, kernel_size=(3, 3), stride=(1, 1), padding=(1, 1))\n",
              "    (15): ReLU(inplace=True)\n",
              "    (16): MaxPool2d(kernel_size=2, stride=2, padding=0, dilation=1, ceil_mode=False)\n",
              "    (17): Conv2d(256, 512, kernel_size=(3, 3), stride=(1, 1), padding=(1, 1))\n",
              "    (18): ReLU(inplace=True)\n",
              "    (19): Conv2d(512, 512, kernel_size=(3, 3), stride=(1, 1), padding=(1, 1))\n",
              "    (20): ReLU(inplace=True)\n",
              "    (21): Conv2d(512, 512, kernel_size=(3, 3), stride=(1, 1), padding=(1, 1))\n",
              "    (22): ReLU(inplace=True)\n",
              "    (23): MaxPool2d(kernel_size=2, stride=2, padding=0, dilation=1, ceil_mode=False)\n",
              "    (24): Conv2d(512, 512, kernel_size=(3, 3), stride=(1, 1), padding=(1, 1))\n",
              "    (25): ReLU(inplace=True)\n",
              "    (26): Conv2d(512, 512, kernel_size=(3, 3), stride=(1, 1), padding=(1, 1))\n",
              "    (27): ReLU(inplace=True)\n",
              "    (28): Conv2d(512, 512, kernel_size=(3, 3), stride=(1, 1), padding=(1, 1))\n",
              "    (29): ReLU(inplace=True)\n",
              "    (30): MaxPool2d(kernel_size=2, stride=2, padding=0, dilation=1, ceil_mode=False)\n",
              "  )\n",
              "  (avgpool): AdaptiveAvgPool2d(output_size=(7, 7))\n",
              "  (classifier): Sequential(\n",
              "    (0): Linear(in_features=25088, out_features=4096, bias=True)\n",
              "    (1): ReLU(inplace=True)\n",
              "    (2): Dropout(p=0.5, inplace=False)\n",
              "    (3): Linear(in_features=4096, out_features=4096, bias=True)\n",
              "    (4): ReLU(inplace=True)\n",
              "    (5): Dropout(p=0.5, inplace=False)\n",
              "    (6): Linear(in_features=4096, out_features=1000, bias=True)\n",
              "  )\n",
              ")"
            ]
          },
          "metadata": {},
          "execution_count": 6
        }
      ]
    },
    {
      "cell_type": "markdown",
      "source": [
        "There are three major sub modules in the model, the features, the avgpool and the clasiffier. The features and the avgpool modules would be frozen while we delete the classifier module. We delete it and then attach our classifier we wish to train with the desired number of outputs instead of 1000 for our classes we want to predict.\n",
        "\n",
        "\n",
        "We will now use VGG16 network to classify images of dogs and cats, while training on a datasets that has only 500 images per class, 1000 images in total for class dog and for class cat."
      ],
      "metadata": {
        "id": "Z4nlT-TseX3G"
      }
    }
  ]
}