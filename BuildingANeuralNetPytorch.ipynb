{
  "nbformat": 4,
  "nbformat_minor": 0,
  "metadata": {
    "colab": {
      "provenance": [],
      "authorship_tag": "ABX9TyNwCs8cwdqSAwFSFWRySGVA",
      "include_colab_link": true
    },
    "kernelspec": {
      "name": "python3",
      "display_name": "Python 3"
    },
    "language_info": {
      "name": "python"
    },
    "accelerator": "GPU",
    "gpuClass": "standard"
  },
  "cells": [
    {
      "cell_type": "markdown",
      "metadata": {
        "id": "view-in-github",
        "colab_type": "text"
      },
      "source": [
        "<a href=\"https://colab.research.google.com/github/Voland24/ModernComputerVisionPytorch/blob/main/BuildingANeuralNetPytorch.ipynb\" target=\"_parent\"><img src=\"https://colab.research.google.com/assets/colab-badge.svg\" alt=\"Open In Colab\"/></a>"
      ]
    },
    {
      "cell_type": "code",
      "execution_count": 2,
      "metadata": {
        "id": "twXydKOE2OFe"
      },
      "outputs": [],
      "source": [
        "import torch\n",
        "import torch.nn as nn\n",
        "x = [[1,2],[3,4],[5,6],[7,8]] #input values\n",
        "y = [[3],[7],[11],[15]] #output values\n",
        "\n",
        "#trying to teach it addition\n",
        "\n",
        "X = torch.tensor(x).float()\n",
        "Y = torch.tensor(y).float()\n",
        "\n",
        "#Good practice to have tensors as floats or long ints\n",
        "\n",
        "device = 'cuda' if torch.cuda.is_available() else 'cpu'\n",
        "\n",
        "#transfer the tensors to the GPU mem\n",
        "X = X.to(device)\n",
        "Y = Y.to(device)\n",
        "\n"
      ]
    },
    {
      "cell_type": "markdown",
      "source": [
        "Defining a class to represent out NN model. We inherit the nn.MOdule class for all the functionalities neccessary.\n",
        "torch.nn offers various helpful functions built-in"
      ],
      "metadata": {
        "id": "lIG5w8HO4RFc"
      }
    },
    {
      "cell_type": "code",
      "source": [
        "class MyNeuralNet(nn.Module):\n",
        "  def __init__(self):\n",
        "    super().__init__()\n",
        "    self.input_to_hidden_layer = nn.Linear(2,8) #lineal layer w*x + b with 2 inputs and 8 outputs\n",
        "    self.hidden_layer_activation = nn.ReLU()\n",
        "    self.hidden_to_output_layer = nn.Linear(8,1) #same thing 8 ins and 1 out\n",
        "  def forward(self, x):\n",
        "    x = self.input_to_hidden_layer(x)\n",
        "    x = self.hidden_layer_activation(x)\n",
        "    x = self.hidden_to_output_layer(x)\n",
        "    return x\n",
        "    "
      ],
      "metadata": {
        "id": "5fZ5zZrp4cUe"
      },
      "execution_count": 3,
      "outputs": []
    },
    {
      "cell_type": "markdown",
      "source": [
        "Create our model and send it to the GPU memory"
      ],
      "metadata": {
        "id": "hn8nJx1w5EWV"
      }
    },
    {
      "cell_type": "code",
      "source": [
        "#torch.manual_seed(0) #keeps the weights initialized the same random way for each iter in the same runtime\n",
        "mynet = MyNeuralNet().to(device)"
      ],
      "metadata": {
        "id": "SDIg8sQf5J07"
      },
      "execution_count": 27,
      "outputs": []
    },
    {
      "cell_type": "markdown",
      "source": [
        "Just a sidenote, we can access the weights of the layers like so"
      ],
      "metadata": {
        "id": "LIlou7vz5Rze"
      }
    },
    {
      "cell_type": "code",
      "source": [
        "print(mynet.input_to_hidden_layer.weight)"
      ],
      "metadata": {
        "colab": {
          "base_uri": "https://localhost:8080/"
        },
        "id": "ff4QhszY5Xxs",
        "outputId": "915bb72b-8612-413d-f094-73bc318e7e88"
      },
      "execution_count": 28,
      "outputs": [
        {
          "output_type": "stream",
          "name": "stdout",
          "text": [
            "Parameter containing:\n",
            "tensor([[-0.3255, -0.4940],\n",
            "        [-0.6622, -0.4128],\n",
            "        [ 0.6078,  0.3155],\n",
            "        [ 0.3427,  0.0372],\n",
            "        [-0.3625,  0.1196],\n",
            "        [-0.6602, -0.5109],\n",
            "        [-0.3645,  0.4461],\n",
            "        [ 0.4146, -0.3136]], device='cuda:0', requires_grad=True)\n"
          ]
        }
      ]
    },
    {
      "cell_type": "markdown",
      "source": [
        "We are predicting a continious output i.e. a regression problem, so we can choose our output function to be the MeanSquaredErrorLoss\n"
      ],
      "metadata": {
        "id": "-Ck-hBxw5_AJ"
      }
    },
    {
      "cell_type": "code",
      "source": [
        "loss_func = nn.MSELoss()"
      ],
      "metadata": {
        "id": "CG5cM3Dt6Hk2"
      },
      "execution_count": 29,
      "outputs": []
    },
    {
      "cell_type": "markdown",
      "source": [
        "How to use and calculate the loss function value?"
      ],
      "metadata": {
        "id": "WmsDoFfY6OWN"
      }
    },
    {
      "cell_type": "code",
      "source": [
        "_Y = mynet(X)\n",
        "loss_value = loss_func(_Y,Y) #torch convention, always send in form (prediction, ground_truth)\n",
        "print(loss_value)"
      ],
      "metadata": {
        "colab": {
          "base_uri": "https://localhost:8080/"
        },
        "id": "WizcZQjy6SaO",
        "outputId": "77516291-3f36-48ee-b746-4c6ad3ae2b77"
      },
      "execution_count": 30,
      "outputs": [
        {
          "output_type": "stream",
          "name": "stdout",
          "text": [
            "tensor(112.4196, device='cuda:0', grad_fn=<MseLossBackward0>)\n"
          ]
        }
      ]
    },
    {
      "cell_type": "markdown",
      "source": [
        "Just a sidenote, how to see the model parameters"
      ],
      "metadata": {
        "id": "7WNFP33q69vk"
      }
    },
    {
      "cell_type": "code",
      "source": [
        "for param in mynet.parameters():\n",
        "  print(param)"
      ],
      "metadata": {
        "colab": {
          "base_uri": "https://localhost:8080/"
        },
        "id": "6uDEhSWq7BPW",
        "outputId": "516082c7-79ab-4f28-8160-feaa1087e95d"
      },
      "execution_count": 14,
      "outputs": [
        {
          "output_type": "stream",
          "name": "stdout",
          "text": [
            "Parameter containing:\n",
            "tensor([[-0.0053,  0.3793],\n",
            "        [-0.5820, -0.5204],\n",
            "        [-0.2723,  0.1896],\n",
            "        [-0.0140,  0.5607],\n",
            "        [-0.0628,  0.1871],\n",
            "        [-0.2137, -0.1390],\n",
            "        [-0.6755, -0.4683],\n",
            "        [-0.2915,  0.0262]], device='cuda:0', requires_grad=True)\n",
            "Parameter containing:\n",
            "tensor([ 0.2795,  0.4243, -0.4794, -0.3079,  0.2568,  0.5872, -0.1455,  0.5291],\n",
            "       device='cuda:0', requires_grad=True)\n",
            "Parameter containing:\n",
            "tensor([[-0.0570,  0.0374,  0.3201, -0.3280, -0.2226, -0.0895, -0.1378,  0.3055]],\n",
            "       device='cuda:0', requires_grad=True)\n",
            "Parameter containing:\n",
            "tensor([-0.2292], device='cuda:0', requires_grad=True)\n"
          ]
        }
      ]
    },
    {
      "cell_type": "markdown",
      "source": [
        "Now we have the neural net and the loss func, we have to define the optimizer that we will use to reduce the loss error value"
      ],
      "metadata": {
        "id": "k3dAVb8p6lEB"
      }
    },
    {
      "cell_type": "code",
      "source": [
        "from torch.optim import SGD\n",
        "opt = SGD(mynet.parameters(), lr = 0.001)"
      ],
      "metadata": {
        "id": "kZSfaIBj6vAK"
      },
      "execution_count": 31,
      "outputs": []
    },
    {
      "cell_type": "markdown",
      "source": [
        "The training process is as follows:\n",
        "\n",
        "1.   We flushg the previous epochs grads\n",
        "2.   we compute the loss function on the current params\n",
        "3. we perform the backpass\n",
        "4. we update the params based on their grads\n",
        "\n",
        "\n",
        "\n"
      ],
      "metadata": {
        "id": "psnIrwqg7I4X"
      }
    },
    {
      "cell_type": "code",
      "source": [
        "loss_history = []\n",
        "for _ in range(50): #number of epochs is 50\n",
        "  opt.zero_grad() #flush the prev grads\n",
        "  loss_value = loss_func(mynet(X), Y) #calc the loss func\n",
        "  loss_value.backward() #the backpass\n",
        "  opt.step() #calculate and update the grads of all the weights and biases\n",
        "  loss_history.append(loss_value)\n",
        "\n",
        "print(type(loss_history))"
      ],
      "metadata": {
        "colab": {
          "base_uri": "https://localhost:8080/"
        },
        "id": "IzckQPGo7Vq8",
        "outputId": "b74321cb-4351-4462-f545-150a31ee7ede"
      },
      "execution_count": 32,
      "outputs": [
        {
          "output_type": "stream",
          "name": "stdout",
          "text": [
            "<class 'list'>\n"
          ]
        }
      ]
    },
    {
      "cell_type": "code",
      "source": [
        "\n",
        "val_x = [[10,11]]\n",
        "\n",
        "val_x = torch.tensor(val_x).float().to(device)\n",
        "\n",
        "mynet(val_x)"
      ],
      "metadata": {
        "colab": {
          "base_uri": "https://localhost:8080/"
        },
        "id": "3ODiEwzzCZk7",
        "outputId": "333185be-4a2f-407d-c2ef-2833baffd07f"
      },
      "execution_count": 45,
      "outputs": [
        {
          "output_type": "execute_result",
          "data": {
            "text/plain": [
              "tensor([[20.5834]], device='cuda:0', grad_fn=<AddmmBackward0>)"
            ]
          },
          "metadata": {},
          "execution_count": 45
        }
      ]
    },
    {
      "cell_type": "markdown",
      "source": [
        "Plot the loss over epoch graph to see if the model is learning"
      ],
      "metadata": {
        "id": "_TYZ558G7-ak"
      }
    },
    {
      "cell_type": "code",
      "source": [
        "import matplotlib.pyplot as plt\n",
        "%matplotlib inline\n",
        "plt.plot(torch.tensor(loss_history).detach().numpy())\n",
        "plt.title('Loss func value over epochs')\n",
        "plt.xlabel('Epochs')\n",
        "plt.ylabel('Loss func value')"
      ],
      "metadata": {
        "colab": {
          "base_uri": "https://localhost:8080/",
          "height": 312
        },
        "id": "Q0C8K4Xd8CpS",
        "outputId": "202fe8ab-0f02-44f2-b081-4c40dc5839e8"
      },
      "execution_count": 33,
      "outputs": [
        {
          "output_type": "execute_result",
          "data": {
            "text/plain": [
              "Text(0, 0.5, 'Loss func value')"
            ]
          },
          "metadata": {},
          "execution_count": 33
        },
        {
          "output_type": "display_data",
          "data": {
            "text/plain": [
              "<Figure size 432x288 with 1 Axes>"
            ],
            "image/png": "[encoded data removed]"
          },
          "metadata": {
            "needs_background": "light"
          }
        }
      ]
    },
    {
      "cell_type": "markdown",
      "source": [
        "We can see the model is learning and that the loss function is approaching 0 asa the epochs  go on"
      ],
      "metadata": {
        "id": "OjbgLDbX9t0Z"
      }
    },
    {
      "cell_type": "markdown",
      "source": [
        "# **Batch size and dataloaders**\n",
        "\n",
        "Batch size is an important part of designing a NN to consider and it's a hyperparameter. It describes just how many datapoint will we use to calculate the gradients i.e the loss value and update the params in a backpass\n",
        "\n",
        "This comes to prominence especially when we consider datasets to have several milion datapoints and running GD on all of them every time we want to calculate the gradients is going to be very slow, although very precise. \n",
        "We will use the batch to retreive a representative sample of the data that is going to be a good enough of a approximation of the whole dataset.\n"
      ],
      "metadata": {
        "id": "Kea8QJMo909C"
      }
    },
    {
      "cell_type": "code",
      "source": [
        "from torch.utils.data import Dataset, DataLoader\n",
        "\n",
        "class MyDataset(Dataset):\n",
        "  def __init__(self, x, y):\n",
        "    self.x = x.clone().detach().requires_grad_(True)#torch.tensor(x).float()\n",
        "    self.y = y.clone().detach().requires_grad_(True)\n",
        "  def __len__(self):\n",
        "    return len(self.x)\n",
        "  def __getitem__(self, index):\n",
        "    return self.x[index], self.y[index]  #fetching the 'index' row of both datasets"
      ],
      "metadata": {
        "id": "rIzlhwb7_Tey"
      },
      "execution_count": 37,
      "outputs": []
    },
    {
      "cell_type": "code",
      "source": [
        "ds = MyDataset(X, Y)"
      ],
      "metadata": {
        "id": "FN2pHtRA__ax"
      },
      "execution_count": 38,
      "outputs": []
    },
    {
      "cell_type": "markdown",
      "source": [
        "We can use the DataLoader class to easily fetch a specifed size or batch of examples from the given dataset"
      ],
      "metadata": {
        "id": "vDuNnEXzAYFj"
      }
    },
    {
      "cell_type": "code",
      "source": [
        "d1 = DataLoader(ds, batch_size = 2, shuffle = True) #shuffle just means that the examples in the batch are randomly chosen\n"
      ],
      "metadata": {
        "id": "86ICsITQAewU"
      },
      "execution_count": 39,
      "outputs": []
    },
    {
      "cell_type": "markdown",
      "source": [
        "Example of usage"
      ],
      "metadata": {
        "id": "PhWYQZA_ArXf"
      }
    },
    {
      "cell_type": "code",
      "source": [
        "for x, y in d1:\n",
        "  print(x,y)"
      ],
      "metadata": {
        "colab": {
          "base_uri": "https://localhost:8080/"
        },
        "id": "RpwEzIw1As8N",
        "outputId": "47dc627e-93ae-4ce7-afd9-776301a756e8"
      },
      "execution_count": 40,
      "outputs": [
        {
          "output_type": "stream",
          "name": "stdout",
          "text": [
            "tensor([[5., 6.],\n",
            "        [1., 2.]], device='cuda:0', grad_fn=<StackBackward0>) tensor([[11.],\n",
            "        [ 3.]], device='cuda:0', grad_fn=<StackBackward0>)\n",
            "tensor([[7., 8.],\n",
            "        [3., 4.]], device='cuda:0', grad_fn=<StackBackward0>) tensor([[15.],\n",
            "        [ 7.]], device='cuda:0', grad_fn=<StackBackward0>)\n"
          ]
        }
      ]
    },
    {
      "cell_type": "markdown",
      "source": [
        "Now we are going to train the NN again, this time using batch GD, meaning we will perform more tham one update per epoch, epoch being looping through the entire dataset once, and we are updating per batch\n",
        "\n",
        "In the example given above, we performed the updates on batch size = 4 i.e the entire dataset per epoch i.e once per epoch.\n",
        "Here the batch size is 2 meaning we have 2X updates per epoch"
      ],
      "metadata": {
        "id": "rHaI3QIvA2Nt"
      }
    },
    {
      "cell_type": "code",
      "source": [
        "import time\n",
        "loss_history = []\n",
        "start = time.time()\n",
        "for _ in range(50):\n",
        "  for data in d1:\n",
        "    x,y = data\n",
        "    opt.zero_grad()\n",
        "    loss_value = loss_func(mynet(x), y)\n",
        "    loss_value.backward()\n",
        "    opt.step()\n",
        "    loss_history.append(loss_value)\n",
        "end = time.time()\n",
        "print(end - start)"
      ],
      "metadata": {
        "colab": {
          "base_uri": "https://localhost:8080/"
        },
        "id": "4Cew1s7iBCPb",
        "outputId": "5ef2a2c2-c4c2-4a96-937d-c58a340e56c0"
      },
      "execution_count": 42,
      "outputs": [
        {
          "output_type": "stream",
          "name": "stdout",
          "text": [
            "0.11580109596252441\n"
          ]
        }
      ]
    },
    {
      "cell_type": "markdown",
      "source": [
        "How to predict new values?"
      ],
      "metadata": {
        "id": "NDOugIOuCJCH"
      }
    },
    {
      "cell_type": "code",
      "source": [
        "#create a test example\n",
        "\n",
        "val_x = [[10,11]]\n",
        "\n",
        "val_x = torch.tensor(val_x).float().to(device)\n",
        "\n",
        "mynet(val_x)"
      ],
      "metadata": {
        "colab": {
          "base_uri": "https://localhost:8080/"
        },
        "id": "5mYgm3VECLKw",
        "outputId": "8183d3bd-6815-4f0f-d0aa-e28e6d0f488a"
      },
      "execution_count": 44,
      "outputs": [
        {
          "output_type": "execute_result",
          "data": {
            "text/plain": [
              "tensor([[20.5834]], device='cuda:0', grad_fn=<AddmmBackward0>)"
            ]
          },
          "metadata": {},
          "execution_count": 44
        }
      ]
    },
    {
      "cell_type": "markdown",
      "source": [
        "# **Custom loss functions**\n",
        "\n",
        "Somtimes there is a need to define custom loss functions, tailored to our specific problem. This is the case with GANs or object detection problems etc.\n",
        "\n",
        "We will implement and use the MSE loss "
      ],
      "metadata": {
        "id": "vPQwnxXICk37"
      }
    },
    {
      "cell_type": "code",
      "source": [
        "def my_mean_squared_error(_y, y):\n",
        "  loss = (_y - y) ** 2\n",
        "  loss = loss.mean()\n",
        "  return loss\n",
        "\n",
        "#sanity scheck\n",
        "\n",
        "print(loss_func(mynet(X), Y))\n",
        "print(my_mean_squared_error(mynet(X), Y))"
      ],
      "metadata": {
        "colab": {
          "base_uri": "https://localhost:8080/"
        },
        "id": "0imgFzosC1s4",
        "outputId": "dff9d932-62db-4d01-fe1b-8720c89cf94d"
      },
      "execution_count": 47,
      "outputs": [
        {
          "output_type": "stream",
          "name": "stdout",
          "text": [
            "tensor(0.0433, device='cuda:0', grad_fn=<MseLossBackward0>)\n",
            "tensor(0.0433, device='cuda:0', grad_fn=<MeanBackward0>)\n"
          ]
        }
      ]
    },
    {
      "cell_type": "markdown",
      "source": [
        "# **Looking at hidden layers outputs**\n",
        "\n",
        "This will come in handy in transfer learning, for example looking the output of the CNN layer, the last layer and extracting its feature mapping of the input values i.e image.\n"
      ],
      "metadata": {
        "id": "_2L87HNjDc0p"
      }
    },
    {
      "cell_type": "code",
      "source": [
        "#We can call them like functions\n",
        "\n",
        "input_to_hidden = mynet.input_to_hidden_layer(X)\n",
        "hidden_activation = mynet.hidden_layer_activation(input_to_hidden)\n",
        "\n",
        "print(hidden_activation)"
      ],
      "metadata": {
        "colab": {
          "base_uri": "https://localhost:8080/"
        },
        "id": "J6ARdeYGDqo0",
        "outputId": "003d92ee-7260-481d-d2aa-1e95889f443c"
      },
      "execution_count": 48,
      "outputs": [
        {
          "output_type": "stream",
          "name": "stdout",
          "text": [
            "tensor([[ 0.0000,  0.0000,  2.4913,  1.6628,  0.0000,  0.0000,  0.5450,  0.6073],\n",
            "        [ 0.0000,  0.0000,  5.0791,  3.6700,  0.0000,  0.0000,  1.2647,  1.6914],\n",
            "        [ 0.0000,  0.0000,  7.6668,  5.6772,  0.0000,  0.0000,  1.9844,  2.7755],\n",
            "        [ 0.0000,  0.0000, 10.2546,  7.6845,  0.0000,  0.0000,  2.7041,  3.8595]],\n",
            "       device='cuda:0', grad_fn=<ReluBackward0>)\n"
          ]
        }
      ]
    },
    {
      "cell_type": "markdown",
      "source": [
        "Or we can add in the forward method of the neural net to return not only the last output but however many outputs we want from whatever layers we choose"
      ],
      "metadata": {
        "id": "AKsOz5QFD7Vn"
      }
    }
  ]
}