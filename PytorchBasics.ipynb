{
  "nbformat": 4,
  "nbformat_minor": 0,
  "metadata": {
    "colab": {
      "provenance": [],
      "authorship_tag": "ABX9TyMWj9JmrGo2hOUiNC8R8XXZ",
      "include_colab_link": true
    },
    "kernelspec": {
      "name": "python3",
      "display_name": "Python 3"
    },
    "language_info": {
      "name": "python"
    }
  },
  "cells": [
    {
      "cell_type": "markdown",
      "metadata": {
        "id": "view-in-github",
        "colab_type": "text"
      },
      "source": [
        "<a href=\"https://colab.research.google.com/github/Voland24/ModernComputerVisionPytorch/blob/main/PytorchBasics.ipynb\" target=\"_parent\"><img src=\"https://colab.research.google.com/assets/colab-badge.svg\" alt=\"Open In Colab\"/></a>"
      ]
    },
    {
      "cell_type": "code",
      "execution_count": 4,
      "metadata": {
        "colab": {
          "base_uri": "https://localhost:8080/"
        },
        "id": "YMIv90z4neFW",
        "outputId": "8ee6298f-82d6-4d85-ac01-cfa9a7ba5ce8"
      },
      "outputs": [
        {
          "output_type": "stream",
          "name": "stdout",
          "text": [
            "torch.Size([1, 2])\n",
            "torch.Size([2, 1])\n"
          ]
        }
      ],
      "source": [
        "import torch\n",
        "import numpy as np\n",
        "x = torch.tensor([[1,2]])\n",
        "y = torch.tensor([[1], [2]])\n",
        "print(x.shape)\n",
        "print(y.shape)"
      ]
    },
    {
      "cell_type": "markdown",
      "source": [
        "Torch automatically converts all the data in a tensor in its most general form. Since all its data must be the same type"
      ],
      "metadata": {
        "id": "-zSmTB0vn_Il"
      }
    },
    {
      "cell_type": "code",
      "source": [
        "x = torch.tensor([False, 1, 10, 2.0])\n",
        "print(x)\n",
        "print(x.shape)"
      ],
      "metadata": {
        "colab": {
          "base_uri": "https://localhost:8080/"
        },
        "id": "4SjU6PwCoLP9",
        "outputId": "9d3e3657-7028-42ff-8288-fc76c515765c"
      },
      "execution_count": 3,
      "outputs": [
        {
          "output_type": "stream",
          "name": "stdout",
          "text": [
            "tensor([ 0.,  1., 10.,  2.])\n",
            "torch.Size([4])\n"
          ]
        }
      ]
    },
    {
      "cell_type": "markdown",
      "source": [
        "Different ways to init a tensor"
      ],
      "metadata": {
        "id": "Tffm6QRwoZG8"
      }
    },
    {
      "cell_type": "code",
      "source": [
        "torch.zeros((3,4))\n",
        "torch.ones((3,4))\n",
        "torch.randint(low = 0, high = 10, size = (3,4)) #without the 10\n",
        "torch.rand(3,4) #rand numbers from 0 to 1\n",
        "\n",
        "x = np.array([[10,20,30],[2,3,4]])\n",
        "y = torch.tensor(x)\n",
        "print(type(x))\n",
        "print(type(y))\n",
        "print(x.shape)\n",
        "print(y.shape)"
      ],
      "metadata": {
        "colab": {
          "base_uri": "https://localhost:8080/"
        },
        "id": "yEdhgZRbocZ4",
        "outputId": "7d766daa-44af-472b-8cc9-3cc2afc49ca7"
      },
      "execution_count": 8,
      "outputs": [
        {
          "output_type": "stream",
          "name": "stdout",
          "text": [
            "<class 'numpy.ndarray'>\n",
            "<class 'torch.Tensor'>\n",
            "(2, 3)\n",
            "torch.Size([2, 3])\n"
          ]
        }
      ]
    },
    {
      "cell_type": "markdown",
      "source": [
        "**Operations on tensors**"
      ],
      "metadata": {
        "id": "_KDfcnE_pR69"
      }
    },
    {
      "cell_type": "code",
      "source": [
        "x = torch.tensor([[1,2,3,4],[5,6,7,8]])\n",
        "print( x * 10)\n",
        "y = x.add(10)\n",
        "print(y)\n",
        "\n",
        "#rehsape\n",
        "print(\"RESHAPE\")\n",
        "y = torch.randint(low = 1, high = 11, size = (4,1))\n",
        "print(y)\n",
        "\n",
        "y = y.view(1,4)\n",
        "print(y)\n",
        "\n",
        "#squeeze, removing dim size of 1, for a given axis\n",
        "print(\"SQUEEZE\")\n",
        "x = torch.randn(10,1,10) #rand from 0 - 1 in shape (10,1,10)\n",
        "print(x.shape)\n",
        "\n",
        "y = torch.squeeze(x,1) #1 here means in the 2nd dim\n",
        "z = x.squeeze(1)\n",
        "\n",
        "assert torch.all(y == z)\n",
        "print(z.shape)\n",
        "print(y.shape)\n",
        "\n",
        "\n",
        "#unsqueeze means the opposite, we add a dim where we specify\n",
        "print(\"UNSQUEEZE\")\n",
        "x = torch.randn(10,10)\n",
        "print(x.shape)\n",
        "\n",
        "y = x.unsqueeze(0)\n",
        "print(y.shape)\n",
        "\n",
        "#we can also do this with None\n",
        "\n",
        "x = torch.randn(10,10)\n",
        "y1, y2, y3 = x[None], x[:None], x[:,:,None]\n",
        "print(\"WITH NONE\")\n",
        "print(y1.shape)\n",
        "print(y2.shape)\n",
        "print(y3.shape)"
      ],
      "metadata": {
        "colab": {
          "base_uri": "https://localhost:8080/"
        },
        "id": "aELWo0eWpVs4",
        "outputId": "f9b321f9-d052-4b31-aec9-b4cb9acf47b2"
      },
      "execution_count": 21,
      "outputs": [
        {
          "output_type": "stream",
          "name": "stdout",
          "text": [
            "tensor([[10, 20, 30, 40],\n",
            "        [50, 60, 70, 80]])\n",
            "tensor([[11, 12, 13, 14],\n",
            "        [15, 16, 17, 18]])\n",
            "RESHAPE\n",
            "tensor([[9],\n",
            "        [1],\n",
            "        [5],\n",
            "        [8]])\n",
            "tensor([[9, 1, 5, 8]])\n",
            "SQUEEZE\n",
            "torch.Size([10, 1, 10])\n",
            "torch.Size([10, 10])\n",
            "torch.Size([10, 10])\n",
            "UNSQUEEZE\n",
            "torch.Size([10, 10])\n",
            "torch.Size([1, 10, 10])\n",
            "WITH NONE\n",
            "torch.Size([1, 10, 10])\n",
            "torch.Size([10, 10])\n",
            "torch.Size([10, 10, 1])\n"
          ]
        }
      ]
    },
    {
      "cell_type": "markdown",
      "source": [
        "#**Multiplication ops on tensors**"
      ],
      "metadata": {
        "id": "-htuCRDcrik1"
      }
    },
    {
      "cell_type": "code",
      "source": [
        "x = torch.tensor([[1,2,3,4],[5,6,7,8]])\n",
        "y = torch.tensor([[10,11,12,13]])\n",
        "print(\"MULTIPLYING\")\n",
        "print(x.shape)\n",
        "print(y.shape)\n",
        "print(torch.matmul(x, y.T))\n",
        "print(torch.matmul(x, y.T).shape)\n",
        "\n",
        "\n",
        "#We can also achieve this with the @ operator\n",
        "\n",
        "print(x@y.T)\n",
        "\n",
        "#we can concatenate two tensors\n",
        "print(\"CONCAT\")\n",
        "x = torch.randn(10,10)\n",
        "y = torch.cat([x,x], axis = 0)\n",
        "z = torch.cat([x,x], axis = 1)\n",
        "print(f\"x shape {x.shape} y shape {y.shape}\") #added more rows\n",
        "print(f\"z shape {z.shape}\") #added more columns"
      ],
      "metadata": {
        "colab": {
          "base_uri": "https://localhost:8080/"
        },
        "id": "eojWRMRlrmj2",
        "outputId": "badadd6f-364f-4892-8ab8-41c76e4b8818"
      },
      "execution_count": 31,
      "outputs": [
        {
          "output_type": "stream",
          "name": "stdout",
          "text": [
            "MULTIPLYING\n",
            "torch.Size([2, 4])\n",
            "torch.Size([1, 4])\n",
            "tensor([[120],\n",
            "        [304]])\n",
            "torch.Size([2, 1])\n",
            "tensor([[120],\n",
            "        [304]])\n",
            "CONCAT\n",
            "x shape torch.Size([10, 10]) y shape torch.Size([20, 10])\n",
            "z shape torch.Size([10, 20])\n"
          ]
        }
      ]
    },
    {
      "cell_type": "markdown",
      "source": [
        "#**Max and min values**"
      ],
      "metadata": {
        "id": "Teq1EhebtQyJ"
      }
    },
    {
      "cell_type": "code",
      "source": [
        "x = torch.arange(25).reshape(5,5)\n",
        "print(x)\n",
        "print(x.shape)\n",
        "print(x.max())\n",
        "print(x.max(dim = 0)) #the row with the highest values\n",
        "print(x.max(dim = 1)) #the column with the highest values\n",
        "\n",
        "#the min operator behaves exactly the same\n"
      ],
      "metadata": {
        "colab": {
          "base_uri": "https://localhost:8080/"
        },
        "id": "lAKsO4a4tTK3",
        "outputId": "d250b10c-952f-48b9-ee11-9a818ff33bc9"
      },
      "execution_count": 37,
      "outputs": [
        {
          "output_type": "stream",
          "name": "stdout",
          "text": [
            "tensor([[ 0,  1,  2,  3,  4],\n",
            "        [ 5,  6,  7,  8,  9],\n",
            "        [10, 11, 12, 13, 14],\n",
            "        [15, 16, 17, 18, 19],\n",
            "        [20, 21, 22, 23, 24]])\n",
            "torch.Size([5, 5])\n",
            "tensor(24)\n",
            "torch.return_types.max(\n",
            "values=tensor([20, 21, 22, 23, 24]),\n",
            "indices=tensor([4, 4, 4, 4, 4]))\n",
            "torch.return_types.max(\n",
            "values=tensor([ 4,  9, 14, 19, 24]),\n",
            "indices=tensor([4, 4, 4, 4, 4]))\n"
          ]
        }
      ]
    },
    {
      "cell_type": "code",
      "source": [
        "#We can also permute the dims of a tensor\n",
        "\n",
        "x = torch.randn(10,20,30)\n",
        "y = x.permute(2,0,1)\n",
        "print(y.shape)\n",
        "\n",
        "\n",
        "#use view to reshape the tensor and permute if we need to permute its dims, NEVER use view for permuting"
      ],
      "metadata": {
        "colab": {
          "base_uri": "https://localhost:8080/"
        },
        "id": "BVYjDR5kuOqC",
        "outputId": "a4be0f65-de9d-4372-c8ae-b1b2c0abb3a5"
      },
      "execution_count": 39,
      "outputs": [
        {
          "output_type": "stream",
          "name": "stdout",
          "text": [
            "torch.Size([30, 10, 20])\n"
          ]
        }
      ]
    }
  ]
}