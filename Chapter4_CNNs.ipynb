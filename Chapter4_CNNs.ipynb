{
  "nbformat": 4,
  "nbformat_minor": 0,
  "metadata": {
    "colab": {
      "provenance": [],
      "authorship_tag": "ABX9TyO8BA6GL1O3gDiGA1eQTqpE",
      "include_colab_link": true
    },
    "kernelspec": {
      "name": "python3",
      "display_name": "Python 3"
    },
    "language_info": {
      "name": "python"
    },
    "accelerator": "GPU",
    "gpuClass": "standard",
    "widgets": {
      "application/vnd.jupyter.widget-state+json": {
        "68535240fa7149d09fe2f717c83078ce": {
          "model_module": "@jupyter-widgets/controls",
          "model_name": "HBoxModel",
          "model_module_version": "1.5.0",
          "state": {
            "_dom_classes": [],
            "_model_module": "@jupyter-widgets/controls",
            "_model_module_version": "1.5.0",
            "_model_name": "HBoxModel",
            "_view_count": null,
            "_view_module": "@jupyter-widgets/controls",
            "_view_module_version": "1.5.0",
            "_view_name": "HBoxView",
            "box_style": "",
            "children": [
              "IPY_MODEL_ac7c2f1e96314945bf3b9ae514dbc475",
              "IPY_MODEL_1bced3175a01495d966856b3009d971c",
              "IPY_MODEL_a55edb54ac1b4cdd86b0ac369a8169b8"
            ],
            "layout": "IPY_MODEL_bcd19c1cde7f4bd9b07a700f437d63bf"
          }
        },
        "ac7c2f1e96314945bf3b9ae514dbc475": {
          "model_module": "@jupyter-widgets/controls",
          "model_name": "HTMLModel",
          "model_module_version": "1.5.0",
          "state": {
            "_dom_classes": [],
            "_model_module": "@jupyter-widgets/controls",
            "_model_module_version": "1.5.0",
            "_model_name": "HTMLModel",
            "_view_count": null,
            "_view_module": "@jupyter-widgets/controls",
            "_view_module_version": "1.5.0",
            "_view_name": "HTMLView",
            "description": "",
            "description_tooltip": null,
            "layout": "IPY_MODEL_bb0d0388dfa54a0bbac43d79c2266056",
            "placeholder": "​",
            "style": "IPY_MODEL_0cfe3f61f79b48df872d541c8f025212",
            "value": "100%"
          }
        },
        "1bced3175a01495d966856b3009d971c": {
          "model_module": "@jupyter-widgets/controls",
          "model_name": "FloatProgressModel",
          "model_module_version": "1.5.0",
          "state": {
            "_dom_classes": [],
            "_model_module": "@jupyter-widgets/controls",
            "_model_module_version": "1.5.0",
            "_model_name": "FloatProgressModel",
            "_view_count": null,
            "_view_module": "@jupyter-widgets/controls",
            "_view_module_version": "1.5.0",
            "_view_name": "ProgressView",
            "bar_style": "success",
            "description": "",
            "description_tooltip": null,
            "layout": "IPY_MODEL_ab69fd3b34654d6db718342a7d226b51",
            "max": 26421880,
            "min": 0,
            "orientation": "horizontal",
            "style": "IPY_MODEL_5ae173979acc47ffbaaae23398b4f0a8",
            "value": 26421880
          }
        },
        "a55edb54ac1b4cdd86b0ac369a8169b8": {
          "model_module": "@jupyter-widgets/controls",
          "model_name": "HTMLModel",
          "model_module_version": "1.5.0",
          "state": {
            "_dom_classes": [],
            "_model_module": "@jupyter-widgets/controls",
            "_model_module_version": "1.5.0",
            "_model_name": "HTMLModel",
            "_view_count": null,
            "_view_module": "@jupyter-widgets/controls",
            "_view_module_version": "1.5.0",
            "_view_name": "HTMLView",
            "description": "",
            "description_tooltip": null,
            "layout": "IPY_MODEL_bf1c165d7e554fbdb02040b00ed10a5c",
            "placeholder": "​",
            "style": "IPY_MODEL_0fc0dab70488444e8f980e4d7109a2f5",
            "value": " 26421880/26421880 [00:00&lt;00:00, 111875481.03it/s]"
          }
        },
        "bcd19c1cde7f4bd9b07a700f437d63bf": {
          "model_module": "@jupyter-widgets/base",
          "model_name": "LayoutModel",
          "model_module_version": "1.2.0",
          "state": {
            "_model_module": "@jupyter-widgets/base",
            "_model_module_version": "1.2.0",
            "_model_name": "LayoutModel",
            "_view_count": null,
            "_view_module": "@jupyter-widgets/base",
            "_view_module_version": "1.2.0",
            "_view_name": "LayoutView",
            "align_content": null,
            "align_items": null,
            "align_self": null,
            "border": null,
            "bottom": null,
            "display": null,
            "flex": null,
            "flex_flow": null,
            "grid_area": null,
            "grid_auto_columns": null,
            "grid_auto_flow": null,
            "grid_auto_rows": null,
            "grid_column": null,
            "grid_gap": null,
            "grid_row": null,
            "grid_template_areas": null,
            "grid_template_columns": null,
            "grid_template_rows": null,
            "height": null,
            "justify_content": null,
            "justify_items": null,
            "left": null,
            "margin": null,
            "max_height": null,
            "max_width": null,
            "min_height": null,
            "min_width": null,
            "object_fit": null,
            "object_position": null,
            "order": null,
            "overflow": null,
            "overflow_x": null,
            "overflow_y": null,
            "padding": null,
            "right": null,
            "top": null,
            "visibility": null,
            "width": null
          }
        },
        "bb0d0388dfa54a0bbac43d79c2266056": {
          "model_module": "@jupyter-widgets/base",
          "model_name": "LayoutModel",
          "model_module_version": "1.2.0",
          "state": {
            "_model_module": "@jupyter-widgets/base",
            "_model_module_version": "1.2.0",
            "_model_name": "LayoutModel",
            "_view_count": null,
            "_view_module": "@jupyter-widgets/base",
            "_view_module_version": "1.2.0",
            "_view_name": "LayoutView",
            "align_content": null,
            "align_items": null,
            "align_self": null,
            "border": null,
            "bottom": null,
            "display": null,
            "flex": null,
            "flex_flow": null,
            "grid_area": null,
            "grid_auto_columns": null,
            "grid_auto_flow": null,
            "grid_auto_rows": null,
            "grid_column": null,
            "grid_gap": null,
            "grid_row": null,
            "grid_template_areas": null,
            "grid_template_columns": null,
            "grid_template_rows": null,
            "height": null,
            "justify_content": null,
            "justify_items": null,
            "left": null,
            "margin": null,
            "max_height": null,
            "max_width": null,
            "min_height": null,
            "min_width": null,
            "object_fit": null,
            "object_position": null,
            "order": null,
            "overflow": null,
            "overflow_x": null,
            "overflow_y": null,
            "padding": null,
            "right": null,
            "top": null,
            "visibility": null,
            "width": null
          }
        },
        "0cfe3f61f79b48df872d541c8f025212": {
          "model_module": "@jupyter-widgets/controls",
          "model_name": "DescriptionStyleModel",
          "model_module_version": "1.5.0",
          "state": {
            "_model_module": "@jupyter-widgets/controls",
            "_model_module_version": "1.5.0",
            "_model_name": "DescriptionStyleModel",
            "_view_count": null,
            "_view_module": "@jupyter-widgets/base",
            "_view_module_version": "1.2.0",
            "_view_name": "StyleView",
            "description_width": ""
          }
        },
        "ab69fd3b34654d6db718342a7d226b51": {
          "model_module": "@jupyter-widgets/base",
          "model_name": "LayoutModel",
          "model_module_version": "1.2.0",
          "state": {
            "_model_module": "@jupyter-widgets/base",
            "_model_module_version": "1.2.0",
            "_model_name": "LayoutModel",
            "_view_count": null,
            "_view_module": "@jupyter-widgets/base",
            "_view_module_version": "1.2.0",
            "_view_name": "LayoutView",
            "align_content": null,
            "align_items": null,
            "align_self": null,
            "border": null,
            "bottom": null,
            "display": null,
            "flex": null,
            "flex_flow": null,
            "grid_area": null,
            "grid_auto_columns": null,
            "grid_auto_flow": null,
            "grid_auto_rows": null,
            "grid_column": null,
            "grid_gap": null,
            "grid_row": null,
            "grid_template_areas": null,
            "grid_template_columns": null,
            "grid_template_rows": null,
            "height": null,
            "justify_content": null,
            "justify_items": null,
            "left": null,
            "margin": null,
            "max_height": null,
            "max_width": null,
            "min_height": null,
            "min_width": null,
            "object_fit": null,
            "object_position": null,
            "order": null,
            "overflow": null,
            "overflow_x": null,
            "overflow_y": null,
            "padding": null,
            "right": null,
            "top": null,
            "visibility": null,
            "width": null
          }
        },
        "5ae173979acc47ffbaaae23398b4f0a8": {
          "model_module": "@jupyter-widgets/controls",
          "model_name": "ProgressStyleModel",
          "model_module_version": "1.5.0",
          "state": {
            "_model_module": "@jupyter-widgets/controls",
            "_model_module_version": "1.5.0",
            "_model_name": "ProgressStyleModel",
            "_view_count": null,
            "_view_module": "@jupyter-widgets/base",
            "_view_module_version": "1.2.0",
            "_view_name": "StyleView",
            "bar_color": null,
            "description_width": ""
          }
        },
        "bf1c165d7e554fbdb02040b00ed10a5c": {
          "model_module": "@jupyter-widgets/base",
          "model_name": "LayoutModel",
          "model_module_version": "1.2.0",
          "state": {
            "_model_module": "@jupyter-widgets/base",
            "_model_module_version": "1.2.0",
            "_model_name": "LayoutModel",
            "_view_count": null,
            "_view_module": "@jupyter-widgets/base",
            "_view_module_version": "1.2.0",
            "_view_name": "LayoutView",
            "align_content": null,
            "align_items": null,
            "align_self": null,
            "border": null,
            "bottom": null,
            "display": null,
            "flex": null,
            "flex_flow": null,
            "grid_area": null,
            "grid_auto_columns": null,
            "grid_auto_flow": null,
            "grid_auto_rows": null,
            "grid_column": null,
            "grid_gap": null,
            "grid_row": null,
            "grid_template_areas": null,
            "grid_template_columns": null,
            "grid_template_rows": null,
            "height": null,
            "justify_content": null,
            "justify_items": null,
            "left": null,
            "margin": null,
            "max_height": null,
            "max_width": null,
            "min_height": null,
            "min_width": null,
            "object_fit": null,
            "object_position": null,
            "order": null,
            "overflow": null,
            "overflow_x": null,
            "overflow_y": null,
            "padding": null,
            "right": null,
            "top": null,
            "visibility": null,
            "width": null
          }
        },
        "0fc0dab70488444e8f980e4d7109a2f5": {
          "model_module": "@jupyter-widgets/controls",
          "model_name": "DescriptionStyleModel",
          "model_module_version": "1.5.0",
          "state": {
            "_model_module": "@jupyter-widgets/controls",
            "_model_module_version": "1.5.0",
            "_model_name": "DescriptionStyleModel",
            "_view_count": null,
            "_view_module": "@jupyter-widgets/base",
            "_view_module_version": "1.2.0",
            "_view_name": "StyleView",
            "description_width": ""
          }
        },
        "d63f81519f4942e8a8e8ede89998b8da": {
          "model_module": "@jupyter-widgets/controls",
          "model_name": "HBoxModel",
          "model_module_version": "1.5.0",
          "state": {
            "_dom_classes": [],
            "_model_module": "@jupyter-widgets/controls",
            "_model_module_version": "1.5.0",
            "_model_name": "HBoxModel",
            "_view_count": null,
            "_view_module": "@jupyter-widgets/controls",
            "_view_module_version": "1.5.0",
            "_view_name": "HBoxView",
            "box_style": "",
            "children": [
              "IPY_MODEL_67f6f6c4a176429e8cbe1fce0594e40c",
              "IPY_MODEL_ad14467149564e10ac66717fd364ec2c",
              "IPY_MODEL_979e4f35425341c8a8dab1a1414dcc39"
            ],
            "layout": "IPY_MODEL_adef0512305a48a799488ec2943b0b27"
          }
        },
        "67f6f6c4a176429e8cbe1fce0594e40c": {
          "model_module": "@jupyter-widgets/controls",
          "model_name": "HTMLModel",
          "model_module_version": "1.5.0",
          "state": {
            "_dom_classes": [],
            "_model_module": "@jupyter-widgets/controls",
            "_model_module_version": "1.5.0",
            "_model_name": "HTMLModel",
            "_view_count": null,
            "_view_module": "@jupyter-widgets/controls",
            "_view_module_version": "1.5.0",
            "_view_name": "HTMLView",
            "description": "",
            "description_tooltip": null,
            "layout": "IPY_MODEL_14e5a45039754418a575e16b06e4108f",
            "placeholder": "​",
            "style": "IPY_MODEL_ca58cb5522914919b362c9f8e5495477",
            "value": "100%"
          }
        },
        "ad14467149564e10ac66717fd364ec2c": {
          "model_module": "@jupyter-widgets/controls",
          "model_name": "FloatProgressModel",
          "model_module_version": "1.5.0",
          "state": {
            "_dom_classes": [],
            "_model_module": "@jupyter-widgets/controls",
            "_model_module_version": "1.5.0",
            "_model_name": "FloatProgressModel",
            "_view_count": null,
            "_view_module": "@jupyter-widgets/controls",
            "_view_module_version": "1.5.0",
            "_view_name": "ProgressView",
            "bar_style": "success",
            "description": "",
            "description_tooltip": null,
            "layout": "IPY_MODEL_5648e63534a4452989fb201cd3827bcb",
            "max": 29515,
            "min": 0,
            "orientation": "horizontal",
            "style": "IPY_MODEL_d9d1bab87e9f4550a4413d7c5fa20c6f",
            "value": 29515
          }
        },
        "979e4f35425341c8a8dab1a1414dcc39": {
          "model_module": "@jupyter-widgets/controls",
          "model_name": "HTMLModel",
          "model_module_version": "1.5.0",
          "state": {
            "_dom_classes": [],
            "_model_module": "@jupyter-widgets/controls",
            "_model_module_version": "1.5.0",
            "_model_name": "HTMLModel",
            "_view_count": null,
            "_view_module": "@jupyter-widgets/controls",
            "_view_module_version": "1.5.0",
            "_view_name": "HTMLView",
            "description": "",
            "description_tooltip": null,
            "layout": "IPY_MODEL_993c7c4816824e289d7f44abb1b979c2",
            "placeholder": "​",
            "style": "IPY_MODEL_b35b01540a7f442aa70b3c6ab8588c40",
            "value": " 29515/29515 [00:00&lt;00:00, 1608791.31it/s]"
          }
        },
        "adef0512305a48a799488ec2943b0b27": {
          "model_module": "@jupyter-widgets/base",
          "model_name": "LayoutModel",
          "model_module_version": "1.2.0",
          "state": {
            "_model_module": "@jupyter-widgets/base",
            "_model_module_version": "1.2.0",
            "_model_name": "LayoutModel",
            "_view_count": null,
            "_view_module": "@jupyter-widgets/base",
            "_view_module_version": "1.2.0",
            "_view_name": "LayoutView",
            "align_content": null,
            "align_items": null,
            "align_self": null,
            "border": null,
            "bottom": null,
            "display": null,
            "flex": null,
            "flex_flow": null,
            "grid_area": null,
            "grid_auto_columns": null,
            "grid_auto_flow": null,
            "grid_auto_rows": null,
            "grid_column": null,
            "grid_gap": null,
            "grid_row": null,
            "grid_template_areas": null,
            "grid_template_columns": null,
            "grid_template_rows": null,
            "height": null,
            "justify_content": null,
            "justify_items": null,
            "left": null,
            "margin": null,
            "max_height": null,
            "max_width": null,
            "min_height": null,
            "min_width": null,
            "object_fit": null,
            "object_position": null,
            "order": null,
            "overflow": null,
            "overflow_x": null,
            "overflow_y": null,
            "padding": null,
            "right": null,
            "top": null,
            "visibility": null,
            "width": null
          }
        },
        "14e5a45039754418a575e16b06e4108f": {
          "model_module": "@jupyter-widgets/base",
          "model_name": "LayoutModel",
          "model_module_version": "1.2.0",
          "state": {
            "_model_module": "@jupyter-widgets/base",
            "_model_module_version": "1.2.0",
            "_model_name": "LayoutModel",
            "_view_count": null,
            "_view_module": "@jupyter-widgets/base",
            "_view_module_version": "1.2.0",
            "_view_name": "LayoutView",
            "align_content": null,
            "align_items": null,
            "align_self": null,
            "border": null,
            "bottom": null,
            "display": null,
            "flex": null,
            "flex_flow": null,
            "grid_area": null,
            "grid_auto_columns": null,
            "grid_auto_flow": null,
            "grid_auto_rows": null,
            "grid_column": null,
            "grid_gap": null,
            "grid_row": null,
            "grid_template_areas": null,
            "grid_template_columns": null,
            "grid_template_rows": null,
            "height": null,
            "justify_content": null,
            "justify_items": null,
            "left": null,
            "margin": null,
            "max_height": null,
            "max_width": null,
            "min_height": null,
            "min_width": null,
            "object_fit": null,
            "object_position": null,
            "order": null,
            "overflow": null,
            "overflow_x": null,
            "overflow_y": null,
            "padding": null,
            "right": null,
            "top": null,
            "visibility": null,
            "width": null
          }
        },
        "ca58cb5522914919b362c9f8e5495477": {
          "model_module": "@jupyter-widgets/controls",
          "model_name": "DescriptionStyleModel",
          "model_module_version": "1.5.0",
          "state": {
            "_model_module": "@jupyter-widgets/controls",
            "_model_module_version": "1.5.0",
            "_model_name": "DescriptionStyleModel",
            "_view_count": null,
            "_view_module": "@jupyter-widgets/base",
            "_view_module_version": "1.2.0",
            "_view_name": "StyleView",
            "description_width": ""
          }
        },
        "5648e63534a4452989fb201cd3827bcb": {
          "model_module": "@jupyter-widgets/base",
          "model_name": "LayoutModel",
          "model_module_version": "1.2.0",
          "state": {
            "_model_module": "@jupyter-widgets/base",
            "_model_module_version": "1.2.0",
            "_model_name": "LayoutModel",
            "_view_count": null,
            "_view_module": "@jupyter-widgets/base",
            "_view_module_version": "1.2.0",
            "_view_name": "LayoutView",
            "align_content": null,
            "align_items": null,
            "align_self": null,
            "border": null,
            "bottom": null,
            "display": null,
            "flex": null,
            "flex_flow": null,
            "grid_area": null,
            "grid_auto_columns": null,
            "grid_auto_flow": null,
            "grid_auto_rows": null,
            "grid_column": null,
            "grid_gap": null,
            "grid_row": null,
            "grid_template_areas": null,
            "grid_template_columns": null,
            "grid_template_rows": null,
            "height": null,
            "justify_content": null,
            "justify_items": null,
            "left": null,
            "margin": null,
            "max_height": null,
            "max_width": null,
            "min_height": null,
            "min_width": null,
            "object_fit": null,
            "object_position": null,
            "order": null,
            "overflow": null,
            "overflow_x": null,
            "overflow_y": null,
            "padding": null,
            "right": null,
            "top": null,
            "visibility": null,
            "width": null
          }
        },
        "d9d1bab87e9f4550a4413d7c5fa20c6f": {
          "model_module": "@jupyter-widgets/controls",
          "model_name": "ProgressStyleModel",
          "model_module_version": "1.5.0",
          "state": {
            "_model_module": "@jupyter-widgets/controls",
            "_model_module_version": "1.5.0",
            "_model_name": "ProgressStyleModel",
            "_view_count": null,
            "_view_module": "@jupyter-widgets/base",
            "_view_module_version": "1.2.0",
            "_view_name": "StyleView",
            "bar_color": null,
            "description_width": ""
          }
        },
        "993c7c4816824e289d7f44abb1b979c2": {
          "model_module": "@jupyter-widgets/base",
          "model_name": "LayoutModel",
          "model_module_version": "1.2.0",
          "state": {
            "_model_module": "@jupyter-widgets/base",
            "_model_module_version": "1.2.0",
            "_model_name": "LayoutModel",
            "_view_count": null,
            "_view_module": "@jupyter-widgets/base",
            "_view_module_version": "1.2.0",
            "_view_name": "LayoutView",
            "align_content": null,
            "align_items": null,
            "align_self": null,
            "border": null,
            "bottom": null,
            "display": null,
            "flex": null,
            "flex_flow": null,
            "grid_area": null,
            "grid_auto_columns": null,
            "grid_auto_flow": null,
            "grid_auto_rows": null,
            "grid_column": null,
            "grid_gap": null,
            "grid_row": null,
            "grid_template_areas": null,
            "grid_template_columns": null,
            "grid_template_rows": null,
            "height": null,
            "justify_content": null,
            "justify_items": null,
            "left": null,
            "margin": null,
            "max_height": null,
            "max_width": null,
            "min_height": null,
            "min_width": null,
            "object_fit": null,
            "object_position": null,
            "order": null,
            "overflow": null,
            "overflow_x": null,
            "overflow_y": null,
            "padding": null,
            "right": null,
            "top": null,
            "visibility": null,
            "width": null
          }
        },
        "b35b01540a7f442aa70b3c6ab8588c40": {
          "model_module": "@jupyter-widgets/controls",
          "model_name": "DescriptionStyleModel",
          "model_module_version": "1.5.0",
          "state": {
            "_model_module": "@jupyter-widgets/controls",
            "_model_module_version": "1.5.0",
            "_model_name": "DescriptionStyleModel",
            "_view_count": null,
            "_view_module": "@jupyter-widgets/base",
            "_view_module_version": "1.2.0",
            "_view_name": "StyleView",
            "description_width": ""
          }
        },
        "5842271ac0e945ae8fafe23a69454da1": {
          "model_module": "@jupyter-widgets/controls",
          "model_name": "HBoxModel",
          "model_module_version": "1.5.0",
          "state": {
            "_dom_classes": [],
            "_model_module": "@jupyter-widgets/controls",
            "_model_module_version": "1.5.0",
            "_model_name": "HBoxModel",
            "_view_count": null,
            "_view_module": "@jupyter-widgets/controls",
            "_view_module_version": "1.5.0",
            "_view_name": "HBoxView",
            "box_style": "",
            "children": [
              "IPY_MODEL_bda28b76ef8d4fe08f91bd0ddd342c4c",
              "IPY_MODEL_1793e1846c3049b9a7f7d1cadf7ff270",
              "IPY_MODEL_0b832093fe384c709e949c13f29f86c4"
            ],
            "layout": "IPY_MODEL_0a36d52450d34c76862b89ec63bf3f08"
          }
        },
        "bda28b76ef8d4fe08f91bd0ddd342c4c": {
          "model_module": "@jupyter-widgets/controls",
          "model_name": "HTMLModel",
          "model_module_version": "1.5.0",
          "state": {
            "_dom_classes": [],
            "_model_module": "@jupyter-widgets/controls",
            "_model_module_version": "1.5.0",
            "_model_name": "HTMLModel",
            "_view_count": null,
            "_view_module": "@jupyter-widgets/controls",
            "_view_module_version": "1.5.0",
            "_view_name": "HTMLView",
            "description": "",
            "description_tooltip": null,
            "layout": "IPY_MODEL_167e6b3a7d4c427d9048ea7cd971c859",
            "placeholder": "​",
            "style": "IPY_MODEL_188d691164644c4b8a30e82c0df9724e",
            "value": "100%"
          }
        },
        "1793e1846c3049b9a7f7d1cadf7ff270": {
          "model_module": "@jupyter-widgets/controls",
          "model_name": "FloatProgressModel",
          "model_module_version": "1.5.0",
          "state": {
            "_dom_classes": [],
            "_model_module": "@jupyter-widgets/controls",
            "_model_module_version": "1.5.0",
            "_model_name": "FloatProgressModel",
            "_view_count": null,
            "_view_module": "@jupyter-widgets/controls",
            "_view_module_version": "1.5.0",
            "_view_name": "ProgressView",
            "bar_style": "success",
            "description": "",
            "description_tooltip": null,
            "layout": "IPY_MODEL_d756d20bc7f34941a5152a5e7e64f8b1",
            "max": 4422102,
            "min": 0,
            "orientation": "horizontal",
            "style": "IPY_MODEL_05aaf651f0b546548d810edf32539e46",
            "value": 4422102
          }
        },
        "0b832093fe384c709e949c13f29f86c4": {
          "model_module": "@jupyter-widgets/controls",
          "model_name": "HTMLModel",
          "model_module_version": "1.5.0",
          "state": {
            "_dom_classes": [],
            "_model_module": "@jupyter-widgets/controls",
            "_model_module_version": "1.5.0",
            "_model_name": "HTMLModel",
            "_view_count": null,
            "_view_module": "@jupyter-widgets/controls",
            "_view_module_version": "1.5.0",
            "_view_name": "HTMLView",
            "description": "",
            "description_tooltip": null,
            "layout": "IPY_MODEL_5ad9660c5eaa4b7e99ffd3ea6fe85eca",
            "placeholder": "​",
            "style": "IPY_MODEL_d41bb1808ea8427ca95d88aa1f3f7122",
            "value": " 4422102/4422102 [00:00&lt;00:00, 64156042.18it/s]"
          }
        },
        "0a36d52450d34c76862b89ec63bf3f08": {
          "model_module": "@jupyter-widgets/base",
          "model_name": "LayoutModel",
          "model_module_version": "1.2.0",
          "state": {
            "_model_module": "@jupyter-widgets/base",
            "_model_module_version": "1.2.0",
            "_model_name": "LayoutModel",
            "_view_count": null,
            "_view_module": "@jupyter-widgets/base",
            "_view_module_version": "1.2.0",
            "_view_name": "LayoutView",
            "align_content": null,
            "align_items": null,
            "align_self": null,
            "border": null,
            "bottom": null,
            "display": null,
            "flex": null,
            "flex_flow": null,
            "grid_area": null,
            "grid_auto_columns": null,
            "grid_auto_flow": null,
            "grid_auto_rows": null,
            "grid_column": null,
            "grid_gap": null,
            "grid_row": null,
            "grid_template_areas": null,
            "grid_template_columns": null,
            "grid_template_rows": null,
            "height": null,
            "justify_content": null,
            "justify_items": null,
            "left": null,
            "margin": null,
            "max_height": null,
            "max_width": null,
            "min_height": null,
            "min_width": null,
            "object_fit": null,
            "object_position": null,
            "order": null,
            "overflow": null,
            "overflow_x": null,
            "overflow_y": null,
            "padding": null,
            "right": null,
            "top": null,
            "visibility": null,
            "width": null
          }
        },
        "167e6b3a7d4c427d9048ea7cd971c859": {
          "model_module": "@jupyter-widgets/base",
          "model_name": "LayoutModel",
          "model_module_version": "1.2.0",
          "state": {
            "_model_module": "@jupyter-widgets/base",
            "_model_module_version": "1.2.0",
            "_model_name": "LayoutModel",
            "_view_count": null,
            "_view_module": "@jupyter-widgets/base",
            "_view_module_version": "1.2.0",
            "_view_name": "LayoutView",
            "align_content": null,
            "align_items": null,
            "align_self": null,
            "border": null,
            "bottom": null,
            "display": null,
            "flex": null,
            "flex_flow": null,
            "grid_area": null,
            "grid_auto_columns": null,
            "grid_auto_flow": null,
            "grid_auto_rows": null,
            "grid_column": null,
            "grid_gap": null,
            "grid_row": null,
            "grid_template_areas": null,
            "grid_template_columns": null,
            "grid_template_rows": null,
            "height": null,
            "justify_content": null,
            "justify_items": null,
            "left": null,
            "margin": null,
            "max_height": null,
            "max_width": null,
            "min_height": null,
            "min_width": null,
            "object_fit": null,
            "object_position": null,
            "order": null,
            "overflow": null,
            "overflow_x": null,
            "overflow_y": null,
            "padding": null,
            "right": null,
            "top": null,
            "visibility": null,
            "width": null
          }
        },
        "188d691164644c4b8a30e82c0df9724e": {
          "model_module": "@jupyter-widgets/controls",
          "model_name": "DescriptionStyleModel",
          "model_module_version": "1.5.0",
          "state": {
            "_model_module": "@jupyter-widgets/controls",
            "_model_module_version": "1.5.0",
            "_model_name": "DescriptionStyleModel",
            "_view_count": null,
            "_view_module": "@jupyter-widgets/base",
            "_view_module_version": "1.2.0",
            "_view_name": "StyleView",
            "description_width": ""
          }
        },
        "d756d20bc7f34941a5152a5e7e64f8b1": {
          "model_module": "@jupyter-widgets/base",
          "model_name": "LayoutModel",
          "model_module_version": "1.2.0",
          "state": {
            "_model_module": "@jupyter-widgets/base",
            "_model_module_version": "1.2.0",
            "_model_name": "LayoutModel",
            "_view_count": null,
            "_view_module": "@jupyter-widgets/base",
            "_view_module_version": "1.2.0",
            "_view_name": "LayoutView",
            "align_content": null,
            "align_items": null,
            "align_self": null,
            "border": null,
            "bottom": null,
            "display": null,
            "flex": null,
            "flex_flow": null,
            "grid_area": null,
            "grid_auto_columns": null,
            "grid_auto_flow": null,
            "grid_auto_rows": null,
            "grid_column": null,
            "grid_gap": null,
            "grid_row": null,
            "grid_template_areas": null,
            "grid_template_columns": null,
            "grid_template_rows": null,
            "height": null,
            "justify_content": null,
            "justify_items": null,
            "left": null,
            "margin": null,
            "max_height": null,
            "max_width": null,
            "min_height": null,
            "min_width": null,
            "object_fit": null,
            "object_position": null,
            "order": null,
            "overflow": null,
            "overflow_x": null,
            "overflow_y": null,
            "padding": null,
            "right": null,
            "top": null,
            "visibility": null,
            "width": null
          }
        },
        "05aaf651f0b546548d810edf32539e46": {
          "model_module": "@jupyter-widgets/controls",
          "model_name": "ProgressStyleModel",
          "model_module_version": "1.5.0",
          "state": {
            "_model_module": "@jupyter-widgets/controls",
            "_model_module_version": "1.5.0",
            "_model_name": "ProgressStyleModel",
            "_view_count": null,
            "_view_module": "@jupyter-widgets/base",
            "_view_module_version": "1.2.0",
            "_view_name": "StyleView",
            "bar_color": null,
            "description_width": ""
          }
        },
        "5ad9660c5eaa4b7e99ffd3ea6fe85eca": {
          "model_module": "@jupyter-widgets/base",
          "model_name": "LayoutModel",
          "model_module_version": "1.2.0",
          "state": {
            "_model_module": "@jupyter-widgets/base",
            "_model_module_version": "1.2.0",
            "_model_name": "LayoutModel",
            "_view_count": null,
            "_view_module": "@jupyter-widgets/base",
            "_view_module_version": "1.2.0",
            "_view_name": "LayoutView",
            "align_content": null,
            "align_items": null,
            "align_self": null,
            "border": null,
            "bottom": null,
            "display": null,
            "flex": null,
            "flex_flow": null,
            "grid_area": null,
            "grid_auto_columns": null,
            "grid_auto_flow": null,
            "grid_auto_rows": null,
            "grid_column": null,
            "grid_gap": null,
            "grid_row": null,
            "grid_template_areas": null,
            "grid_template_columns": null,
            "grid_template_rows": null,
            "height": null,
            "justify_content": null,
            "justify_items": null,
            "left": null,
            "margin": null,
            "max_height": null,
            "max_width": null,
            "min_height": null,
            "min_width": null,
            "object_fit": null,
            "object_position": null,
            "order": null,
            "overflow": null,
            "overflow_x": null,
            "overflow_y": null,
            "padding": null,
            "right": null,
            "top": null,
            "visibility": null,
            "width": null
          }
        },
        "d41bb1808ea8427ca95d88aa1f3f7122": {
          "model_module": "@jupyter-widgets/controls",
          "model_name": "DescriptionStyleModel",
          "model_module_version": "1.5.0",
          "state": {
            "_model_module": "@jupyter-widgets/controls",
            "_model_module_version": "1.5.0",
            "_model_name": "DescriptionStyleModel",
            "_view_count": null,
            "_view_module": "@jupyter-widgets/base",
            "_view_module_version": "1.2.0",
            "_view_name": "StyleView",
            "description_width": ""
          }
        },
        "c2b617c1a12b490e84af41fc4f87c86c": {
          "model_module": "@jupyter-widgets/controls",
          "model_name": "HBoxModel",
          "model_module_version": "1.5.0",
          "state": {
            "_dom_classes": [],
            "_model_module": "@jupyter-widgets/controls",
            "_model_module_version": "1.5.0",
            "_model_name": "HBoxModel",
            "_view_count": null,
            "_view_module": "@jupyter-widgets/controls",
            "_view_module_version": "1.5.0",
            "_view_name": "HBoxView",
            "box_style": "",
            "children": [
              "IPY_MODEL_df789b7684c548989190e4bdb8c492bd",
              "IPY_MODEL_2cdf5d3310d0435bae69b6bce525d801",
              "IPY_MODEL_549e9f6eda82425ca6dfc298c9070686"
            ],
            "layout": "IPY_MODEL_24ab2b3ce7f54f37bb3827979c9003b4"
          }
        },
        "df789b7684c548989190e4bdb8c492bd": {
          "model_module": "@jupyter-widgets/controls",
          "model_name": "HTMLModel",
          "model_module_version": "1.5.0",
          "state": {
            "_dom_classes": [],
            "_model_module": "@jupyter-widgets/controls",
            "_model_module_version": "1.5.0",
            "_model_name": "HTMLModel",
            "_view_count": null,
            "_view_module": "@jupyter-widgets/controls",
            "_view_module_version": "1.5.0",
            "_view_name": "HTMLView",
            "description": "",
            "description_tooltip": null,
            "layout": "IPY_MODEL_12935dde6c67499b84fb265a800276fb",
            "placeholder": "​",
            "style": "IPY_MODEL_5fdfaba06a9b4cf4b9521e60a2adc47f",
            "value": "100%"
          }
        },
        "2cdf5d3310d0435bae69b6bce525d801": {
          "model_module": "@jupyter-widgets/controls",
          "model_name": "FloatProgressModel",
          "model_module_version": "1.5.0",
          "state": {
            "_dom_classes": [],
            "_model_module": "@jupyter-widgets/controls",
            "_model_module_version": "1.5.0",
            "_model_name": "FloatProgressModel",
            "_view_count": null,
            "_view_module": "@jupyter-widgets/controls",
            "_view_module_version": "1.5.0",
            "_view_name": "ProgressView",
            "bar_style": "success",
            "description": "",
            "description_tooltip": null,
            "layout": "IPY_MODEL_f9681391ee8348379633d975882ace20",
            "max": 5148,
            "min": 0,
            "orientation": "horizontal",
            "style": "IPY_MODEL_37ea65e2bc4c45baa3975fea8295942f",
            "value": 5148
          }
        },
        "549e9f6eda82425ca6dfc298c9070686": {
          "model_module": "@jupyter-widgets/controls",
          "model_name": "HTMLModel",
          "model_module_version": "1.5.0",
          "state": {
            "_dom_classes": [],
            "_model_module": "@jupyter-widgets/controls",
            "_model_module_version": "1.5.0",
            "_model_name": "HTMLModel",
            "_view_count": null,
            "_view_module": "@jupyter-widgets/controls",
            "_view_module_version": "1.5.0",
            "_view_name": "HTMLView",
            "description": "",
            "description_tooltip": null,
            "layout": "IPY_MODEL_74630f57d5bb432d94364d87c4ccbe51",
            "placeholder": "​",
            "style": "IPY_MODEL_b0f5c78e4dff4543aaa9125fdb3ad48d",
            "value": " 5148/5148 [00:00&lt;00:00, 328234.91it/s]"
          }
        },
        "24ab2b3ce7f54f37bb3827979c9003b4": {
          "model_module": "@jupyter-widgets/base",
          "model_name": "LayoutModel",
          "model_module_version": "1.2.0",
          "state": {
            "_model_module": "@jupyter-widgets/base",
            "_model_module_version": "1.2.0",
            "_model_name": "LayoutModel",
            "_view_count": null,
            "_view_module": "@jupyter-widgets/base",
            "_view_module_version": "1.2.0",
            "_view_name": "LayoutView",
            "align_content": null,
            "align_items": null,
            "align_self": null,
            "border": null,
            "bottom": null,
            "display": null,
            "flex": null,
            "flex_flow": null,
            "grid_area": null,
            "grid_auto_columns": null,
            "grid_auto_flow": null,
            "grid_auto_rows": null,
            "grid_column": null,
            "grid_gap": null,
            "grid_row": null,
            "grid_template_areas": null,
            "grid_template_columns": null,
            "grid_template_rows": null,
            "height": null,
            "justify_content": null,
            "justify_items": null,
            "left": null,
            "margin": null,
            "max_height": null,
            "max_width": null,
            "min_height": null,
            "min_width": null,
            "object_fit": null,
            "object_position": null,
            "order": null,
            "overflow": null,
            "overflow_x": null,
            "overflow_y": null,
            "padding": null,
            "right": null,
            "top": null,
            "visibility": null,
            "width": null
          }
        },
        "12935dde6c67499b84fb265a800276fb": {
          "model_module": "@jupyter-widgets/base",
          "model_name": "LayoutModel",
          "model_module_version": "1.2.0",
          "state": {
            "_model_module": "@jupyter-widgets/base",
            "_model_module_version": "1.2.0",
            "_model_name": "LayoutModel",
            "_view_count": null,
            "_view_module": "@jupyter-widgets/base",
            "_view_module_version": "1.2.0",
            "_view_name": "LayoutView",
            "align_content": null,
            "align_items": null,
            "align_self": null,
            "border": null,
            "bottom": null,
            "display": null,
            "flex": null,
            "flex_flow": null,
            "grid_area": null,
            "grid_auto_columns": null,
            "grid_auto_flow": null,
            "grid_auto_rows": null,
            "grid_column": null,
            "grid_gap": null,
            "grid_row": null,
            "grid_template_areas": null,
            "grid_template_columns": null,
            "grid_template_rows": null,
            "height": null,
            "justify_content": null,
            "justify_items": null,
            "left": null,
            "margin": null,
            "max_height": null,
            "max_width": null,
            "min_height": null,
            "min_width": null,
            "object_fit": null,
            "object_position": null,
            "order": null,
            "overflow": null,
            "overflow_x": null,
            "overflow_y": null,
            "padding": null,
            "right": null,
            "top": null,
            "visibility": null,
            "width": null
          }
        },
        "5fdfaba06a9b4cf4b9521e60a2adc47f": {
          "model_module": "@jupyter-widgets/controls",
          "model_name": "DescriptionStyleModel",
          "model_module_version": "1.5.0",
          "state": {
            "_model_module": "@jupyter-widgets/controls",
            "_model_module_version": "1.5.0",
            "_model_name": "DescriptionStyleModel",
            "_view_count": null,
            "_view_module": "@jupyter-widgets/base",
            "_view_module_version": "1.2.0",
            "_view_name": "StyleView",
            "description_width": ""
          }
        },
        "f9681391ee8348379633d975882ace20": {
          "model_module": "@jupyter-widgets/base",
          "model_name": "LayoutModel",
          "model_module_version": "1.2.0",
          "state": {
            "_model_module": "@jupyter-widgets/base",
            "_model_module_version": "1.2.0",
            "_model_name": "LayoutModel",
            "_view_count": null,
            "_view_module": "@jupyter-widgets/base",
            "_view_module_version": "1.2.0",
            "_view_name": "LayoutView",
            "align_content": null,
            "align_items": null,
            "align_self": null,
            "border": null,
            "bottom": null,
            "display": null,
            "flex": null,
            "flex_flow": null,
            "grid_area": null,
            "grid_auto_columns": null,
            "grid_auto_flow": null,
            "grid_auto_rows": null,
            "grid_column": null,
            "grid_gap": null,
            "grid_row": null,
            "grid_template_areas": null,
            "grid_template_columns": null,
            "grid_template_rows": null,
            "height": null,
            "justify_content": null,
            "justify_items": null,
            "left": null,
            "margin": null,
            "max_height": null,
            "max_width": null,
            "min_height": null,
            "min_width": null,
            "object_fit": null,
            "object_position": null,
            "order": null,
            "overflow": null,
            "overflow_x": null,
            "overflow_y": null,
            "padding": null,
            "right": null,
            "top": null,
            "visibility": null,
            "width": null
          }
        },
        "37ea65e2bc4c45baa3975fea8295942f": {
          "model_module": "@jupyter-widgets/controls",
          "model_name": "ProgressStyleModel",
          "model_module_version": "1.5.0",
          "state": {
            "_model_module": "@jupyter-widgets/controls",
            "_model_module_version": "1.5.0",
            "_model_name": "ProgressStyleModel",
            "_view_count": null,
            "_view_module": "@jupyter-widgets/base",
            "_view_module_version": "1.2.0",
            "_view_name": "StyleView",
            "bar_color": null,
            "description_width": ""
          }
        },
        "74630f57d5bb432d94364d87c4ccbe51": {
          "model_module": "@jupyter-widgets/base",
          "model_name": "LayoutModel",
          "model_module_version": "1.2.0",
          "state": {
            "_model_module": "@jupyter-widgets/base",
            "_model_module_version": "1.2.0",
            "_model_name": "LayoutModel",
            "_view_count": null,
            "_view_module": "@jupyter-widgets/base",
            "_view_module_version": "1.2.0",
            "_view_name": "LayoutView",
            "align_content": null,
            "align_items": null,
            "align_self": null,
            "border": null,
            "bottom": null,
            "display": null,
            "flex": null,
            "flex_flow": null,
            "grid_area": null,
            "grid_auto_columns": null,
            "grid_auto_flow": null,
            "grid_auto_rows": null,
            "grid_column": null,
            "grid_gap": null,
            "grid_row": null,
            "grid_template_areas": null,
            "grid_template_columns": null,
            "grid_template_rows": null,
            "height": null,
            "justify_content": null,
            "justify_items": null,
            "left": null,
            "margin": null,
            "max_height": null,
            "max_width": null,
            "min_height": null,
            "min_width": null,
            "object_fit": null,
            "object_position": null,
            "order": null,
            "overflow": null,
            "overflow_x": null,
            "overflow_y": null,
            "padding": null,
            "right": null,
            "top": null,
            "visibility": null,
            "width": null
          }
        },
        "b0f5c78e4dff4543aaa9125fdb3ad48d": {
          "model_module": "@jupyter-widgets/controls",
          "model_name": "DescriptionStyleModel",
          "model_module_version": "1.5.0",
          "state": {
            "_model_module": "@jupyter-widgets/controls",
            "_model_module_version": "1.5.0",
            "_model_name": "DescriptionStyleModel",
            "_view_count": null,
            "_view_module": "@jupyter-widgets/base",
            "_view_module_version": "1.2.0",
            "_view_name": "StyleView",
            "description_width": ""
          }
        }
      }
    }
  },
  "cells": [
    {
      "cell_type": "markdown",
      "metadata": {
        "id": "view-in-github",
        "colab_type": "text"
      },
      "source": [
        "<a href=\"https://colab.research.google.com/github/Voland24/ModernComputerVisionPytorch/blob/main/Chapter4_CNNs.ipynb\" target=\"_parent\"><img src=\"https://colab.research.google.com/assets/colab-badge.svg\" alt=\"Open In Colab\"/></a>"
      ]
    },
    {
      "cell_type": "markdown",
      "source": [
        "# Convolutional NN\n",
        "\n",
        "This chapter deals with CNNs, firstly by viewing its hyperparams, strides, pooling and filters. Then, we'll look at various data augmentations implemented to improve model performance. We'll then visualize the learned features of the CNN and then apply it all to a real world example."
      ],
      "metadata": {
        "id": "WpTtmwIkmz0h"
      }
    },
    {
      "cell_type": "markdown",
      "source": [
        "# Problem with NNs\n",
        "\n",
        "The problem of the MLP model for image classification and in general, image problems is that one, the model complexity increases with the image resolution, for example, an HD image, 1024*1024 pixels would have a milion inputs for the NN. This leads to huge models and they are almost impossible to train. Also, simple MLPs aren't robust enough to handle geometric and photometric transformations. Meaning, any change in lighting or the position of the object of interest be it translation, rotation, scaling would confuse the model and render it useless."
      ],
      "metadata": {
        "id": "5sLZ8bbGnhVx"
      }
    },
    {
      "cell_type": "markdown",
      "source": [
        "# CNNs\n",
        "\n",
        "They consist of convolutions, filters, strides, padding and pooling.\n",
        "\n",
        "Applyying a convolution matrix to an image, called a kernel, produces a matrix called a filter, which is typically smaller than the original image. These filters are the various thing the model learns from the image. CNNs are trained by training the kernel matricies i.e. treating their values as weights. There are multiple kernels for the same image and all of them learn a different thing from the image.\n",
        "\n",
        "If the image is RGB meaning it has three channels, the kernel would also have three channels, one for each dimensions. THe result of a single convolution step is always a scalar.\n",
        "\n",
        "**Stride** defines by how much the kernels slides over the image, it can be 1 or 2 usually. The more it strides over the smaller the resulting filter is.\n",
        "\n",
        "**Padding** is the process of adding additional 0 to the image around its borders to keep the dimension of the filter the same size as the image itself.\n",
        "\n",
        "**Pooling** is the process of applying a transformation to the filter that's a result of applying the kernels to the image. It works almost identical to the kernel, but instead of applying a transformation it simply chooses the average of the max value of the elements it oversees."
      ],
      "metadata": {
        "id": "mnVQ8b9CoSzV"
      }
    },
    {
      "cell_type": "markdown",
      "source": [
        "![cnn_overview.png](data:image/png;base64,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)"
      ],
      "metadata": {
        "id": "V3rWLp22qOV2"
      }
    },
    {
      "cell_type": "markdown",
      "source": [
        "Here we see the overview of the architecture. We keep applying the convolutin + acttivation function to image data, the pooling to the results and repeat the process a couple of times. After that, we flatten the last pooling layer output and we can feed that into a MLP for classification. More importantly, that last pooling flattened vector represents the image in a vector form, it's the image's deep embedding and can be used after that in a way we see fit.\n",
        "This is called feature learning. The flattened layer represents a much smaller and more compact description of what lies on the image then the raw image data."
      ],
      "metadata": {
        "id": "a7Nw6dFVqhbG"
      }
    },
    {
      "cell_type": "markdown",
      "source": [
        "**Pooling and convolutin intuition**\n",
        "\n",
        "This helps us achieve geometric and photometric invariance of the model ot a larger extent then the MLP model. \n",
        "After convolution we have a single number to represent a pathc of the original image. Then, after pooling we average out or choose the max value of several those patches and force the model ot adjust it's weights i.e. kernels to accomodate such an approach. This leads to robust models and teaches the models to generalize and fair well in situations where the image is rotated, scaled, translated and such."
      ],
      "metadata": {
        "id": "BQnzShRerXyd"
      }
    },
    {
      "cell_type": "markdown",
      "source": [
        "# Let's implent the CNN"
      ],
      "metadata": {
        "id": "0oWg_zkgsGdm"
      }
    },
    {
      "cell_type": "code",
      "execution_count": 1,
      "metadata": {
        "id": "Wmhq7gaFmkxf"
      },
      "outputs": [],
      "source": [
        "import torch\n",
        "from torch import nn\n",
        "from torch.utils.data import TensorDataset, Dataset,DataLoader\n",
        "from torch.optim import SGD,Adam\n",
        "device = 'cuda' if torch.cuda.is_available() else 'cpu'\n",
        "from torchvision import datasets\n",
        "import numpy as np\n",
        "import matplotlib.pyplot as plt\n",
        "%matplotlib inline"
      ]
    },
    {
      "cell_type": "markdown",
      "source": [
        "THe models expects the inputs in a N * C* H * W\n",
        "format meaning\n",
        "N - how many images at once, i.e. batch size\n",
        "C - how many channels per image i.e RGB, grayscale\n",
        "H - height of the image in pixels\n",
        "W - width of the image in pixels\n",
        "\n",
        "Dividing by 8 just keep the values in the -1 to +1 range."
      ],
      "metadata": {
        "id": "baYH_ObstI6v"
      }
    },
    {
      "cell_type": "code",
      "source": [
        "X_train = torch.tensor([[[[1,2,3,4],[2,3,4,5], \\\n",
        "[5,6,7,8],[1,3,4,5]]], \\\n",
        "[[[-1,2,3,-4],[2,-3,4,5], \\\n",
        "[-5,6,-7,8],[-1,-3,-4,-5]]]]).to(device).float()\n",
        "\n",
        "X_train /= 8\n",
        "y_train = torch.tensor([0,1]).to(device).float()"
      ],
      "metadata": {
        "id": "fXPBGVXes_ls"
      },
      "execution_count": 2,
      "outputs": []
    },
    {
      "cell_type": "markdown",
      "source": [
        "THe shape of the input dataset if 2 * 1 * 4 * 4\n",
        "Meaning we have two datapoints each a 4*4 matrix with 1 channel"
      ],
      "metadata": {
        "id": "cz_NAH27te1k"
      }
    },
    {
      "cell_type": "markdown",
      "source": [
        "CNN architecture"
      ],
      "metadata": {
        "id": "MHClRZNPtrea"
      }
    },
    {
      "cell_type": "code",
      "source": [
        "def get_model():\n",
        "  model = nn.Sequential(\n",
        "      nn.Conv2d(1,1, kernel_size = 3),\n",
        "      nn.MaxPool2d(2),\n",
        "      nn.ReLU(),\n",
        "      nn.Flatten(),\n",
        "      nn.Linear(1,1),\n",
        "      nn.Sigmoid()\n",
        "  ).to(device)\n",
        "\n",
        "  loss_fn = nn.BCELoss() #binary cross entropy loss for classiffcation\n",
        "  optimizer = Adam(model.parameters(), lr = 1e-3)\n",
        "  return model, loss_fn, optimizer"
      ],
      "metadata": {
        "id": "a9W2j39YttNM"
      },
      "execution_count": 3,
      "outputs": []
    },
    {
      "cell_type": "markdown",
      "source": [
        "Here we extract 1 feature map i.e. one filter with a 3*3 kernel for a 4*4 iamge. Then we maxpool the feature map and flatten it. It is then fed through a linear activation and then a sigmoid for a prediction of the class."
      ],
      "metadata": {
        "id": "yJo4Ot6SuTq1"
      }
    },
    {
      "cell_type": "code",
      "source": [
        "!pip install torch_summary\n",
        "from torchsummary import summary\n",
        "model, loss_fn, optimizer = get_model()\n",
        "summary(model, X_train);\n"
      ],
      "metadata": {
        "colab": {
          "base_uri": "https://localhost:8080/"
        },
        "id": "N_Sxm9rGu0Fe",
        "outputId": "86ff9c64-d1a9-454c-f5e5-d2c1f31aaaf9"
      },
      "execution_count": 6,
      "outputs": [
        {
          "output_type": "stream",
          "name": "stdout",
          "text": [
            "Looking in indexes: https://pypi.org/simple, https://us-python.pkg.dev/colab-wheels/public/simple/\n",
            "Collecting torch_summary\n",
            "  Downloading torch_summary-1.4.5-py3-none-any.whl (16 kB)\n",
            "Installing collected packages: torch-summary\n",
            "Successfully installed torch-summary-1.4.5\n",
            "==========================================================================================\n",
            "Layer (type:depth-idx)                   Output Shape              Param #\n",
            "==========================================================================================\n",
            "├─Conv2d: 1-1                            [-1, 1, 2, 2]             10\n",
            "├─MaxPool2d: 1-2                         [-1, 1, 1, 1]             --\n",
            "├─ReLU: 1-3                              [-1, 1, 1, 1]             --\n",
            "├─Flatten: 1-4                           [-1, 1]                   --\n",
            "├─Linear: 1-5                            [-1, 1]                   2\n",
            "├─Sigmoid: 1-6                           [-1, 1]                   --\n",
            "==========================================================================================\n",
            "Total params: 12\n",
            "Trainable params: 12\n",
            "Non-trainable params: 0\n",
            "Total mult-adds (M): 0.00\n",
            "==========================================================================================\n",
            "Input size (MB): 0.00\n",
            "Forward/backward pass size (MB): 0.00\n",
            "Params size (MB): 0.00\n",
            "Estimated Total Size (MB): 0.00\n",
            "==========================================================================================\n"
          ]
        }
      ]
    },
    {
      "cell_type": "markdown",
      "source": [
        "Why are there 12 params to learn?\n",
        "We are convoling a 3*3 kernel over a 1 * 4 * 4 shape, and getting a 1 * 2 *2 output i.e the feature map for the input image.\n",
        "There are 3*3 = 9 params in the kernel, think of weights and one bias term in the kernel.\n",
        "The pooling, relu and flatten layers have to params.\n",
        "The only ones left are the weight and the bias in the Linear term."
      ],
      "metadata": {
        "id": "cHnxaiKJvIJr"
      }
    },
    {
      "cell_type": "markdown",
      "source": [
        "**Let's train the model**"
      ],
      "metadata": {
        "id": "EIbsbW_UvtoJ"
      }
    },
    {
      "cell_type": "code",
      "source": [
        "def train_batch(x, y, model, optimizer, loss_fn):\n",
        "  model.train()\n",
        "  prediction = model(x)\n",
        "  batch_loss = loss_fn(prediction.squeeze(0), y)\n",
        "  batch_loss.backward()\n",
        "  optimizer.step()\n",
        "  optimizer.zero_grad()\n",
        "  return batch_loss.item()\n"
      ],
      "metadata": {
        "id": "tlbi08TVvwYz"
      },
      "execution_count": 7,
      "outputs": []
    },
    {
      "cell_type": "markdown",
      "source": [
        "Since we won't modify the data here, we don't have to make a separate Dataset class like before, we can simply use the TensorDataset class here to achieve the same thing."
      ],
      "metadata": {
        "id": "xSYq6Dc5wOvf"
      }
    },
    {
      "cell_type": "code",
      "source": [
        "trn_dl = DataLoader(TensorDataset(X_train, y_train))\n",
        "for epoch in range(2000):\n",
        "  for ix, batch in enumerate(iter(trn_dl)):\n",
        "    x, y = batch\n",
        "    batch_loss = train_batch(x,y, model, optimizer, loss_fn)"
      ],
      "metadata": {
        "id": "8WhGppKWwXuk"
      },
      "execution_count": 8,
      "outputs": []
    },
    {
      "cell_type": "markdown",
      "source": [
        "We train the model for 2000 epochs and we can perform the forward pass after it's done"
      ],
      "metadata": {
        "id": "7LBeN8KOwurL"
      }
    },
    {
      "cell_type": "code",
      "source": [
        "model(X_train[:1])"
      ],
      "metadata": {
        "colab": {
          "base_uri": "https://localhost:8080/"
        },
        "id": "OtLuU_Inw11m",
        "outputId": "95df38c8-b3ae-435c-9e8d-7fa60b0d4d48"
      },
      "execution_count": 7,
      "outputs": [
        {
          "output_type": "execute_result",
          "data": {
            "text/plain": [
              "tensor([[0.0053]], grad_fn=<SigmoidBackward0>)"
            ]
          },
          "metadata": {},
          "execution_count": 7
        }
      ]
    },
    {
      "cell_type": "markdown",
      "source": [
        "How did we get this value?\n"
      ],
      "metadata": {
        "id": "032TYoYUxWHu"
      }
    },
    {
      "cell_type": "code",
      "source": [
        "list(model.children())"
      ],
      "metadata": {
        "colab": {
          "base_uri": "https://localhost:8080/"
        },
        "id": "xm0Qs39axac_",
        "outputId": "f033c895-4906-464a-baf8-0387126cbfc2"
      },
      "execution_count": 8,
      "outputs": [
        {
          "output_type": "execute_result",
          "data": {
            "text/plain": [
              "[Conv2d(1, 1, kernel_size=(3, 3), stride=(1, 1)),\n",
              " MaxPool2d(kernel_size=2, stride=2, padding=0, dilation=1, ceil_mode=False),\n",
              " ReLU(),\n",
              " Flatten(start_dim=1, end_dim=-1),\n",
              " Linear(in_features=1, out_features=1, bias=True),\n",
              " Sigmoid()]"
            ]
          },
          "metadata": {},
          "execution_count": 8
        }
      ]
    },
    {
      "cell_type": "markdown",
      "source": [
        "Get all the learnable params from the CNN"
      ],
      "metadata": {
        "id": "Yh7PZVSdxyYY"
      }
    },
    {
      "cell_type": "code",
      "source": [
        "(cnn_weights, cnn_bias), (lin_weights, lin_bias) = [(layer.weight.data, layer.bias.data) for layer in list(model.children()) if hasattr(layer, 'weight')]\n"
      ],
      "metadata": {
        "id": "WYrHox4Fxejz"
      },
      "execution_count": 10,
      "outputs": []
    },
    {
      "cell_type": "markdown",
      "source": [
        "The linear weight and bias are both scalars.\n",
        "The cnn bias term is also a scalar.\n",
        "The cnn weights are a tensor of 1 * 3 * 3, \n",
        "which coresponds to a single kernel with the shape of 3*3."
      ],
      "metadata": {
        "id": "tl7ag4Xwx2mU"
      }
    },
    {
      "cell_type": "code",
      "source": [
        "img_height, img_width = X_train.shape[2:]\n",
        "kernel_height, kernel_width = cnn_weights.shape[2:]\n",
        "sumprod = torch.zeros((img_height - kernel_height + 1, img_width - kernel_width + 1))\n"
      ],
      "metadata": {
        "id": "cPjGtVHhyIQB"
      },
      "execution_count": 11,
      "outputs": []
    },
    {
      "cell_type": "markdown",
      "source": [
        "sumprod is used for storing the result of the convolution and has the shape given in the code above.\n",
        "Let's convolve the kernel over the image data"
      ],
      "metadata": {
        "id": "V7MBSxFiykB_"
      }
    },
    {
      "cell_type": "code",
      "source": [
        "for i in range(img_height - kernel_height + 1):\n",
        "  for j in range(img_width - kernel_width + 1):\n",
        "    img_subset = X_train[0,0, i:(i+3), j:(j+3)]\n",
        "    model_filter = cnn_weights.reshape(3,3)\n",
        "    val = torch.sum(img_subset * model_filter) + cnn_bias\n",
        "    sumprod[i,j] = val\n",
        "\n",
        "print(sumprod)"
      ],
      "metadata": {
        "colab": {
          "base_uri": "https://localhost:8080/"
        },
        "id": "swD6k9Nry0W2",
        "outputId": "79aeb8f6-3eb3-4f75-9e13-b9a1bbdb96b1"
      },
      "execution_count": 12,
      "outputs": [
        {
          "output_type": "stream",
          "name": "stdout",
          "text": [
            "tensor([[2.1574, 2.8922],\n",
            "        [2.8595, 3.6192]])\n"
          ]
        }
      ]
    },
    {
      "cell_type": "code",
      "source": [
        "#ReLU activation\n",
        "sumprod.clamp_min_(0)"
      ],
      "metadata": {
        "colab": {
          "base_uri": "https://localhost:8080/"
        },
        "id": "D3L_QqokzX5P",
        "outputId": "a45705a3-f032-4718-bcff-00e670b608a3"
      },
      "execution_count": 13,
      "outputs": [
        {
          "output_type": "execute_result",
          "data": {
            "text/plain": [
              "tensor([[2.1574, 2.8922],\n",
              "        [2.8595, 3.6192]])"
            ]
          },
          "metadata": {},
          "execution_count": 13
        }
      ]
    },
    {
      "cell_type": "markdown",
      "source": [
        "Maxpooling"
      ],
      "metadata": {
        "id": "u3iKF_pzzgHG"
      }
    },
    {
      "cell_type": "code",
      "source": [
        "pooling_output = torch.max(sumprod)"
      ],
      "metadata": {
        "id": "_JJtjlBJzhyV"
      },
      "execution_count": 14,
      "outputs": []
    },
    {
      "cell_type": "markdown",
      "source": [
        "Apply the linear layer"
      ],
      "metadata": {
        "id": "cw0BOneMzpI0"
      }
    },
    {
      "cell_type": "code",
      "source": [
        "lin_layer_output = pooling_output * lin_weights + lin_bias"
      ],
      "metadata": {
        "id": "1bcdWlhtzrk3"
      },
      "execution_count": 15,
      "outputs": []
    },
    {
      "cell_type": "markdown",
      "source": [
        "Sigmoid activation"
      ],
      "metadata": {
        "id": "8Vu2xiusz0DR"
      }
    },
    {
      "cell_type": "code",
      "source": [
        "print(torch.sigmoid(lin_layer_output))"
      ],
      "metadata": {
        "colab": {
          "base_uri": "https://localhost:8080/"
        },
        "id": "CATYBnSUz1tL",
        "outputId": "2e963f64-d7c0-40ae-9b57-4e0704e5a6ac"
      },
      "execution_count": 17,
      "outputs": [
        {
          "output_type": "stream",
          "name": "stdout",
          "text": [
            "tensor([[0.0053]])\n"
          ]
        }
      ]
    },
    {
      "cell_type": "markdown",
      "source": [
        "# Classifying images with DCNNs\n",
        "\n",
        "We will classify the same FashionMNIST dataset.\n",
        "The preprocesing is pretty much the same except we won't flatten the  images as before to feed them in the network, we will transform each image to be a 1 * 28 * 28 tensor, because that's the format out CNN expect. "
      ],
      "metadata": {
        "id": "6ZEPHHWH0qmg"
      }
    },
    {
      "cell_type": "code",
      "source": [
        "data_folder = '~/data/FMNIST'\n",
        "fmnist = datasets.FashionMNIST(data_folder, download = True, train = True)\n",
        "tr_images = fmnist.data\n",
        "tr_targets = fmnist.targets"
      ],
      "metadata": {
        "colab": {
          "base_uri": "https://localhost:8080/",
          "height": 423,
          "referenced_widgets": [
            "68535240fa7149d09fe2f717c83078ce",
            "ac7c2f1e96314945bf3b9ae514dbc475",
            "1bced3175a01495d966856b3009d971c",
            "a55edb54ac1b4cdd86b0ac369a8169b8",
            "bcd19c1cde7f4bd9b07a700f437d63bf",
            "bb0d0388dfa54a0bbac43d79c2266056",
            "0cfe3f61f79b48df872d541c8f025212",
            "ab69fd3b34654d6db718342a7d226b51",
            "5ae173979acc47ffbaaae23398b4f0a8",
            "bf1c165d7e554fbdb02040b00ed10a5c",
            "0fc0dab70488444e8f980e4d7109a2f5",
            "d63f81519f4942e8a8e8ede89998b8da",
            "67f6f6c4a176429e8cbe1fce0594e40c",
            "ad14467149564e10ac66717fd364ec2c",
            "979e4f35425341c8a8dab1a1414dcc39",
            "adef0512305a48a799488ec2943b0b27",
            "14e5a45039754418a575e16b06e4108f",
            "ca58cb5522914919b362c9f8e5495477",
            "5648e63534a4452989fb201cd3827bcb",
            "d9d1bab87e9f4550a4413d7c5fa20c6f",
            "993c7c4816824e289d7f44abb1b979c2",
            "b35b01540a7f442aa70b3c6ab8588c40",
            "5842271ac0e945ae8fafe23a69454da1",
            "bda28b76ef8d4fe08f91bd0ddd342c4c",
            "1793e1846c3049b9a7f7d1cadf7ff270",
            "0b832093fe384c709e949c13f29f86c4",
            "0a36d52450d34c76862b89ec63bf3f08",
            "167e6b3a7d4c427d9048ea7cd971c859",
            "188d691164644c4b8a30e82c0df9724e",
            "d756d20bc7f34941a5152a5e7e64f8b1",
            "05aaf651f0b546548d810edf32539e46",
            "5ad9660c5eaa4b7e99ffd3ea6fe85eca",
            "d41bb1808ea8427ca95d88aa1f3f7122",
            "c2b617c1a12b490e84af41fc4f87c86c",
            "df789b7684c548989190e4bdb8c492bd",
            "2cdf5d3310d0435bae69b6bce525d801",
            "549e9f6eda82425ca6dfc298c9070686",
            "24ab2b3ce7f54f37bb3827979c9003b4",
            "12935dde6c67499b84fb265a800276fb",
            "5fdfaba06a9b4cf4b9521e60a2adc47f",
            "f9681391ee8348379633d975882ace20",
            "37ea65e2bc4c45baa3975fea8295942f",
            "74630f57d5bb432d94364d87c4ccbe51",
            "b0f5c78e4dff4543aaa9125fdb3ad48d"
          ]
        },
        "id": "tRw6Qrin1GLX",
        "outputId": "59e3cc80-b390-450a-b745-19a43e2193ca"
      },
      "execution_count": 9,
      "outputs": [
        {
          "output_type": "stream",
          "name": "stdout",
          "text": [
            "Downloading http://fashion-mnist.s3-website.eu-central-1.amazonaws.com/train-images-idx3-ubyte.gz\n",
            "Downloading http://fashion-mnist.s3-website.eu-central-1.amazonaws.com/train-images-idx3-ubyte.gz to /root/data/FMNIST/FashionMNIST/raw/train-images-idx3-ubyte.gz\n"
          ]
        },
        {
          "output_type": "display_data",
          "data": {
            "text/plain": [
              "  0%|          | 0/26421880 [00:00<?, ?it/s]"
            ],
            "application/vnd.jupyter.widget-view+json": {
              "version_major": 2,
              "version_minor": 0,
              "model_id": "68535240fa7149d09fe2f717c83078ce"
            }
          },
          "metadata": {}
        },
        {
          "output_type": "stream",
          "name": "stdout",
          "text": [
            "Extracting /root/data/FMNIST/FashionMNIST/raw/train-images-idx3-ubyte.gz to /root/data/FMNIST/FashionMNIST/raw\n",
            "\n",
            "Downloading http://fashion-mnist.s3-website.eu-central-1.amazonaws.com/train-labels-idx1-ubyte.gz\n",
            "Downloading http://fashion-mnist.s3-website.eu-central-1.amazonaws.com/train-labels-idx1-ubyte.gz to /root/data/FMNIST/FashionMNIST/raw/train-labels-idx1-ubyte.gz\n"
          ]
        },
        {
          "output_type": "display_data",
          "data": {
            "text/plain": [
              "  0%|          | 0/29515 [00:00<?, ?it/s]"
            ],
            "application/vnd.jupyter.widget-view+json": {
              "version_major": 2,
              "version_minor": 0,
              "model_id": "d63f81519f4942e8a8e8ede89998b8da"
            }
          },
          "metadata": {}
        },
        {
          "output_type": "stream",
          "name": "stdout",
          "text": [
            "Extracting /root/data/FMNIST/FashionMNIST/raw/train-labels-idx1-ubyte.gz to /root/data/FMNIST/FashionMNIST/raw\n",
            "\n",
            "Downloading http://fashion-mnist.s3-website.eu-central-1.amazonaws.com/t10k-images-idx3-ubyte.gz\n",
            "Downloading http://fashion-mnist.s3-website.eu-central-1.amazonaws.com/t10k-images-idx3-ubyte.gz to /root/data/FMNIST/FashionMNIST/raw/t10k-images-idx3-ubyte.gz\n"
          ]
        },
        {
          "output_type": "display_data",
          "data": {
            "text/plain": [
              "  0%|          | 0/4422102 [00:00<?, ?it/s]"
            ],
            "application/vnd.jupyter.widget-view+json": {
              "version_major": 2,
              "version_minor": 0,
              "model_id": "5842271ac0e945ae8fafe23a69454da1"
            }
          },
          "metadata": {}
        },
        {
          "output_type": "stream",
          "name": "stdout",
          "text": [
            "Extracting /root/data/FMNIST/FashionMNIST/raw/t10k-images-idx3-ubyte.gz to /root/data/FMNIST/FashionMNIST/raw\n",
            "\n",
            "Downloading http://fashion-mnist.s3-website.eu-central-1.amazonaws.com/t10k-labels-idx1-ubyte.gz\n",
            "Downloading http://fashion-mnist.s3-website.eu-central-1.amazonaws.com/t10k-labels-idx1-ubyte.gz to /root/data/FMNIST/FashionMNIST/raw/t10k-labels-idx1-ubyte.gz\n"
          ]
        },
        {
          "output_type": "display_data",
          "data": {
            "text/plain": [
              "  0%|          | 0/5148 [00:00<?, ?it/s]"
            ],
            "application/vnd.jupyter.widget-view+json": {
              "version_major": 2,
              "version_minor": 0,
              "model_id": "c2b617c1a12b490e84af41fc4f87c86c"
            }
          },
          "metadata": {}
        },
        {
          "output_type": "stream",
          "name": "stdout",
          "text": [
            "Extracting /root/data/FMNIST/FashionMNIST/raw/t10k-labels-idx1-ubyte.gz to /root/data/FMNIST/FashionMNIST/raw\n",
            "\n"
          ]
        }
      ]
    },
    {
      "cell_type": "code",
      "source": [
        "class FMNISTDataset(Dataset):\n",
        "  def __init__(self, x, y):\n",
        "    x = x.float() / 255 #normalize\n",
        "    x = x.view(-1,1,28,28) #turn into tensor of 1 * 28 * 28\n",
        "    self.x, self.y = x, y\n",
        "  def __getitem__(self, ix):\n",
        "    x, y = self.x[ix], self.y[ix]\n",
        "    return x.to(device), y.to(device)\n",
        "  def __len__(self):\n",
        "    return len(self.x)\n"
      ],
      "metadata": {
        "id": "AXDyfDWz1cVw"
      },
      "execution_count": 10,
      "outputs": []
    },
    {
      "cell_type": "code",
      "source": [
        "def get_model():\n",
        "  model = nn.Sequential(\n",
        "        nn.Conv2d(1, 64, kernel_size = 3), #64 kernels of 3*3 size\n",
        "        nn.MaxPool2d(2), # 2*2 pooling matrix\n",
        "        nn.ReLU(),\n",
        "        nn.Conv2d(64,128,kernel_size=3), # 64 feature maps on input through 128 kernels of 3*3\n",
        "        nn.MaxPool2d(2),\n",
        "        nn.ReLU(),\n",
        "        nn.Flatten(),\n",
        "        nn.Linear(3200, 256), #3200 element input vector to 256 outputs\n",
        "        nn.ReLU(),\n",
        "        nn.Linear(256, 10) #the hidden layer output of 256 elements to 10 classes\n",
        "  ).to(device)\n",
        "\n",
        "  loss_fn = nn.CrossEntropyLoss() #FOR MULTICLASS\n",
        "  optimizer = Adam(model.parameters(), lr = 1e-3)\n",
        "  return model, loss_fn, optimizer\n",
        "\n",
        "\n",
        "\n"
      ],
      "metadata": {
        "id": "DIwtsJ8-183V"
      },
      "execution_count": 11,
      "outputs": []
    },
    {
      "cell_type": "code",
      "source": [
        "model, loss_fn, optimizer = get_model()\n",
        "summary(model, torch.zeros(1,1,28,28))\n"
      ],
      "metadata": {
        "colab": {
          "base_uri": "https://localhost:8080/"
        },
        "id": "9qPUA_0X3EVI",
        "outputId": "9d323372-46cf-4ff0-ce2f-190925e59826"
      },
      "execution_count": 12,
      "outputs": [
        {
          "output_type": "stream",
          "name": "stdout",
          "text": [
            "==========================================================================================\n",
            "Layer (type:depth-idx)                   Output Shape              Param #\n",
            "==========================================================================================\n",
            "├─Conv2d: 1-1                            [-1, 64, 26, 26]          640\n",
            "├─MaxPool2d: 1-2                         [-1, 64, 13, 13]          --\n",
            "├─ReLU: 1-3                              [-1, 64, 13, 13]          --\n",
            "├─Conv2d: 1-4                            [-1, 128, 11, 11]         73,856\n",
            "├─MaxPool2d: 1-5                         [-1, 128, 5, 5]           --\n",
            "├─ReLU: 1-6                              [-1, 128, 5, 5]           --\n",
            "├─Flatten: 1-7                           [-1, 3200]                --\n",
            "├─Linear: 1-8                            [-1, 256]                 819,456\n",
            "├─ReLU: 1-9                              [-1, 256]                 --\n",
            "├─Linear: 1-10                           [-1, 10]                  2,570\n",
            "==========================================================================================\n",
            "Total params: 896,522\n",
            "Trainable params: 896,522\n",
            "Non-trainable params: 0\n",
            "Total mult-adds (M): 10.13\n",
            "==========================================================================================\n",
            "Input size (MB): 0.00\n",
            "Forward/backward pass size (MB): 0.45\n",
            "Params size (MB): 3.42\n",
            "Estimated Total Size (MB): 3.87\n",
            "==========================================================================================\n"
          ]
        },
        {
          "output_type": "execute_result",
          "data": {
            "text/plain": [
              "==========================================================================================\n",
              "Layer (type:depth-idx)                   Output Shape              Param #\n",
              "==========================================================================================\n",
              "├─Conv2d: 1-1                            [-1, 64, 26, 26]          640\n",
              "├─MaxPool2d: 1-2                         [-1, 64, 13, 13]          --\n",
              "├─ReLU: 1-3                              [-1, 64, 13, 13]          --\n",
              "├─Conv2d: 1-4                            [-1, 128, 11, 11]         73,856\n",
              "├─MaxPool2d: 1-5                         [-1, 128, 5, 5]           --\n",
              "├─ReLU: 1-6                              [-1, 128, 5, 5]           --\n",
              "├─Flatten: 1-7                           [-1, 3200]                --\n",
              "├─Linear: 1-8                            [-1, 256]                 819,456\n",
              "├─ReLU: 1-9                              [-1, 256]                 --\n",
              "├─Linear: 1-10                           [-1, 10]                  2,570\n",
              "==========================================================================================\n",
              "Total params: 896,522\n",
              "Trainable params: 896,522\n",
              "Non-trainable params: 0\n",
              "Total mult-adds (M): 10.13\n",
              "==========================================================================================\n",
              "Input size (MB): 0.00\n",
              "Forward/backward pass size (MB): 0.45\n",
              "Params size (MB): 3.42\n",
              "Estimated Total Size (MB): 3.87\n",
              "=========================================================================================="
            ]
          },
          "metadata": {},
          "execution_count": 12
        }
      ]
    },
    {
      "cell_type": "markdown",
      "source": [
        "Where are the params from?\n",
        "\n",
        "**Layer 1**: 64 kernels with a size of 3 so we have 64 * 3 * 3 weights and 64 * 1 biases so in total 640 params\n",
        "**Layer 4** : 128 kernels with a size of 3*3 per each of the 64 feature maps so we have 64 * 128 * 3 * 3 weights and 128 * 1 biases so in total 73856 params\n",
        "**Layer 8** : We have 3200 inputs neurons connected to 256 hidden layer neurons in a fully connected network so we have 3200 * 256 weights + 256 biases so that is 819456 params\n",
        "**Layer 10** : 266 hidden layers neurons connected to 10 output layer neurons is 256 * 10 weights + 10 biases is 2570 params\n",
        "\n"
      ],
      "metadata": {
        "id": "2aWyKzVm3Ygh"
      }
    },
    {
      "cell_type": "code",
      "source": [
        "val_fmnist = datasets.FashionMNIST(data_folder, download = True, train = False)\n",
        "val_images = val_fmnist.data\n",
        "val_targets = val_fmnist.targets\n",
        "\n",
        "def get_data():\n",
        "  train = FMNISTDataset(tr_images, tr_targets)\n",
        "  trn_dl = DataLoader(train, batch_size = 32, shuffle = True )\n",
        "  val = FMNISTDataset(val_images, val_targets)\n",
        "  val_dl = DataLoader(val, batch_size = len(val_images), shuffle = True)\n",
        "  return trn_dl, val_dl"
      ],
      "metadata": {
        "id": "HvXSxCot49fo"
      },
      "execution_count": 13,
      "outputs": []
    },
    {
      "cell_type": "code",
      "source": [
        "@torch.no_grad()\n",
        "def accuracy(x, y, model):\n",
        "  model.eval()\n",
        "  prediction = model(x)\n",
        "  max_values, argmaxes = prediction.max(-1)\n",
        "  is_correct = argmaxes == y\n",
        "  return is_correct.cpu().numpy().tolist()\n",
        "\n",
        "@torch.no_grad()\n",
        "def val_loss(x,y,model):\n",
        "  model.eval()\n",
        "  prediction = model(x)\n",
        "  val_loss = loss_fn(prediction, y)\n",
        "  return val_loss.item()"
      ],
      "metadata": {
        "id": "yJibru_XCpkT"
      },
      "execution_count": 17,
      "outputs": []
    },
    {
      "cell_type": "code",
      "source": [
        "trn_dl, val_dl = get_data()\n",
        "model, loss_fn, optimizer = get_model()\n",
        "\n",
        "summary(model, torch.zeros(1,1,28,28))"
      ],
      "metadata": {
        "colab": {
          "base_uri": "https://localhost:8080/"
        },
        "id": "15akoKlHDIeG",
        "outputId": "450047fc-a975-48d2-e526-898c6acfbf6c"
      },
      "execution_count": 15,
      "outputs": [
        {
          "output_type": "stream",
          "name": "stdout",
          "text": [
            "==========================================================================================\n",
            "Layer (type:depth-idx)                   Output Shape              Param #\n",
            "==========================================================================================\n",
            "├─Conv2d: 1-1                            [-1, 64, 26, 26]          640\n",
            "├─MaxPool2d: 1-2                         [-1, 64, 13, 13]          --\n",
            "├─ReLU: 1-3                              [-1, 64, 13, 13]          --\n",
            "├─Conv2d: 1-4                            [-1, 128, 11, 11]         73,856\n",
            "├─MaxPool2d: 1-5                         [-1, 128, 5, 5]           --\n",
            "├─ReLU: 1-6                              [-1, 128, 5, 5]           --\n",
            "├─Flatten: 1-7                           [-1, 3200]                --\n",
            "├─Linear: 1-8                            [-1, 256]                 819,456\n",
            "├─ReLU: 1-9                              [-1, 256]                 --\n",
            "├─Linear: 1-10                           [-1, 10]                  2,570\n",
            "==========================================================================================\n",
            "Total params: 896,522\n",
            "Trainable params: 896,522\n",
            "Non-trainable params: 0\n",
            "Total mult-adds (M): 10.13\n",
            "==========================================================================================\n",
            "Input size (MB): 0.00\n",
            "Forward/backward pass size (MB): 0.45\n",
            "Params size (MB): 3.42\n",
            "Estimated Total Size (MB): 3.87\n",
            "==========================================================================================\n"
          ]
        },
        {
          "output_type": "execute_result",
          "data": {
            "text/plain": [
              "==========================================================================================\n",
              "Layer (type:depth-idx)                   Output Shape              Param #\n",
              "==========================================================================================\n",
              "├─Conv2d: 1-1                            [-1, 64, 26, 26]          640\n",
              "├─MaxPool2d: 1-2                         [-1, 64, 13, 13]          --\n",
              "├─ReLU: 1-3                              [-1, 64, 13, 13]          --\n",
              "├─Conv2d: 1-4                            [-1, 128, 11, 11]         73,856\n",
              "├─MaxPool2d: 1-5                         [-1, 128, 5, 5]           --\n",
              "├─ReLU: 1-6                              [-1, 128, 5, 5]           --\n",
              "├─Flatten: 1-7                           [-1, 3200]                --\n",
              "├─Linear: 1-8                            [-1, 256]                 819,456\n",
              "├─ReLU: 1-9                              [-1, 256]                 --\n",
              "├─Linear: 1-10                           [-1, 10]                  2,570\n",
              "==========================================================================================\n",
              "Total params: 896,522\n",
              "Trainable params: 896,522\n",
              "Non-trainable params: 0\n",
              "Total mult-adds (M): 10.13\n",
              "==========================================================================================\n",
              "Input size (MB): 0.00\n",
              "Forward/backward pass size (MB): 0.45\n",
              "Params size (MB): 3.42\n",
              "Estimated Total Size (MB): 3.87\n",
              "=========================================================================================="
            ]
          },
          "metadata": {},
          "execution_count": 15
        }
      ]
    },
    {
      "cell_type": "code",
      "source": [
        "train_losses, train_accuracies = [], []\n",
        "val_losses, val_accuracies = [], []\n",
        "for epoch in range(5):\n",
        "  print(f\"Epoch number {epoch + 1}\")\n",
        "  train_epoch_losses, train_epoch_accuracies = [], []\n",
        "  for ix, batch in enumerate(iter(trn_dl)):\n",
        "    x,y = batch\n",
        "    batch_loss = train_batch(x,y,model, optimizer, loss_fn)\n",
        "    train_epoch_losses.append(batch_loss)\n",
        "  train_epoch_loss = np.array(train_epoch_losses).mean()\n",
        "\n",
        "  for ix, batch in enumerate(iter(trn_dl)):\n",
        "    x,y = batch\n",
        "    is_correct = accuracy(x,y,model)\n",
        "    train_epoch_accuracies.extend(is_correct)\n",
        "  train_epoch_accuracy = np.mean(train_epoch_accuracies)\n",
        "\n",
        "  for ix, batch in enumerate(iter(val_dl)):\n",
        "    x,y = batch\n",
        "    val_is_correct = accuracy(x,y,model)\n",
        "    validation_loss = val_loss(x,y,model)\n",
        "  val_epoch_accuracy = np.mean(val_is_correct)\n",
        "\n",
        "  train_losses.append(train_epoch_loss)\n",
        "  train_accuracies.append(train_epoch_accuracy)\n",
        "  val_losses.append(validation_loss)\n",
        "  val_accuracies.append(val_epoch_accuracy)\n"
      ],
      "metadata": {
        "colab": {
          "base_uri": "https://localhost:8080/"
        },
        "id": "So0vJ4naDVgb",
        "outputId": "950bc926-8988-4c98-a4a9-1e27fc6bfdb9"
      },
      "execution_count": 18,
      "outputs": [
        {
          "output_type": "stream",
          "name": "stdout",
          "text": [
            "Epoch number 1\n",
            "Epoch number 2\n",
            "Epoch number 3\n",
            "Epoch number 4\n",
            "Epoch number 5\n"
          ]
        }
      ]
    },
    {
      "cell_type": "code",
      "source": [
        "epochs = np.arange(5)+1\n",
        "import matplotlib.ticker as mtick\n",
        "import matplotlib.pyplot as plt\n",
        "import matplotlib.ticker as mticker\n",
        "%matplotlib inline\n",
        "plt.subplot(211)\n",
        "plt.plot(epochs, train_losses, 'bo', label='Training loss')\n",
        "plt.plot(epochs, val_losses, 'r', label='Validation loss')\n",
        "plt.gca().xaxis.set_major_locator(mticker.MultipleLocator(1))\n",
        "plt.title('Training and validation loss with CNN')\n",
        "plt.xlabel('Epochs')\n",
        "plt.ylabel('Loss')\n",
        "plt.legend()\n",
        "plt.grid('off')\n",
        "plt.show()\n",
        "plt.subplot(212)\n",
        "plt.plot(epochs, train_accuracies, 'bo', label='Training accuracy')\n",
        "plt.plot(epochs, val_accuracies, 'r', label='Validation accuracy')\n",
        "plt.gca().xaxis.set_major_locator(mticker.MultipleLocator(1))\n",
        "plt.title('Training and validation accuracy with CNN')\n",
        "plt.xlabel('Epochs')\n",
        "plt.ylabel('Accuracy')\n",
        "#plt.ylim(0.8,1)\n",
        "plt.gca().set_yticklabels(['{:.0f}%'.format(x*100) for x in plt.gca().get_yticks()]) \n",
        "plt.legend()\n",
        "plt.grid('off')\n",
        "plt.show()"
      ],
      "metadata": {
        "colab": {
          "base_uri": "https://localhost:8080/",
          "height": 337
        },
        "id": "LInnnQiSHeiS",
        "outputId": "9a5c1c2e-1742-4fba-c9e2-e90b297da84d"
      },
      "execution_count": 19,
      "outputs": [
        {
          "output_type": "display_data",
          "data": {
            "text/plain": [
              "<Figure size 432x288 with 1 Axes>"
            ],
            "image/png": "[encoded data removed]"
          },
          "metadata": {
            "needs_background": "light"
          }
        },
        {
          "output_type": "display_data",
          "data": {
            "text/plain": [
              "<Figure size 432x288 with 1 Axes>"
            ],
            "image/png": "[encoded data removed]"
          },
          "metadata": {
            "needs_background": "light"
          }
        }
      ]
    },
    {
      "cell_type": "markdown",
      "source": [
        "Let's translate the image +-5 pixels and try to predict the class"
      ],
      "metadata": {
        "id": "zpakdIA0Hk7N"
      }
    },
    {
      "cell_type": "code",
      "source": [
        "preds = []\n",
        "ix = 24300\n",
        "for px in range(-5,6):\n",
        "  img = tr_images[ix] / 255.\n",
        "  img = img.view(28,28)\n",
        "  img2 = np.roll(img, px, axis = 1)\n",
        "  img3 = torch.Tensor(img2).view(-1,1,28,28).to(device)\n",
        "  np_output = model(img3).cpu().detach().numpy()\n",
        "  pred = np.exp(np_output) / np.sum(np.exp(np_output))\n",
        "  preds.append(pred)\n",
        "  plt.imshow(img2)\n",
        "  plt.title(fmnist.classes[pred[0].argmax()])\n",
        "  plt.show()\n"
      ],
      "metadata": {
        "colab": {
          "base_uri": "https://localhost:8080/",
          "height": 1000
        },
        "id": "cCzAv85jHya7",
        "outputId": "5b154ffe-2adc-44be-b602-18680a765920"
      },
      "execution_count": 23,
      "outputs": [
        {
          "output_type": "display_data",
          "data": {
            "text/plain": [
              "<Figure size 432x288 with 1 Axes>"
            ],
            "image/png": "[encoded data removed]"
          },
          "metadata": {
            "needs_background": "light"
          }
        },
        {
          "output_type": "display_data",
          "data": {
            "text/plain": [
              "<Figure size 432x288 with 1 Axes>"
            ],
            "image/png": "[encoded data removed]"
          },
          "metadata": {
            "needs_background": "light"
          }
        },
        {
          "output_type": "display_data",
          "data": {
            "text/plain": [
              "<Figure size 432x288 with 1 Axes>"
            ],
            "image/png": "[encoded data removed]"
          },
          "metadata": {
            "needs_background": "light"
          }
        },
        {
          "output_type": "display_data",
          "data": {
            "text/plain": [
              "<Figure size 432x288 with 1 Axes>"
            ],
            "image/png": "[encoded data removed]"
          },
          "metadata": {
            "needs_background": "light"
          }
        },
        {
          "output_type": "display_data",
          "data": {
            "text/plain": [
              "<Figure size 432x288 with 1 Axes>"
            ],
            "image/png": "[encoded data removed]"
          },
          "metadata": {
            "needs_background": "light"
          }
        },
        {
          "output_type": "display_data",
          "data": {
            "text/plain": [
              "<Figure size 432x288 with 1 Axes>"
            ],
            "image/png": "[encoded data removed]"
          },
          "metadata": {
            "needs_background": "light"
          }
        },
        {
          "output_type": "display_data",
          "data": {
            "text/plain": [
              "<Figure size 432x288 with 1 Axes>"
            ],
            "image/png": "[encoded data removed]"
          },
          "metadata": {
            "needs_background": "light"
          }
        },
        {
          "output_type": "display_data",
          "data": {
            "text/plain": [
              "<Figure size 432x288 with 1 Axes>"
            ],
            "image/png": "[encoded data removed]"
          },
          "metadata": {
            "needs_background": "light"
          }
        },
        {
          "output_type": "display_data",
          "data": {
            "text/plain": [
              "<Figure size 432x288 with 1 Axes>"
            ],
            "image/png": "[encoded data removed]"
          },
          "metadata": {
            "needs_background": "light"
          }
        },
        {
          "output_type": "display_data",
          "data": {
            "text/plain": [
              "<Figure size 432x288 with 1 Axes>"
            ],
            "image/png": "[encoded data removed]"
          },
          "metadata": {
            "needs_background": "light"
          }
        },
        {
          "output_type": "display_data",
          "data": {
            "text/plain": [
              "<Figure size 432x288 with 1 Axes>"
            ],
            "image/png": "[encoded data removed]"
          },
          "metadata": {
            "needs_background": "light"
          }
        }
      ]
    },
    {
      "cell_type": "code",
      "source": [
        "import seaborn as sns\n",
        "fig, ax = plt.subplots(1,1, figsize = (12,10))\n",
        "plt.title('Probability of each class for various translations')\n",
        "sns.heatmap(np.array(preds).reshape(11,10), annot = True, ax = ax, fmt = '.2f', xticklabels = fmnist.classes, yticklabels = [str(i) + str('pixels') for i in range(-5,6)],cmap = 'gray')\n"
      ],
      "metadata": {
        "colab": {
          "base_uri": "https://localhost:8080/",
          "height": 624
        },
        "id": "YDKAl8ZlI9CJ",
        "outputId": "91997fda-3bd2-4889-e7de-8ce693120cf8"
      },
      "execution_count": 24,
      "outputs": [
        {
          "output_type": "execute_result",
          "data": {
            "text/plain": [
              "<matplotlib.axes._subplots.AxesSubplot at 0x7fe9c8c14160>"
            ]
          },
          "metadata": {},
          "execution_count": 24
        },
        {
          "output_type": "display_data",
          "data": {
            "text/plain": [
              "<Figure size 864x720 with 2 Axes>"
            ],
            "image/png": "[encoded data removed]"
          },
          "metadata": {
            "needs_background": "light"
          }
        }
      ]
    }
  ]
}