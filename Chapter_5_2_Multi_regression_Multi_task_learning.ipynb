{
  "nbformat": 4,
  "nbformat_minor": 0,
  "metadata": {
    "colab": {
      "provenance": [],
      "authorship_tag": "ABX9TyME3Z/ym79HP9FHfqNOniBU",
      "include_colab_link": true
    },
    "kernelspec": {
      "name": "python3",
      "display_name": "Python 3"
    },
    "language_info": {
      "name": "python"
    }
  },
  "cells": [
    {
      "cell_type": "markdown",
      "metadata": {
        "id": "view-in-github",
        "colab_type": "text"
      },
      "source": [
        "<a href=\"https://colab.research.google.com/github/Voland24/ModernComputerVisionPytorch/blob/main/Chapter_5_2_Multi_regression_Multi_task_learning.ipynb\" target=\"_parent\"><img src=\"https://colab.research.google.com/assets/colab-badge.svg\" alt=\"Open In Colab\"/></a>"
      ]
    },
    {
      "cell_type": "markdown",
      "source": [
        "# Multi taks and multi regression\n",
        "\n",
        "So far we have been considering binary classification problems, where the class can be either 0 or 1. Here we are going to consider two separate tasks.\n",
        "One, prediction of multiple values given an image in the form of **facial key points detection**\n",
        "Two, multi task learning, prediction of multiple items in a single shot in a form of **age estimation and gender classification** at once from the same image."
      ],
      "metadata": {
        "id": "PlH71sal0vvY"
      }
    }
  ]
}