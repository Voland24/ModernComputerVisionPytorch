{
  "nbformat": 4,
  "nbformat_minor": 0,
  "metadata": {
    "colab": {
      "provenance": [],
      "authorship_tag": "ABX9TyNc1+JzxqGuUBjUR51q9f+N",
      "include_colab_link": true
    },
    "kernelspec": {
      "name": "python3",
      "display_name": "Python 3"
    },
    "language_info": {
      "name": "python"
    },
    "widgets": {
      "application/vnd.jupyter.widget-state+json": {
        "4fc7ffa4226b4f11b5b5ab387d0062ad": {
          "model_module": "@jupyter-widgets/controls",
          "model_name": "HBoxModel",
          "model_module_version": "1.5.0",
          "state": {
            "_dom_classes": [],
            "_model_module": "@jupyter-widgets/controls",
            "_model_module_version": "1.5.0",
            "_model_name": "HBoxModel",
            "_view_count": null,
            "_view_module": "@jupyter-widgets/controls",
            "_view_module_version": "1.5.0",
            "_view_name": "HBoxView",
            "box_style": "",
            "children": [
              "IPY_MODEL_a80e18872a1742caacdc4995b85df675",
              "IPY_MODEL_8594cc8d3f3b484ab5b6bcccf283b845",
              "IPY_MODEL_53b80c2fb0a2414d804b4f6ba283bc77"
            ],
            "layout": "IPY_MODEL_b381f0f1360b48ac84323dfad3eba918"
          }
        },
        "a80e18872a1742caacdc4995b85df675": {
          "model_module": "@jupyter-widgets/controls",
          "model_name": "HTMLModel",
          "model_module_version": "1.5.0",
          "state": {
            "_dom_classes": [],
            "_model_module": "@jupyter-widgets/controls",
            "_model_module_version": "1.5.0",
            "_model_name": "HTMLModel",
            "_view_count": null,
            "_view_module": "@jupyter-widgets/controls",
            "_view_module_version": "1.5.0",
            "_view_name": "HTMLView",
            "description": "",
            "description_tooltip": null,
            "layout": "IPY_MODEL_4602ee0abc3744e8b5112c0efdc52736",
            "placeholder": "​",
            "style": "IPY_MODEL_2263021dae4148c5bde3521a74212479",
            "value": "100%"
          }
        },
        "8594cc8d3f3b484ab5b6bcccf283b845": {
          "model_module": "@jupyter-widgets/controls",
          "model_name": "FloatProgressModel",
          "model_module_version": "1.5.0",
          "state": {
            "_dom_classes": [],
            "_model_module": "@jupyter-widgets/controls",
            "_model_module_version": "1.5.0",
            "_model_name": "FloatProgressModel",
            "_view_count": null,
            "_view_module": "@jupyter-widgets/controls",
            "_view_module_version": "1.5.0",
            "_view_name": "ProgressView",
            "bar_style": "success",
            "description": "",
            "description_tooltip": null,
            "layout": "IPY_MODEL_12eb032281d5484e9ddcc3b383061bf4",
            "max": 26421880,
            "min": 0,
            "orientation": "horizontal",
            "style": "IPY_MODEL_ddcc99c2c0424033af87c87db8cad8dd",
            "value": 26421880
          }
        },
        "53b80c2fb0a2414d804b4f6ba283bc77": {
          "model_module": "@jupyter-widgets/controls",
          "model_name": "HTMLModel",
          "model_module_version": "1.5.0",
          "state": {
            "_dom_classes": [],
            "_model_module": "@jupyter-widgets/controls",
            "_model_module_version": "1.5.0",
            "_model_name": "HTMLModel",
            "_view_count": null,
            "_view_module": "@jupyter-widgets/controls",
            "_view_module_version": "1.5.0",
            "_view_name": "HTMLView",
            "description": "",
            "description_tooltip": null,
            "layout": "IPY_MODEL_68b1cbdac910415f8a7f1810e40d35f1",
            "placeholder": "​",
            "style": "IPY_MODEL_4d8a3cbc7e0d45bb8d442fd0d0023740",
            "value": " 26421880/26421880 [00:02&lt;00:00, 17180776.08it/s]"
          }
        },
        "b381f0f1360b48ac84323dfad3eba918": {
          "model_module": "@jupyter-widgets/base",
          "model_name": "LayoutModel",
          "model_module_version": "1.2.0",
          "state": {
            "_model_module": "@jupyter-widgets/base",
            "_model_module_version": "1.2.0",
            "_model_name": "LayoutModel",
            "_view_count": null,
            "_view_module": "@jupyter-widgets/base",
            "_view_module_version": "1.2.0",
            "_view_name": "LayoutView",
            "align_content": null,
            "align_items": null,
            "align_self": null,
            "border": null,
            "bottom": null,
            "display": null,
            "flex": null,
            "flex_flow": null,
            "grid_area": null,
            "grid_auto_columns": null,
            "grid_auto_flow": null,
            "grid_auto_rows": null,
            "grid_column": null,
            "grid_gap": null,
            "grid_row": null,
            "grid_template_areas": null,
            "grid_template_columns": null,
            "grid_template_rows": null,
            "height": null,
            "justify_content": null,
            "justify_items": null,
            "left": null,
            "margin": null,
            "max_height": null,
            "max_width": null,
            "min_height": null,
            "min_width": null,
            "object_fit": null,
            "object_position": null,
            "order": null,
            "overflow": null,
            "overflow_x": null,
            "overflow_y": null,
            "padding": null,
            "right": null,
            "top": null,
            "visibility": null,
            "width": null
          }
        },
        "4602ee0abc3744e8b5112c0efdc52736": {
          "model_module": "@jupyter-widgets/base",
          "model_name": "LayoutModel",
          "model_module_version": "1.2.0",
          "state": {
            "_model_module": "@jupyter-widgets/base",
            "_model_module_version": "1.2.0",
            "_model_name": "LayoutModel",
            "_view_count": null,
            "_view_module": "@jupyter-widgets/base",
            "_view_module_version": "1.2.0",
            "_view_name": "LayoutView",
            "align_content": null,
            "align_items": null,
            "align_self": null,
            "border": null,
            "bottom": null,
            "display": null,
            "flex": null,
            "flex_flow": null,
            "grid_area": null,
            "grid_auto_columns": null,
            "grid_auto_flow": null,
            "grid_auto_rows": null,
            "grid_column": null,
            "grid_gap": null,
            "grid_row": null,
            "grid_template_areas": null,
            "grid_template_columns": null,
            "grid_template_rows": null,
            "height": null,
            "justify_content": null,
            "justify_items": null,
            "left": null,
            "margin": null,
            "max_height": null,
            "max_width": null,
            "min_height": null,
            "min_width": null,
            "object_fit": null,
            "object_position": null,
            "order": null,
            "overflow": null,
            "overflow_x": null,
            "overflow_y": null,
            "padding": null,
            "right": null,
            "top": null,
            "visibility": null,
            "width": null
          }
        },
        "2263021dae4148c5bde3521a74212479": {
          "model_module": "@jupyter-widgets/controls",
          "model_name": "DescriptionStyleModel",
          "model_module_version": "1.5.0",
          "state": {
            "_model_module": "@jupyter-widgets/controls",
            "_model_module_version": "1.5.0",
            "_model_name": "DescriptionStyleModel",
            "_view_count": null,
            "_view_module": "@jupyter-widgets/base",
            "_view_module_version": "1.2.0",
            "_view_name": "StyleView",
            "description_width": ""
          }
        },
        "12eb032281d5484e9ddcc3b383061bf4": {
          "model_module": "@jupyter-widgets/base",
          "model_name": "LayoutModel",
          "model_module_version": "1.2.0",
          "state": {
            "_model_module": "@jupyter-widgets/base",
            "_model_module_version": "1.2.0",
            "_model_name": "LayoutModel",
            "_view_count": null,
            "_view_module": "@jupyter-widgets/base",
            "_view_module_version": "1.2.0",
            "_view_name": "LayoutView",
            "align_content": null,
            "align_items": null,
            "align_self": null,
            "border": null,
            "bottom": null,
            "display": null,
            "flex": null,
            "flex_flow": null,
            "grid_area": null,
            "grid_auto_columns": null,
            "grid_auto_flow": null,
            "grid_auto_rows": null,
            "grid_column": null,
            "grid_gap": null,
            "grid_row": null,
            "grid_template_areas": null,
            "grid_template_columns": null,
            "grid_template_rows": null,
            "height": null,
            "justify_content": null,
            "justify_items": null,
            "left": null,
            "margin": null,
            "max_height": null,
            "max_width": null,
            "min_height": null,
            "min_width": null,
            "object_fit": null,
            "object_position": null,
            "order": null,
            "overflow": null,
            "overflow_x": null,
            "overflow_y": null,
            "padding": null,
            "right": null,
            "top": null,
            "visibility": null,
            "width": null
          }
        },
        "ddcc99c2c0424033af87c87db8cad8dd": {
          "model_module": "@jupyter-widgets/controls",
          "model_name": "ProgressStyleModel",
          "model_module_version": "1.5.0",
          "state": {
            "_model_module": "@jupyter-widgets/controls",
            "_model_module_version": "1.5.0",
            "_model_name": "ProgressStyleModel",
            "_view_count": null,
            "_view_module": "@jupyter-widgets/base",
            "_view_module_version": "1.2.0",
            "_view_name": "StyleView",
            "bar_color": null,
            "description_width": ""
          }
        },
        "68b1cbdac910415f8a7f1810e40d35f1": {
          "model_module": "@jupyter-widgets/base",
          "model_name": "LayoutModel",
          "model_module_version": "1.2.0",
          "state": {
            "_model_module": "@jupyter-widgets/base",
            "_model_module_version": "1.2.0",
            "_model_name": "LayoutModel",
            "_view_count": null,
            "_view_module": "@jupyter-widgets/base",
            "_view_module_version": "1.2.0",
            "_view_name": "LayoutView",
            "align_content": null,
            "align_items": null,
            "align_self": null,
            "border": null,
            "bottom": null,
            "display": null,
            "flex": null,
            "flex_flow": null,
            "grid_area": null,
            "grid_auto_columns": null,
            "grid_auto_flow": null,
            "grid_auto_rows": null,
            "grid_column": null,
            "grid_gap": null,
            "grid_row": null,
            "grid_template_areas": null,
            "grid_template_columns": null,
            "grid_template_rows": null,
            "height": null,
            "justify_content": null,
            "justify_items": null,
            "left": null,
            "margin": null,
            "max_height": null,
            "max_width": null,
            "min_height": null,
            "min_width": null,
            "object_fit": null,
            "object_position": null,
            "order": null,
            "overflow": null,
            "overflow_x": null,
            "overflow_y": null,
            "padding": null,
            "right": null,
            "top": null,
            "visibility": null,
            "width": null
          }
        },
        "4d8a3cbc7e0d45bb8d442fd0d0023740": {
          "model_module": "@jupyter-widgets/controls",
          "model_name": "DescriptionStyleModel",
          "model_module_version": "1.5.0",
          "state": {
            "_model_module": "@jupyter-widgets/controls",
            "_model_module_version": "1.5.0",
            "_model_name": "DescriptionStyleModel",
            "_view_count": null,
            "_view_module": "@jupyter-widgets/base",
            "_view_module_version": "1.2.0",
            "_view_name": "StyleView",
            "description_width": ""
          }
        },
        "a5962e77022245029b146b41273cce75": {
          "model_module": "@jupyter-widgets/controls",
          "model_name": "HBoxModel",
          "model_module_version": "1.5.0",
          "state": {
            "_dom_classes": [],
            "_model_module": "@jupyter-widgets/controls",
            "_model_module_version": "1.5.0",
            "_model_name": "HBoxModel",
            "_view_count": null,
            "_view_module": "@jupyter-widgets/controls",
            "_view_module_version": "1.5.0",
            "_view_name": "HBoxView",
            "box_style": "",
            "children": [
              "IPY_MODEL_f200f6fcae8c4d7e8435b6128c3bb8aa",
              "IPY_MODEL_221bb12a5e924bab802c5a2b1b1bf74c",
              "IPY_MODEL_3562c8fe00224cfe9ecd88e0dc8785b3"
            ],
            "layout": "IPY_MODEL_b066c88c4ad240fd9256e394888f3f8a"
          }
        },
        "f200f6fcae8c4d7e8435b6128c3bb8aa": {
          "model_module": "@jupyter-widgets/controls",
          "model_name": "HTMLModel",
          "model_module_version": "1.5.0",
          "state": {
            "_dom_classes": [],
            "_model_module": "@jupyter-widgets/controls",
            "_model_module_version": "1.5.0",
            "_model_name": "HTMLModel",
            "_view_count": null,
            "_view_module": "@jupyter-widgets/controls",
            "_view_module_version": "1.5.0",
            "_view_name": "HTMLView",
            "description": "",
            "description_tooltip": null,
            "layout": "IPY_MODEL_bf9b54e18bd94b628d6ad61f86410627",
            "placeholder": "​",
            "style": "IPY_MODEL_d13118d493934508bd6af407f14a3c6c",
            "value": "100%"
          }
        },
        "221bb12a5e924bab802c5a2b1b1bf74c": {
          "model_module": "@jupyter-widgets/controls",
          "model_name": "FloatProgressModel",
          "model_module_version": "1.5.0",
          "state": {
            "_dom_classes": [],
            "_model_module": "@jupyter-widgets/controls",
            "_model_module_version": "1.5.0",
            "_model_name": "FloatProgressModel",
            "_view_count": null,
            "_view_module": "@jupyter-widgets/controls",
            "_view_module_version": "1.5.0",
            "_view_name": "ProgressView",
            "bar_style": "success",
            "description": "",
            "description_tooltip": null,
            "layout": "IPY_MODEL_cfee59f0d2ec40cbbdcab92a90acdc91",
            "max": 29515,
            "min": 0,
            "orientation": "horizontal",
            "style": "IPY_MODEL_5edadc531fa448d3bad18c88944d26a3",
            "value": 29515
          }
        },
        "3562c8fe00224cfe9ecd88e0dc8785b3": {
          "model_module": "@jupyter-widgets/controls",
          "model_name": "HTMLModel",
          "model_module_version": "1.5.0",
          "state": {
            "_dom_classes": [],
            "_model_module": "@jupyter-widgets/controls",
            "_model_module_version": "1.5.0",
            "_model_name": "HTMLModel",
            "_view_count": null,
            "_view_module": "@jupyter-widgets/controls",
            "_view_module_version": "1.5.0",
            "_view_name": "HTMLView",
            "description": "",
            "description_tooltip": null,
            "layout": "IPY_MODEL_65e4e1c80ba447ffbc821946806c7d21",
            "placeholder": "​",
            "style": "IPY_MODEL_07650b8970264277bbf2537b015fc9e4",
            "value": " 29515/29515 [00:00&lt;00:00, 197896.71it/s]"
          }
        },
        "b066c88c4ad240fd9256e394888f3f8a": {
          "model_module": "@jupyter-widgets/base",
          "model_name": "LayoutModel",
          "model_module_version": "1.2.0",
          "state": {
            "_model_module": "@jupyter-widgets/base",
            "_model_module_version": "1.2.0",
            "_model_name": "LayoutModel",
            "_view_count": null,
            "_view_module": "@jupyter-widgets/base",
            "_view_module_version": "1.2.0",
            "_view_name": "LayoutView",
            "align_content": null,
            "align_items": null,
            "align_self": null,
            "border": null,
            "bottom": null,
            "display": null,
            "flex": null,
            "flex_flow": null,
            "grid_area": null,
            "grid_auto_columns": null,
            "grid_auto_flow": null,
            "grid_auto_rows": null,
            "grid_column": null,
            "grid_gap": null,
            "grid_row": null,
            "grid_template_areas": null,
            "grid_template_columns": null,
            "grid_template_rows": null,
            "height": null,
            "justify_content": null,
            "justify_items": null,
            "left": null,
            "margin": null,
            "max_height": null,
            "max_width": null,
            "min_height": null,
            "min_width": null,
            "object_fit": null,
            "object_position": null,
            "order": null,
            "overflow": null,
            "overflow_x": null,
            "overflow_y": null,
            "padding": null,
            "right": null,
            "top": null,
            "visibility": null,
            "width": null
          }
        },
        "bf9b54e18bd94b628d6ad61f86410627": {
          "model_module": "@jupyter-widgets/base",
          "model_name": "LayoutModel",
          "model_module_version": "1.2.0",
          "state": {
            "_model_module": "@jupyter-widgets/base",
            "_model_module_version": "1.2.0",
            "_model_name": "LayoutModel",
            "_view_count": null,
            "_view_module": "@jupyter-widgets/base",
            "_view_module_version": "1.2.0",
            "_view_name": "LayoutView",
            "align_content": null,
            "align_items": null,
            "align_self": null,
            "border": null,
            "bottom": null,
            "display": null,
            "flex": null,
            "flex_flow": null,
            "grid_area": null,
            "grid_auto_columns": null,
            "grid_auto_flow": null,
            "grid_auto_rows": null,
            "grid_column": null,
            "grid_gap": null,
            "grid_row": null,
            "grid_template_areas": null,
            "grid_template_columns": null,
            "grid_template_rows": null,
            "height": null,
            "justify_content": null,
            "justify_items": null,
            "left": null,
            "margin": null,
            "max_height": null,
            "max_width": null,
            "min_height": null,
            "min_width": null,
            "object_fit": null,
            "object_position": null,
            "order": null,
            "overflow": null,
            "overflow_x": null,
            "overflow_y": null,
            "padding": null,
            "right": null,
            "top": null,
            "visibility": null,
            "width": null
          }
        },
        "d13118d493934508bd6af407f14a3c6c": {
          "model_module": "@jupyter-widgets/controls",
          "model_name": "DescriptionStyleModel",
          "model_module_version": "1.5.0",
          "state": {
            "_model_module": "@jupyter-widgets/controls",
            "_model_module_version": "1.5.0",
            "_model_name": "DescriptionStyleModel",
            "_view_count": null,
            "_view_module": "@jupyter-widgets/base",
            "_view_module_version": "1.2.0",
            "_view_name": "StyleView",
            "description_width": ""
          }
        },
        "cfee59f0d2ec40cbbdcab92a90acdc91": {
          "model_module": "@jupyter-widgets/base",
          "model_name": "LayoutModel",
          "model_module_version": "1.2.0",
          "state": {
            "_model_module": "@jupyter-widgets/base",
            "_model_module_version": "1.2.0",
            "_model_name": "LayoutModel",
            "_view_count": null,
            "_view_module": "@jupyter-widgets/base",
            "_view_module_version": "1.2.0",
            "_view_name": "LayoutView",
            "align_content": null,
            "align_items": null,
            "align_self": null,
            "border": null,
            "bottom": null,
            "display": null,
            "flex": null,
            "flex_flow": null,
            "grid_area": null,
            "grid_auto_columns": null,
            "grid_auto_flow": null,
            "grid_auto_rows": null,
            "grid_column": null,
            "grid_gap": null,
            "grid_row": null,
            "grid_template_areas": null,
            "grid_template_columns": null,
            "grid_template_rows": null,
            "height": null,
            "justify_content": null,
            "justify_items": null,
            "left": null,
            "margin": null,
            "max_height": null,
            "max_width": null,
            "min_height": null,
            "min_width": null,
            "object_fit": null,
            "object_position": null,
            "order": null,
            "overflow": null,
            "overflow_x": null,
            "overflow_y": null,
            "padding": null,
            "right": null,
            "top": null,
            "visibility": null,
            "width": null
          }
        },
        "5edadc531fa448d3bad18c88944d26a3": {
          "model_module": "@jupyter-widgets/controls",
          "model_name": "ProgressStyleModel",
          "model_module_version": "1.5.0",
          "state": {
            "_model_module": "@jupyter-widgets/controls",
            "_model_module_version": "1.5.0",
            "_model_name": "ProgressStyleModel",
            "_view_count": null,
            "_view_module": "@jupyter-widgets/base",
            "_view_module_version": "1.2.0",
            "_view_name": "StyleView",
            "bar_color": null,
            "description_width": ""
          }
        },
        "65e4e1c80ba447ffbc821946806c7d21": {
          "model_module": "@jupyter-widgets/base",
          "model_name": "LayoutModel",
          "model_module_version": "1.2.0",
          "state": {
            "_model_module": "@jupyter-widgets/base",
            "_model_module_version": "1.2.0",
            "_model_name": "LayoutModel",
            "_view_count": null,
            "_view_module": "@jupyter-widgets/base",
            "_view_module_version": "1.2.0",
            "_view_name": "LayoutView",
            "align_content": null,
            "align_items": null,
            "align_self": null,
            "border": null,
            "bottom": null,
            "display": null,
            "flex": null,
            "flex_flow": null,
            "grid_area": null,
            "grid_auto_columns": null,
            "grid_auto_flow": null,
            "grid_auto_rows": null,
            "grid_column": null,
            "grid_gap": null,
            "grid_row": null,
            "grid_template_areas": null,
            "grid_template_columns": null,
            "grid_template_rows": null,
            "height": null,
            "justify_content": null,
            "justify_items": null,
            "left": null,
            "margin": null,
            "max_height": null,
            "max_width": null,
            "min_height": null,
            "min_width": null,
            "object_fit": null,
            "object_position": null,
            "order": null,
            "overflow": null,
            "overflow_x": null,
            "overflow_y": null,
            "padding": null,
            "right": null,
            "top": null,
            "visibility": null,
            "width": null
          }
        },
        "07650b8970264277bbf2537b015fc9e4": {
          "model_module": "@jupyter-widgets/controls",
          "model_name": "DescriptionStyleModel",
          "model_module_version": "1.5.0",
          "state": {
            "_model_module": "@jupyter-widgets/controls",
            "_model_module_version": "1.5.0",
            "_model_name": "DescriptionStyleModel",
            "_view_count": null,
            "_view_module": "@jupyter-widgets/base",
            "_view_module_version": "1.2.0",
            "_view_name": "StyleView",
            "description_width": ""
          }
        },
        "cead21cab6574839ae419a8336ce331f": {
          "model_module": "@jupyter-widgets/controls",
          "model_name": "HBoxModel",
          "model_module_version": "1.5.0",
          "state": {
            "_dom_classes": [],
            "_model_module": "@jupyter-widgets/controls",
            "_model_module_version": "1.5.0",
            "_model_name": "HBoxModel",
            "_view_count": null,
            "_view_module": "@jupyter-widgets/controls",
            "_view_module_version": "1.5.0",
            "_view_name": "HBoxView",
            "box_style": "",
            "children": [
              "IPY_MODEL_c6ee56bd512a49b987b95ce6862d484c",
              "IPY_MODEL_5b4b0ad19321491ea4fea9b4b1a6ff9f",
              "IPY_MODEL_0bea049b20134d5087de71844e37455a"
            ],
            "layout": "IPY_MODEL_50b6db349333475f8f547baaa4ffb7c4"
          }
        },
        "c6ee56bd512a49b987b95ce6862d484c": {
          "model_module": "@jupyter-widgets/controls",
          "model_name": "HTMLModel",
          "model_module_version": "1.5.0",
          "state": {
            "_dom_classes": [],
            "_model_module": "@jupyter-widgets/controls",
            "_model_module_version": "1.5.0",
            "_model_name": "HTMLModel",
            "_view_count": null,
            "_view_module": "@jupyter-widgets/controls",
            "_view_module_version": "1.5.0",
            "_view_name": "HTMLView",
            "description": "",
            "description_tooltip": null,
            "layout": "IPY_MODEL_92b91311b7fd421081685ab087484b07",
            "placeholder": "​",
            "style": "IPY_MODEL_992928bc59a143ebbca431eec0486725",
            "value": "100%"
          }
        },
        "5b4b0ad19321491ea4fea9b4b1a6ff9f": {
          "model_module": "@jupyter-widgets/controls",
          "model_name": "FloatProgressModel",
          "model_module_version": "1.5.0",
          "state": {
            "_dom_classes": [],
            "_model_module": "@jupyter-widgets/controls",
            "_model_module_version": "1.5.0",
            "_model_name": "FloatProgressModel",
            "_view_count": null,
            "_view_module": "@jupyter-widgets/controls",
            "_view_module_version": "1.5.0",
            "_view_name": "ProgressView",
            "bar_style": "success",
            "description": "",
            "description_tooltip": null,
            "layout": "IPY_MODEL_e3b8ed86fcbf42d6824065c3f145e5ee",
            "max": 4422102,
            "min": 0,
            "orientation": "horizontal",
            "style": "IPY_MODEL_f6d48edc4f704a76a182cc1faf04f3b9",
            "value": 4422102
          }
        },
        "0bea049b20134d5087de71844e37455a": {
          "model_module": "@jupyter-widgets/controls",
          "model_name": "HTMLModel",
          "model_module_version": "1.5.0",
          "state": {
            "_dom_classes": [],
            "_model_module": "@jupyter-widgets/controls",
            "_model_module_version": "1.5.0",
            "_model_name": "HTMLModel",
            "_view_count": null,
            "_view_module": "@jupyter-widgets/controls",
            "_view_module_version": "1.5.0",
            "_view_name": "HTMLView",
            "description": "",
            "description_tooltip": null,
            "layout": "IPY_MODEL_1a1ea68bbd3b4eae89a0177b290fce12",
            "placeholder": "​",
            "style": "IPY_MODEL_0ed9c189d7734baaa7e0777432bb0ae9",
            "value": " 4422102/4422102 [00:01&lt;00:00, 4520105.61it/s]"
          }
        },
        "50b6db349333475f8f547baaa4ffb7c4": {
          "model_module": "@jupyter-widgets/base",
          "model_name": "LayoutModel",
          "model_module_version": "1.2.0",
          "state": {
            "_model_module": "@jupyter-widgets/base",
            "_model_module_version": "1.2.0",
            "_model_name": "LayoutModel",
            "_view_count": null,
            "_view_module": "@jupyter-widgets/base",
            "_view_module_version": "1.2.0",
            "_view_name": "LayoutView",
            "align_content": null,
            "align_items": null,
            "align_self": null,
            "border": null,
            "bottom": null,
            "display": null,
            "flex": null,
            "flex_flow": null,
            "grid_area": null,
            "grid_auto_columns": null,
            "grid_auto_flow": null,
            "grid_auto_rows": null,
            "grid_column": null,
            "grid_gap": null,
            "grid_row": null,
            "grid_template_areas": null,
            "grid_template_columns": null,
            "grid_template_rows": null,
            "height": null,
            "justify_content": null,
            "justify_items": null,
            "left": null,
            "margin": null,
            "max_height": null,
            "max_width": null,
            "min_height": null,
            "min_width": null,
            "object_fit": null,
            "object_position": null,
            "order": null,
            "overflow": null,
            "overflow_x": null,
            "overflow_y": null,
            "padding": null,
            "right": null,
            "top": null,
            "visibility": null,
            "width": null
          }
        },
        "92b91311b7fd421081685ab087484b07": {
          "model_module": "@jupyter-widgets/base",
          "model_name": "LayoutModel",
          "model_module_version": "1.2.0",
          "state": {
            "_model_module": "@jupyter-widgets/base",
            "_model_module_version": "1.2.0",
            "_model_name": "LayoutModel",
            "_view_count": null,
            "_view_module": "@jupyter-widgets/base",
            "_view_module_version": "1.2.0",
            "_view_name": "LayoutView",
            "align_content": null,
            "align_items": null,
            "align_self": null,
            "border": null,
            "bottom": null,
            "display": null,
            "flex": null,
            "flex_flow": null,
            "grid_area": null,
            "grid_auto_columns": null,
            "grid_auto_flow": null,
            "grid_auto_rows": null,
            "grid_column": null,
            "grid_gap": null,
            "grid_row": null,
            "grid_template_areas": null,
            "grid_template_columns": null,
            "grid_template_rows": null,
            "height": null,
            "justify_content": null,
            "justify_items": null,
            "left": null,
            "margin": null,
            "max_height": null,
            "max_width": null,
            "min_height": null,
            "min_width": null,
            "object_fit": null,
            "object_position": null,
            "order": null,
            "overflow": null,
            "overflow_x": null,
            "overflow_y": null,
            "padding": null,
            "right": null,
            "top": null,
            "visibility": null,
            "width": null
          }
        },
        "992928bc59a143ebbca431eec0486725": {
          "model_module": "@jupyter-widgets/controls",
          "model_name": "DescriptionStyleModel",
          "model_module_version": "1.5.0",
          "state": {
            "_model_module": "@jupyter-widgets/controls",
            "_model_module_version": "1.5.0",
            "_model_name": "DescriptionStyleModel",
            "_view_count": null,
            "_view_module": "@jupyter-widgets/base",
            "_view_module_version": "1.2.0",
            "_view_name": "StyleView",
            "description_width": ""
          }
        },
        "e3b8ed86fcbf42d6824065c3f145e5ee": {
          "model_module": "@jupyter-widgets/base",
          "model_name": "LayoutModel",
          "model_module_version": "1.2.0",
          "state": {
            "_model_module": "@jupyter-widgets/base",
            "_model_module_version": "1.2.0",
            "_model_name": "LayoutModel",
            "_view_count": null,
            "_view_module": "@jupyter-widgets/base",
            "_view_module_version": "1.2.0",
            "_view_name": "LayoutView",
            "align_content": null,
            "align_items": null,
            "align_self": null,
            "border": null,
            "bottom": null,
            "display": null,
            "flex": null,
            "flex_flow": null,
            "grid_area": null,
            "grid_auto_columns": null,
            "grid_auto_flow": null,
            "grid_auto_rows": null,
            "grid_column": null,
            "grid_gap": null,
            "grid_row": null,
            "grid_template_areas": null,
            "grid_template_columns": null,
            "grid_template_rows": null,
            "height": null,
            "justify_content": null,
            "justify_items": null,
            "left": null,
            "margin": null,
            "max_height": null,
            "max_width": null,
            "min_height": null,
            "min_width": null,
            "object_fit": null,
            "object_position": null,
            "order": null,
            "overflow": null,
            "overflow_x": null,
            "overflow_y": null,
            "padding": null,
            "right": null,
            "top": null,
            "visibility": null,
            "width": null
          }
        },
        "f6d48edc4f704a76a182cc1faf04f3b9": {
          "model_module": "@jupyter-widgets/controls",
          "model_name": "ProgressStyleModel",
          "model_module_version": "1.5.0",
          "state": {
            "_model_module": "@jupyter-widgets/controls",
            "_model_module_version": "1.5.0",
            "_model_name": "ProgressStyleModel",
            "_view_count": null,
            "_view_module": "@jupyter-widgets/base",
            "_view_module_version": "1.2.0",
            "_view_name": "StyleView",
            "bar_color": null,
            "description_width": ""
          }
        },
        "1a1ea68bbd3b4eae89a0177b290fce12": {
          "model_module": "@jupyter-widgets/base",
          "model_name": "LayoutModel",
          "model_module_version": "1.2.0",
          "state": {
            "_model_module": "@jupyter-widgets/base",
            "_model_module_version": "1.2.0",
            "_model_name": "LayoutModel",
            "_view_count": null,
            "_view_module": "@jupyter-widgets/base",
            "_view_module_version": "1.2.0",
            "_view_name": "LayoutView",
            "align_content": null,
            "align_items": null,
            "align_self": null,
            "border": null,
            "bottom": null,
            "display": null,
            "flex": null,
            "flex_flow": null,
            "grid_area": null,
            "grid_auto_columns": null,
            "grid_auto_flow": null,
            "grid_auto_rows": null,
            "grid_column": null,
            "grid_gap": null,
            "grid_row": null,
            "grid_template_areas": null,
            "grid_template_columns": null,
            "grid_template_rows": null,
            "height": null,
            "justify_content": null,
            "justify_items": null,
            "left": null,
            "margin": null,
            "max_height": null,
            "max_width": null,
            "min_height": null,
            "min_width": null,
            "object_fit": null,
            "object_position": null,
            "order": null,
            "overflow": null,
            "overflow_x": null,
            "overflow_y": null,
            "padding": null,
            "right": null,
            "top": null,
            "visibility": null,
            "width": null
          }
        },
        "0ed9c189d7734baaa7e0777432bb0ae9": {
          "model_module": "@jupyter-widgets/controls",
          "model_name": "DescriptionStyleModel",
          "model_module_version": "1.5.0",
          "state": {
            "_model_module": "@jupyter-widgets/controls",
            "_model_module_version": "1.5.0",
            "_model_name": "DescriptionStyleModel",
            "_view_count": null,
            "_view_module": "@jupyter-widgets/base",
            "_view_module_version": "1.2.0",
            "_view_name": "StyleView",
            "description_width": ""
          }
        },
        "ad314c98a1eb4f7d8d69840996b47766": {
          "model_module": "@jupyter-widgets/controls",
          "model_name": "HBoxModel",
          "model_module_version": "1.5.0",
          "state": {
            "_dom_classes": [],
            "_model_module": "@jupyter-widgets/controls",
            "_model_module_version": "1.5.0",
            "_model_name": "HBoxModel",
            "_view_count": null,
            "_view_module": "@jupyter-widgets/controls",
            "_view_module_version": "1.5.0",
            "_view_name": "HBoxView",
            "box_style": "",
            "children": [
              "IPY_MODEL_2eac375735754445ae61d267cedb9264",
              "IPY_MODEL_a768261fb57f4466b2863e981290076c",
              "IPY_MODEL_90250663f83f4a1a886b02a7f28d7ec4"
            ],
            "layout": "IPY_MODEL_1eb513faf1ca4b30befbc760dd917706"
          }
        },
        "2eac375735754445ae61d267cedb9264": {
          "model_module": "@jupyter-widgets/controls",
          "model_name": "HTMLModel",
          "model_module_version": "1.5.0",
          "state": {
            "_dom_classes": [],
            "_model_module": "@jupyter-widgets/controls",
            "_model_module_version": "1.5.0",
            "_model_name": "HTMLModel",
            "_view_count": null,
            "_view_module": "@jupyter-widgets/controls",
            "_view_module_version": "1.5.0",
            "_view_name": "HTMLView",
            "description": "",
            "description_tooltip": null,
            "layout": "IPY_MODEL_ccd2ff7967254c71b2b729f7ce28d0d3",
            "placeholder": "​",
            "style": "IPY_MODEL_9acad4b3f2a343daa4988f16fdf4605d",
            "value": "100%"
          }
        },
        "a768261fb57f4466b2863e981290076c": {
          "model_module": "@jupyter-widgets/controls",
          "model_name": "FloatProgressModel",
          "model_module_version": "1.5.0",
          "state": {
            "_dom_classes": [],
            "_model_module": "@jupyter-widgets/controls",
            "_model_module_version": "1.5.0",
            "_model_name": "FloatProgressModel",
            "_view_count": null,
            "_view_module": "@jupyter-widgets/controls",
            "_view_module_version": "1.5.0",
            "_view_name": "ProgressView",
            "bar_style": "success",
            "description": "",
            "description_tooltip": null,
            "layout": "IPY_MODEL_e2218e6abd2041f8b8a729f47c911f65",
            "max": 5148,
            "min": 0,
            "orientation": "horizontal",
            "style": "IPY_MODEL_53798780f37b4e20a45706becd3ad74f",
            "value": 5148
          }
        },
        "90250663f83f4a1a886b02a7f28d7ec4": {
          "model_module": "@jupyter-widgets/controls",
          "model_name": "HTMLModel",
          "model_module_version": "1.5.0",
          "state": {
            "_dom_classes": [],
            "_model_module": "@jupyter-widgets/controls",
            "_model_module_version": "1.5.0",
            "_model_name": "HTMLModel",
            "_view_count": null,
            "_view_module": "@jupyter-widgets/controls",
            "_view_module_version": "1.5.0",
            "_view_name": "HTMLView",
            "description": "",
            "description_tooltip": null,
            "layout": "IPY_MODEL_31b26ed5431f45d49ab97f742c9457ad",
            "placeholder": "​",
            "style": "IPY_MODEL_4cbfe71cf0de4fbfbb29e1c5bb298831",
            "value": " 5148/5148 [00:00&lt;00:00, 89681.96it/s]"
          }
        },
        "1eb513faf1ca4b30befbc760dd917706": {
          "model_module": "@jupyter-widgets/base",
          "model_name": "LayoutModel",
          "model_module_version": "1.2.0",
          "state": {
            "_model_module": "@jupyter-widgets/base",
            "_model_module_version": "1.2.0",
            "_model_name": "LayoutModel",
            "_view_count": null,
            "_view_module": "@jupyter-widgets/base",
            "_view_module_version": "1.2.0",
            "_view_name": "LayoutView",
            "align_content": null,
            "align_items": null,
            "align_self": null,
            "border": null,
            "bottom": null,
            "display": null,
            "flex": null,
            "flex_flow": null,
            "grid_area": null,
            "grid_auto_columns": null,
            "grid_auto_flow": null,
            "grid_auto_rows": null,
            "grid_column": null,
            "grid_gap": null,
            "grid_row": null,
            "grid_template_areas": null,
            "grid_template_columns": null,
            "grid_template_rows": null,
            "height": null,
            "justify_content": null,
            "justify_items": null,
            "left": null,
            "margin": null,
            "max_height": null,
            "max_width": null,
            "min_height": null,
            "min_width": null,
            "object_fit": null,
            "object_position": null,
            "order": null,
            "overflow": null,
            "overflow_x": null,
            "overflow_y": null,
            "padding": null,
            "right": null,
            "top": null,
            "visibility": null,
            "width": null
          }
        },
        "ccd2ff7967254c71b2b729f7ce28d0d3": {
          "model_module": "@jupyter-widgets/base",
          "model_name": "LayoutModel",
          "model_module_version": "1.2.0",
          "state": {
            "_model_module": "@jupyter-widgets/base",
            "_model_module_version": "1.2.0",
            "_model_name": "LayoutModel",
            "_view_count": null,
            "_view_module": "@jupyter-widgets/base",
            "_view_module_version": "1.2.0",
            "_view_name": "LayoutView",
            "align_content": null,
            "align_items": null,
            "align_self": null,
            "border": null,
            "bottom": null,
            "display": null,
            "flex": null,
            "flex_flow": null,
            "grid_area": null,
            "grid_auto_columns": null,
            "grid_auto_flow": null,
            "grid_auto_rows": null,
            "grid_column": null,
            "grid_gap": null,
            "grid_row": null,
            "grid_template_areas": null,
            "grid_template_columns": null,
            "grid_template_rows": null,
            "height": null,
            "justify_content": null,
            "justify_items": null,
            "left": null,
            "margin": null,
            "max_height": null,
            "max_width": null,
            "min_height": null,
            "min_width": null,
            "object_fit": null,
            "object_position": null,
            "order": null,
            "overflow": null,
            "overflow_x": null,
            "overflow_y": null,
            "padding": null,
            "right": null,
            "top": null,
            "visibility": null,
            "width": null
          }
        },
        "9acad4b3f2a343daa4988f16fdf4605d": {
          "model_module": "@jupyter-widgets/controls",
          "model_name": "DescriptionStyleModel",
          "model_module_version": "1.5.0",
          "state": {
            "_model_module": "@jupyter-widgets/controls",
            "_model_module_version": "1.5.0",
            "_model_name": "DescriptionStyleModel",
            "_view_count": null,
            "_view_module": "@jupyter-widgets/base",
            "_view_module_version": "1.2.0",
            "_view_name": "StyleView",
            "description_width": ""
          }
        },
        "e2218e6abd2041f8b8a729f47c911f65": {
          "model_module": "@jupyter-widgets/base",
          "model_name": "LayoutModel",
          "model_module_version": "1.2.0",
          "state": {
            "_model_module": "@jupyter-widgets/base",
            "_model_module_version": "1.2.0",
            "_model_name": "LayoutModel",
            "_view_count": null,
            "_view_module": "@jupyter-widgets/base",
            "_view_module_version": "1.2.0",
            "_view_name": "LayoutView",
            "align_content": null,
            "align_items": null,
            "align_self": null,
            "border": null,
            "bottom": null,
            "display": null,
            "flex": null,
            "flex_flow": null,
            "grid_area": null,
            "grid_auto_columns": null,
            "grid_auto_flow": null,
            "grid_auto_rows": null,
            "grid_column": null,
            "grid_gap": null,
            "grid_row": null,
            "grid_template_areas": null,
            "grid_template_columns": null,
            "grid_template_rows": null,
            "height": null,
            "justify_content": null,
            "justify_items": null,
            "left": null,
            "margin": null,
            "max_height": null,
            "max_width": null,
            "min_height": null,
            "min_width": null,
            "object_fit": null,
            "object_position": null,
            "order": null,
            "overflow": null,
            "overflow_x": null,
            "overflow_y": null,
            "padding": null,
            "right": null,
            "top": null,
            "visibility": null,
            "width": null
          }
        },
        "53798780f37b4e20a45706becd3ad74f": {
          "model_module": "@jupyter-widgets/controls",
          "model_name": "ProgressStyleModel",
          "model_module_version": "1.5.0",
          "state": {
            "_model_module": "@jupyter-widgets/controls",
            "_model_module_version": "1.5.0",
            "_model_name": "ProgressStyleModel",
            "_view_count": null,
            "_view_module": "@jupyter-widgets/base",
            "_view_module_version": "1.2.0",
            "_view_name": "StyleView",
            "bar_color": null,
            "description_width": ""
          }
        },
        "31b26ed5431f45d49ab97f742c9457ad": {
          "model_module": "@jupyter-widgets/base",
          "model_name": "LayoutModel",
          "model_module_version": "1.2.0",
          "state": {
            "_model_module": "@jupyter-widgets/base",
            "_model_module_version": "1.2.0",
            "_model_name": "LayoutModel",
            "_view_count": null,
            "_view_module": "@jupyter-widgets/base",
            "_view_module_version": "1.2.0",
            "_view_name": "LayoutView",
            "align_content": null,
            "align_items": null,
            "align_self": null,
            "border": null,
            "bottom": null,
            "display": null,
            "flex": null,
            "flex_flow": null,
            "grid_area": null,
            "grid_auto_columns": null,
            "grid_auto_flow": null,
            "grid_auto_rows": null,
            "grid_column": null,
            "grid_gap": null,
            "grid_row": null,
            "grid_template_areas": null,
            "grid_template_columns": null,
            "grid_template_rows": null,
            "height": null,
            "justify_content": null,
            "justify_items": null,
            "left": null,
            "margin": null,
            "max_height": null,
            "max_width": null,
            "min_height": null,
            "min_width": null,
            "object_fit": null,
            "object_position": null,
            "order": null,
            "overflow": null,
            "overflow_x": null,
            "overflow_y": null,
            "padding": null,
            "right": null,
            "top": null,
            "visibility": null,
            "width": null
          }
        },
        "4cbfe71cf0de4fbfbb29e1c5bb298831": {
          "model_module": "@jupyter-widgets/controls",
          "model_name": "DescriptionStyleModel",
          "model_module_version": "1.5.0",
          "state": {
            "_model_module": "@jupyter-widgets/controls",
            "_model_module_version": "1.5.0",
            "_model_name": "DescriptionStyleModel",
            "_view_count": null,
            "_view_module": "@jupyter-widgets/base",
            "_view_module_version": "1.2.0",
            "_view_name": "StyleView",
            "description_width": ""
          }
        }
      }
    }
  },
  "cells": [
    {
      "cell_type": "markdown",
      "metadata": {
        "id": "view-in-github",
        "colab_type": "text"
      },
      "source": [
        "<a href=\"https://colab.research.google.com/github/Voland24/ModernComputerVisionPytorch/blob/main/Chapter3ScalingDatasets.ipynb\" target=\"_parent\"><img src=\"https://colab.research.google.com/assets/colab-badge.svg\" alt=\"Open In Colab\"/></a>"
      ]
    },
    {
      "cell_type": "markdown",
      "source": [
        "The overall point of the following couple of notebooks is all of the ways we can go about optimizing the performance of our model.\n",
        "We will start of with dataset augmentation techniques."
      ],
      "metadata": {
        "id": "igXhOJES7ydn"
      }
    },
    {
      "cell_type": "markdown",
      "source": [
        "# Scaling datasets\n",
        "\n",
        "This is the process of ensuring that all of our variables in the vectors/tensors that we use for inference and training are in the range of 0 - 1. When dealing with images, we divide the value by 255."
      ],
      "metadata": {
        "id": "ZpQlaEwb8N9Y"
      }
    },
    {
      "cell_type": "code",
      "source": [
        "from torchvision import datasets\n",
        "from torch.utils.data import Dataset, DataLoader\n",
        "import torch\n",
        "import torch.nn as nn\n",
        "device = 'cuda' if torch.cuda.is_available() else 'cpu'\n",
        "import numpy as np\n",
        "data_folder = '~/data/FMNIST'\n",
        "fmnist = datasets.FashionMNIST(data_folder, download=True, train = True)\n",
        "tr_images = fmnist.data\n",
        "tr_targets = fmnist.targets"
      ],
      "metadata": {
        "colab": {
          "base_uri": "https://localhost:8080/",
          "height": 423,
          "referenced_widgets": [
            "4fc7ffa4226b4f11b5b5ab387d0062ad",
            "a80e18872a1742caacdc4995b85df675",
            "8594cc8d3f3b484ab5b6bcccf283b845",
            "53b80c2fb0a2414d804b4f6ba283bc77",
            "b381f0f1360b48ac84323dfad3eba918",
            "4602ee0abc3744e8b5112c0efdc52736",
            "2263021dae4148c5bde3521a74212479",
            "12eb032281d5484e9ddcc3b383061bf4",
            "ddcc99c2c0424033af87c87db8cad8dd",
            "68b1cbdac910415f8a7f1810e40d35f1",
            "4d8a3cbc7e0d45bb8d442fd0d0023740",
            "a5962e77022245029b146b41273cce75",
            "f200f6fcae8c4d7e8435b6128c3bb8aa",
            "221bb12a5e924bab802c5a2b1b1bf74c",
            "3562c8fe00224cfe9ecd88e0dc8785b3",
            "b066c88c4ad240fd9256e394888f3f8a",
            "bf9b54e18bd94b628d6ad61f86410627",
            "d13118d493934508bd6af407f14a3c6c",
            "cfee59f0d2ec40cbbdcab92a90acdc91",
            "5edadc531fa448d3bad18c88944d26a3",
            "65e4e1c80ba447ffbc821946806c7d21",
            "07650b8970264277bbf2537b015fc9e4",
            "cead21cab6574839ae419a8336ce331f",
            "c6ee56bd512a49b987b95ce6862d484c",
            "5b4b0ad19321491ea4fea9b4b1a6ff9f",
            "0bea049b20134d5087de71844e37455a",
            "50b6db349333475f8f547baaa4ffb7c4",
            "92b91311b7fd421081685ab087484b07",
            "992928bc59a143ebbca431eec0486725",
            "e3b8ed86fcbf42d6824065c3f145e5ee",
            "f6d48edc4f704a76a182cc1faf04f3b9",
            "1a1ea68bbd3b4eae89a0177b290fce12",
            "0ed9c189d7734baaa7e0777432bb0ae9",
            "ad314c98a1eb4f7d8d69840996b47766",
            "2eac375735754445ae61d267cedb9264",
            "a768261fb57f4466b2863e981290076c",
            "90250663f83f4a1a886b02a7f28d7ec4",
            "1eb513faf1ca4b30befbc760dd917706",
            "ccd2ff7967254c71b2b729f7ce28d0d3",
            "9acad4b3f2a343daa4988f16fdf4605d",
            "e2218e6abd2041f8b8a729f47c911f65",
            "53798780f37b4e20a45706becd3ad74f",
            "31b26ed5431f45d49ab97f742c9457ad",
            "4cbfe71cf0de4fbfbb29e1c5bb298831"
          ]
        },
        "id": "plw8GVr78f8o",
        "outputId": "c904bf12-1ff8-4a7f-ab5d-39dc289ce1bb"
      },
      "execution_count": null,
      "outputs": [
        {
          "output_type": "stream",
          "name": "stdout",
          "text": [
            "Downloading http://fashion-mnist.s3-website.eu-central-1.amazonaws.com/train-images-idx3-ubyte.gz\n",
            "Downloading http://fashion-mnist.s3-website.eu-central-1.amazonaws.com/train-images-idx3-ubyte.gz to /root/data/FMNIST/FashionMNIST/raw/train-images-idx3-ubyte.gz\n"
          ]
        },
        {
          "output_type": "display_data",
          "data": {
            "text/plain": [
              "  0%|          | 0/26421880 [00:00<?, ?it/s]"
            ],
            "application/vnd.jupyter.widget-view+json": {
              "version_major": 2,
              "version_minor": 0,
              "model_id": "4fc7ffa4226b4f11b5b5ab387d0062ad"
            }
          },
          "metadata": {}
        },
        {
          "output_type": "stream",
          "name": "stdout",
          "text": [
            "Extracting /root/data/FMNIST/FashionMNIST/raw/train-images-idx3-ubyte.gz to /root/data/FMNIST/FashionMNIST/raw\n",
            "\n",
            "Downloading http://fashion-mnist.s3-website.eu-central-1.amazonaws.com/train-labels-idx1-ubyte.gz\n",
            "Downloading http://fashion-mnist.s3-website.eu-central-1.amazonaws.com/train-labels-idx1-ubyte.gz to /root/data/FMNIST/FashionMNIST/raw/train-labels-idx1-ubyte.gz\n"
          ]
        },
        {
          "output_type": "display_data",
          "data": {
            "text/plain": [
              "  0%|          | 0/29515 [00:00<?, ?it/s]"
            ],
            "application/vnd.jupyter.widget-view+json": {
              "version_major": 2,
              "version_minor": 0,
              "model_id": "a5962e77022245029b146b41273cce75"
            }
          },
          "metadata": {}
        },
        {
          "output_type": "stream",
          "name": "stdout",
          "text": [
            "Extracting /root/data/FMNIST/FashionMNIST/raw/train-labels-idx1-ubyte.gz to /root/data/FMNIST/FashionMNIST/raw\n",
            "\n",
            "Downloading http://fashion-mnist.s3-website.eu-central-1.amazonaws.com/t10k-images-idx3-ubyte.gz\n",
            "Downloading http://fashion-mnist.s3-website.eu-central-1.amazonaws.com/t10k-images-idx3-ubyte.gz to /root/data/FMNIST/FashionMNIST/raw/t10k-images-idx3-ubyte.gz\n"
          ]
        },
        {
          "output_type": "display_data",
          "data": {
            "text/plain": [
              "  0%|          | 0/4422102 [00:00<?, ?it/s]"
            ],
            "application/vnd.jupyter.widget-view+json": {
              "version_major": 2,
              "version_minor": 0,
              "model_id": "cead21cab6574839ae419a8336ce331f"
            }
          },
          "metadata": {}
        },
        {
          "output_type": "stream",
          "name": "stdout",
          "text": [
            "Extracting /root/data/FMNIST/FashionMNIST/raw/t10k-images-idx3-ubyte.gz to /root/data/FMNIST/FashionMNIST/raw\n",
            "\n",
            "Downloading http://fashion-mnist.s3-website.eu-central-1.amazonaws.com/t10k-labels-idx1-ubyte.gz\n",
            "Downloading http://fashion-mnist.s3-website.eu-central-1.amazonaws.com/t10k-labels-idx1-ubyte.gz to /root/data/FMNIST/FashionMNIST/raw/t10k-labels-idx1-ubyte.gz\n"
          ]
        },
        {
          "output_type": "display_data",
          "data": {
            "text/plain": [
              "  0%|          | 0/5148 [00:00<?, ?it/s]"
            ],
            "application/vnd.jupyter.widget-view+json": {
              "version_major": 2,
              "version_minor": 0,
              "model_id": "ad314c98a1eb4f7d8d69840996b47766"
            }
          },
          "metadata": {}
        },
        {
          "output_type": "stream",
          "name": "stdout",
          "text": [
            "Extracting /root/data/FMNIST/FashionMNIST/raw/t10k-labels-idx1-ubyte.gz to /root/data/FMNIST/FashionMNIST/raw\n",
            "\n"
          ]
        }
      ]
    },
    {
      "cell_type": "code",
      "source": [
        "class FMNISTDataset(Dataset):\n",
        "  def __init__(self, x, y):\n",
        "    x = x.float() / 255 #normalizing the images\n",
        "    x = x.view(-1, 28*28) #flatten the image\n",
        "    self.x, self.y = x, y\n",
        "  def __getitem__(self, ix):\n",
        "    x,y = self.x[ix], self.y[ix]\n",
        "    return x.to(device), y.to(device)\n",
        "  def __len__(self):\n",
        "    return len(self.x)\n",
        "  "
      ],
      "metadata": {
        "id": "iQwnHTCk9Ps6"
      },
      "execution_count": null,
      "outputs": []
    },
    {
      "cell_type": "markdown",
      "source": [
        "Fetch the data"
      ],
      "metadata": {
        "id": "dYZGVRj49spw"
      }
    },
    {
      "cell_type": "code",
      "source": [
        "def get_data():\n",
        "  train = FMNISTDataset(tr_images, tr_targets)\n",
        "  trn_dl = DataLoader(train, batch_size = 32, shuffle = True)\n",
        "  return trn_dl"
      ],
      "metadata": {
        "id": "80Z8Jx139tsB"
      },
      "execution_count": null,
      "outputs": []
    },
    {
      "cell_type": "markdown",
      "source": [
        "Create the model"
      ],
      "metadata": {
        "id": "Pxh7z82x97X3"
      }
    },
    {
      "cell_type": "code",
      "source": [
        "from torch.optim import SGD,Adam\n",
        "def get_model():\n",
        "  model = nn.Sequential(\n",
        "              nn.Linear(28 * 28, 1000),\n",
        "              nn.ReLU(),\n",
        "              nn.Linear(1000,10)\n",
        "          ).to(device)\n",
        "  loss_fn = nn.CrossEntropyLoss()\n",
        "  optimizer = SGD(model.parameters(), lr = 1e-2)\n",
        "  return model, loss_fn, optimizer "
      ],
      "metadata": {
        "id": "c7EJA-kY98oU"
      },
      "execution_count": null,
      "outputs": []
    },
    {
      "cell_type": "markdown",
      "source": [
        "Funcs for training and validating"
      ],
      "metadata": {
        "id": "-FklgBYO-XXS"
      }
    },
    {
      "cell_type": "code",
      "source": [
        "def train_batch(x, y, model, optimizer, loss_fn):\n",
        "  model.train() \n",
        "  prediction = model(x)\n",
        "  batch_loss = loss_fn(prediction, y) #loss for the current batch\n",
        "  batch_loss.backward() #backprop\n",
        "  optimizer.step() #update model\n",
        "  optimizer.zero_grad() #calculate backprop separetely for each batch\n",
        "  return batch_loss.item()\n",
        "\n",
        "@torch.no_grad()\n",
        "def accuracy(x, y, model):\n",
        "  model.eval()\n",
        "  prediction = model(x)\n",
        "  max_values, argmaxes = prediction.max(-1) #max in each row of predictions\n",
        "  is_correct = argmaxes == y\n",
        "  return is_correct.cpu().numpy().tolist()\n",
        "\n"
      ],
      "metadata": {
        "id": "TL1CBbl1-Zcd"
      },
      "execution_count": null,
      "outputs": []
    },
    {
      "cell_type": "markdown",
      "source": [
        "Actually train the model"
      ],
      "metadata": {
        "id": "HatsNyfn_gg1"
      }
    },
    {
      "cell_type": "code",
      "source": [
        "trn_dl = get_data()\n",
        "model, loss_fn, optimizer = get_model()\n",
        "losses, accuracies = [], []\n",
        "for epoch in range(10):\n",
        "  print(f'{epoch}. epoch')\n",
        "  epoch_losses, epoch_accuracies = [], []\n",
        "  for ix, batch in enumerate(iter(trn_dl)):\n",
        "    x, y = batch\n",
        "    batch_loss = train_batch(x, y, model, optimizer, loss_fn)\n",
        "    epoch_losses.append(batch_loss)\n",
        "  epoch_loss = np.array(epoch_losses).mean()\n",
        "  for ix, batch in enumerate (iter(trn_dl)):\n",
        "    x, y = batch\n",
        "    is_correct = accuracy(x,y,model)\n",
        "    epoch_accuracies.extend(is_correct)\n",
        "  epoch_accuracy = np.mean(epoch_accuracies)\n",
        "  losses.append(epoch_loss)\n",
        "  accuracies.append(epoch_accuracy)\n",
        "  "
      ],
      "metadata": {
        "colab": {
          "base_uri": "https://localhost:8080/"
        },
        "id": "P5_2wEXA_ikZ",
        "outputId": "af37f263-6dbe-44e7-b8ac-fb7f6c7b2c9b"
      },
      "execution_count": null,
      "outputs": [
        {
          "output_type": "stream",
          "name": "stdout",
          "text": [
            "0. epoch\n",
            "1. epoch\n",
            "2. epoch\n",
            "3. epoch\n",
            "4. epoch\n",
            "5. epoch\n",
            "6. epoch\n",
            "7. epoch\n",
            "8. epoch\n",
            "9. epoch\n"
          ]
        }
      ]
    },
    {
      "cell_type": "markdown",
      "source": [
        "Let's see how well it performed"
      ],
      "metadata": {
        "id": "jCaVfMn3BIo3"
      }
    },
    {
      "cell_type": "code",
      "source": [
        "import matplotlib.pyplot as plt\n",
        "epochs = np.arange(10)+1\n",
        "plt.figure(figsize=(20,10))\n",
        "plt.subplot(121)\n",
        "plt.title('Loss value over increasing epochs')\n",
        "plt.plot(epochs, losses, label='Training Loss')\n",
        "plt.legend()\n",
        "plt.subplot(122)\n",
        "plt.title('Accuracy value over increasing epochs')\n",
        "plt.plot(epochs, accuracies, label='Training Accuracy')\n",
        "plt.gca().set_yticklabels(['{:.0f}%'.format(x*100) \\\n",
        " for x in plt.gca().get_yticks()]) \n",
        "plt.legend()\n"
      ],
      "metadata": {
        "colab": {
          "base_uri": "https://localhost:8080/",
          "height": 624
        },
        "id": "Tv0pRX7iBLCx",
        "outputId": "d81049a8-680e-4b89-aba6-ad174b790319"
      },
      "execution_count": null,
      "outputs": [
        {
          "output_type": "execute_result",
          "data": {
            "text/plain": [
              "<matplotlib.legend.Legend at 0x7f739c085370>"
            ]
          },
          "metadata": {},
          "execution_count": 8
        },
        {
          "output_type": "display_data",
          "data": {
            "text/plain": [
              "<Figure size 1440x720 with 2 Axes>"
            ],
            "image/png": "[encoded data removed]"
          },
          "metadata": {
            "needs_background": "light"
          }
        }
      ]
    },
    {
      "cell_type": "markdown",
      "source": [
        "We can clearly see that the training loss drops as the epoch go, getting lower with each passing epoch. We can also see that the accuracy has increased and has got up to ~85%, which is much better that the first example with non normalized/scaled data where it was around 12%"
      ],
      "metadata": {
        "id": "mdP2_2cSBW3r"
      }
    },
    {
      "cell_type": "markdown",
      "source": [
        "**Why did the scalling help?**\n",
        "\n",
        "Here it has to do with the Sigmoid function calculated in the CrossEntropyLoss. It could have also been the last layer of the NN, after the last linear layer.\n",
        "sigmoid = 1 / (1 + exp-(w*input))\n",
        "When the inputs range from 0 - 255, like in image data, for any values of the weights over and equal to 0.1, and when the weights are larger, the exponential function will be close to 0 and thus the sigmoid will be 1. Meaning there is little variation in the output.\n",
        "When we scale the data, the sigmoid has muhc more variation as the weights vary and becomes more sensitive to the dataset."
      ],
      "metadata": {
        "id": "xO7TLCwwBtTH"
      }
    },
    {
      "cell_type": "markdown",
      "source": [
        "# **Varying batch size**\n",
        "\n",
        "In the previous example, batch size of 32 was used, meaning a larger number of updated per epoch, around 1875 since 60000/32 is roughly 1875. We also didn't consider model's performance on the validation dataset."
      ],
      "metadata": {
        "id": "g3Q7Dc4WDDoT"
      }
    },
    {
      "cell_type": "markdown",
      "source": [
        "We will first download the validation dataset"
      ],
      "metadata": {
        "id": "2e7Gkko2Dol3"
      }
    },
    {
      "cell_type": "code",
      "source": [
        "val_fmnist =datasets.FashionMNIST(data_folder,download=True, train=False) #train = False is what gives us the val dataset\n",
        "val_images = val_fmnist.data\n",
        "val_targets = val_fmnist.targets"
      ],
      "metadata": {
        "id": "zj1hkig5DroV"
      },
      "execution_count": null,
      "outputs": []
    },
    {
      "cell_type": "markdown",
      "source": [
        "This is a function to determine the loss on the validation dataset"
      ],
      "metadata": {
        "id": "YpMeaMNwD-2e"
      }
    },
    {
      "cell_type": "code",
      "source": [
        "@torch.no_grad()\n",
        "def val_loss(x, y, model):\n",
        "  model.eval()\n",
        "  prediction = model(x)\n",
        "  val_loss = loss_fn(prediction, y)\n",
        "  return val_loss.item()"
      ],
      "metadata": {
        "id": "uRFPqB9tECbj"
      },
      "execution_count": null,
      "outputs": []
    },
    {
      "cell_type": "markdown",
      "source": [
        "To get the datasets"
      ],
      "metadata": {
        "id": "mNNdqviFEulb"
      }
    },
    {
      "cell_type": "code",
      "source": [
        "def get_data():\n",
        "  train = FMNISTDataset(tr_images, tr_targets)\n",
        "  trn_dl = DataLoader(train, batch_size = 32, shuffle = True)\n",
        "  val = FMNISTDataset(val_images, val_targets)\n",
        "  val_dl = DataLoader(val,batch_size = len(val_images), shuffle = False)\n",
        "  return trn_dl, val_dl"
      ],
      "metadata": {
        "id": "U7oiBPGKEwTv"
      },
      "execution_count": null,
      "outputs": []
    },
    {
      "cell_type": "markdown",
      "source": [
        "Train the model again, and calculate the validation loss"
      ],
      "metadata": {
        "id": "6zPSAqKLEZJ1"
      }
    },
    {
      "cell_type": "code",
      "source": [
        "trn_dl, val_dl = get_data()\n",
        "model, loss_fn, optimizer = get_model()\n",
        "train_losses, train_accuracies = [], []\n",
        "val_losses, val_accuracies = [], []\n",
        "for epoch in range(10):\n",
        "  print(f'{epoch}. epoch')\n",
        "  epoch_losses, epoch_accuracies = [], []\n",
        "  for ix, batch in enumerate(iter(trn_dl)):\n",
        "    x, y = batch\n",
        "    batch_loss = train_batch(x, y, model, optimizer, loss_fn)\n",
        "    epoch_losses.append(batch_loss)\n",
        "  train_epoch_loss = np.array(epoch_losses).mean()\n",
        "  for ix, batch in enumerate (iter(trn_dl)):\n",
        "    x, y = batch\n",
        "    is_correct = accuracy(x,y,model)\n",
        "    epoch_accuracies.extend(is_correct)\n",
        "  train_epoch_accuracy = np.mean(epoch_accuracies)\n",
        "  for ix, batch in enumerate(iter(val_dl)):\n",
        "    x,y = batch\n",
        "    val_is_correct = accuracy(x,y,model)\n",
        "    validation_loss = val_loss(x,y,model)\n",
        "  val_epoch_accuracy = np.mean(val_is_correct)\n",
        "  val_losses.append(validation_loss)\n",
        "  val_accuracies.append(val_epoch_accuracy)\n",
        "  train_losses.append(train_epoch_loss)\n",
        "  train_accuracies.append(train_epoch_accuracy)"
      ],
      "metadata": {
        "colab": {
          "base_uri": "https://localhost:8080/"
        },
        "id": "zdMoOVIXEdlQ",
        "outputId": "d8ef3c73-7843-4f92-d834-e6f2f7635190"
      },
      "execution_count": null,
      "outputs": [
        {
          "output_type": "stream",
          "name": "stdout",
          "text": [
            "0. epoch\n",
            "1. epoch\n",
            "2. epoch\n",
            "3. epoch\n",
            "4. epoch\n",
            "5. epoch\n",
            "6. epoch\n",
            "7. epoch\n",
            "8. epoch\n",
            "9. epoch\n"
          ]
        }
      ]
    },
    {
      "cell_type": "markdown",
      "source": [
        "Let's see the performance on the validation dataset"
      ],
      "metadata": {
        "id": "rA-qxslhF2-o"
      }
    },
    {
      "cell_type": "code",
      "source": [
        "epochs = np.arange(10)+1\n",
        "import matplotlib.ticker as mtick\n",
        "import matplotlib.pyplot as plt\n",
        "import matplotlib.ticker as mticker\n",
        "%matplotlib inline\n",
        "plt.subplot(211)\n",
        "plt.plot(epochs, train_losses, 'bo', label='Training loss')\n",
        "plt.plot(epochs, val_losses, 'r', label='Validation loss')\n",
        "plt.gca().xaxis.set_major_locator(mticker.MultipleLocator(1))\n",
        "plt.title('Training and validation loss \\\n",
        "when batch size is 32')\n",
        "plt.xlabel('Epochs')\n",
        "plt.ylabel('Loss')\n",
        "plt.legend()\n",
        "plt.grid('off')\n",
        "plt.show()\n",
        "plt.subplot(212)\n",
        "plt.plot(epochs, train_accuracies, 'bo', \\\n",
        " label='Training accuracy')\n",
        "plt.plot(epochs, val_accuracies, 'r', \\\n",
        " label='Validation accuracy')\n",
        "plt.gca().xaxis.set_major_locator(mticker.MultipleLocator(1))\n",
        "plt.title('Training and validation accuracy \\\n",
        "when batch size is 32')\n",
        "plt.xlabel('Epochs')\n",
        "plt.ylabel('Accuracy')\n",
        "plt.gca().set_yticklabels(['{:.0f}%'.format(x*100) \\\n",
        " for x in plt.gca().get_yticks()]) \n",
        "plt.legend()\n",
        "plt.grid('off')\n",
        "plt.show()\n"
      ],
      "metadata": {
        "colab": {
          "base_uri": "https://localhost:8080/",
          "height": 337
        },
        "id": "ytMhfQpzF5mC",
        "outputId": "58a1caaa-1b11-4d08-ffdc-777371499f38"
      },
      "execution_count": null,
      "outputs": [
        {
          "output_type": "display_data",
          "data": {
            "text/plain": [
              "<Figure size 432x288 with 1 Axes>"
            ],
            "image/png": "[encoded data removed]"
          },
          "metadata": {
            "needs_background": "light"
          }
        },
        {
          "output_type": "display_data",
          "data": {
            "text/plain": [
              "<Figure size 432x288 with 1 Axes>"
            ],
            "image/png": "[encoded data removed]"
          },
          "metadata": {
            "needs_background": "light"
          }
        }
      ]
    },
    {
      "cell_type": "markdown",
      "source": [
        "The validation loss function goes down as the model is learning. Also, the accuracy of the model on validation dataset is around ~85%. What will happen when we increase batch size to 10000?"
      ],
      "metadata": {
        "id": "Us_kGAFhH0-F"
      }
    },
    {
      "cell_type": "code",
      "source": [
        "def get_data():\n",
        "  train = FMNISTDataset(tr_images, tr_targets)\n",
        "  trn_dl = DataLoader(train, batch_size = 10000, shuffle = True)\n",
        "  val = FMNISTDataset(val_images, val_targets)\n",
        "  val_dl = DataLoader(val,batch_size = len(val_images), shuffle = False)\n",
        "  return trn_dl, val_dl"
      ],
      "metadata": {
        "id": "Kf2jazFiIH43"
      },
      "execution_count": null,
      "outputs": []
    },
    {
      "cell_type": "code",
      "source": [
        "epochs = np.arange(10)+1\n",
        "import matplotlib.ticker as mtick\n",
        "import matplotlib.pyplot as plt\n",
        "import matplotlib.ticker as mticker\n",
        "%matplotlib inline\n",
        "plt.subplot(211)\n",
        "plt.plot(epochs, train_losses, 'bo', label='Training loss')\n",
        "plt.plot(epochs, val_losses, 'r', label='Validation loss')\n",
        "plt.gca().xaxis.set_major_locator(mticker.MultipleLocator(1))\n",
        "plt.title('Training and validation loss \\\n",
        "when batch size is 10000')\n",
        "plt.xlabel('Epochs')\n",
        "plt.ylabel('Loss')\n",
        "plt.legend()\n",
        "plt.grid('off')\n",
        "plt.show()\n",
        "plt.subplot(212)\n",
        "plt.plot(epochs, train_accuracies, 'bo', \\\n",
        " label='Training accuracy')\n",
        "plt.plot(epochs, val_accuracies, 'r', \\\n",
        " label='Validation accuracy')\n",
        "plt.gca().xaxis.set_major_locator(mticker.MultipleLocator(1))\n",
        "plt.title('Training and validation accuracy \\\n",
        "when batch size is 10000')\n",
        "plt.xlabel('Epochs')\n",
        "plt.ylabel('Accuracy')\n",
        "plt.gca().set_yticklabels(['{:.0f}%'.format(x*100) \\\n",
        " for x in plt.gca().get_yticks()]) \n",
        "plt.legend()\n",
        "plt.grid('off')\n",
        "plt.show()"
      ],
      "metadata": {
        "colab": {
          "base_uri": "https://localhost:8080/",
          "height": 337
        },
        "id": "h85DAQbNInW3",
        "outputId": "df61b980-21f6-438b-c5e7-1166dd0d135e"
      },
      "execution_count": null,
      "outputs": [
        {
          "output_type": "display_data",
          "data": {
            "text/plain": [
              "<Figure size 432x288 with 1 Axes>"
            ],
            "image/png": "[encoded data removed]"
          },
          "metadata": {
            "needs_background": "light"
          }
        },
        {
          "output_type": "display_data",
          "data": {
            "text/plain": [
              "<Figure size 432x288 with 1 Axes>"
            ],
            "image/png": "[encoded data removed]"
          },
          "metadata": {
            "needs_background": "light"
          }
        }
      ]
    },
    {
      "cell_type": "markdown",
      "source": [
        "We can see that even though we updated the weights on more example at once, taking the gradient of 10k example, that only lead to 6 updated for the dataset of 60k images and that lead to achievning lower accuracy of the model on the given dataset."
      ],
      "metadata": {
        "id": "5RB93PY_Iu2V"
      }
    },
    {
      "cell_type": "markdown",
      "source": [
        "# Learning rate variation with a scaled dataset "
      ],
      "metadata": {
        "id": "Dyt1Qv5VJPZi"
      }
    },
    {
      "cell_type": "markdown",
      "source": [
        "Using ADAM optimizer"
      ],
      "metadata": {
        "id": "bEi9ErOhJpJq"
      }
    },
    {
      "cell_type": "code",
      "source": [
        "def get_model():\n",
        "  model = nn.Sequential(\n",
        "  nn.Linear(28 * 28, 1000),\n",
        "  nn.ReLU(),\n",
        "  nn.Linear(1000, 10)\n",
        "  ).to(device)\n",
        "  loss_fn = nn.CrossEntropyLoss()\n",
        "  optimizer = Adam(model.parameters(), lr=1e-1)\n",
        "  return model, loss_fn, optimizer"
      ],
      "metadata": {
        "id": "UkOKFERiJUWk"
      },
      "execution_count": null,
      "outputs": []
    },
    {
      "cell_type": "markdown",
      "source": [
        "Using batch size of 32"
      ],
      "metadata": {
        "id": "VG2V6ypcJrHP"
      }
    },
    {
      "cell_type": "code",
      "source": [
        "def get_data():\n",
        "  train = FMNISTDataset(tr_images, tr_targets)\n",
        "  trn_dl = DataLoader(train, batch_size = 32, shuffle = True)\n",
        "  val = FMNISTDataset(val_images, val_targets)\n",
        "  val_dl = DataLoader(val,batch_size = len(val_images), shuffle = False)\n",
        "  return trn_dl, val_dl"
      ],
      "metadata": {
        "id": "nqRPKyR2Jn0L"
      },
      "execution_count": null,
      "outputs": []
    },
    {
      "cell_type": "code",
      "source": [
        "trn_dl, val_dl = get_data()\n",
        "model, loss_fn, optimizer = get_model()\n",
        "train_losses, train_accuracies = [], []\n",
        "val_losses, val_accuracies = [], []\n",
        "for epoch in range(10):\n",
        "  print(f'{epoch}. epoch')\n",
        "  epoch_losses, epoch_accuracies = [], []\n",
        "  for ix, batch in enumerate(iter(trn_dl)):\n",
        "    x, y = batch\n",
        "    batch_loss = train_batch(x, y, model, optimizer, loss_fn)\n",
        "    epoch_losses.append(batch_loss)\n",
        "  train_epoch_loss = np.array(epoch_losses).mean()\n",
        "  for ix, batch in enumerate (iter(trn_dl)):\n",
        "    x, y = batch\n",
        "    is_correct = accuracy(x,y,model)\n",
        "    epoch_accuracies.extend(is_correct)\n",
        "  train_epoch_accuracy = np.mean(epoch_accuracies)\n",
        "  for ix, batch in enumerate(iter(val_dl)):\n",
        "    x,y = batch\n",
        "    val_is_correct = accuracy(x,y,model)\n",
        "    validation_loss = val_loss(x,y,model)\n",
        "  val_epoch_accuracy = np.mean(val_is_correct)\n",
        "  val_losses.append(validation_loss)\n",
        "  val_accuracies.append(val_epoch_accuracy)\n",
        "  train_losses.append(train_epoch_loss)\n",
        "  train_accuracies.append(train_epoch_accuracy)"
      ],
      "metadata": {
        "colab": {
          "base_uri": "https://localhost:8080/"
        },
        "id": "g3yPZDjoJzVf",
        "outputId": "2ab00dc9-0cea-462f-cda8-3685904f9513"
      },
      "execution_count": null,
      "outputs": [
        {
          "output_type": "stream",
          "name": "stdout",
          "text": [
            "0. epoch\n",
            "1. epoch\n",
            "2. epoch\n",
            "3. epoch\n",
            "4. epoch\n",
            "5. epoch\n",
            "6. epoch\n",
            "7. epoch\n",
            "8. epoch\n",
            "9. epoch\n"
          ]
        }
      ]
    },
    {
      "cell_type": "markdown",
      "source": [
        "Let's see the results"
      ],
      "metadata": {
        "id": "K3aEYhWRJ3rW"
      }
    },
    {
      "cell_type": "code",
      "source": [
        "epochs = np.arange(10)+1\n",
        "import matplotlib.ticker as mtick\n",
        "import matplotlib.pyplot as plt\n",
        "import matplotlib.ticker as mticker\n",
        "%matplotlib inline\n",
        "plt.subplot(211)\n",
        "plt.plot(epochs, train_losses, 'bo', label='Training loss')\n",
        "plt.plot(epochs, val_losses, 'r', label='Validation loss')\n",
        "plt.gca().xaxis.set_major_locator(mticker.MultipleLocator(1))\n",
        "plt.title('Training and validation loss \\\n",
        "when batch size is 10000')\n",
        "plt.xlabel('Epochs')\n",
        "plt.ylabel('Loss')\n",
        "plt.legend()\n",
        "plt.grid('off')\n",
        "plt.show()\n",
        "plt.subplot(212)\n",
        "plt.plot(epochs, train_accuracies, 'bo', \\\n",
        " label='Training accuracy')\n",
        "plt.plot(epochs, val_accuracies, 'r', \\\n",
        " label='Validation accuracy')\n",
        "plt.gca().xaxis.set_major_locator(mticker.MultipleLocator(1))\n",
        "plt.title('Training and validation accuracy \\\n",
        "when batch size is 10000')\n",
        "plt.xlabel('Epochs')\n",
        "plt.ylabel('Accuracy')\n",
        "plt.gca().set_yticklabels(['{:.0f}%'.format(x*100) \\\n",
        " for x in plt.gca().get_yticks()]) \n",
        "plt.legend()\n",
        "plt.grid('off')\n",
        "plt.show()"
      ],
      "metadata": {
        "colab": {
          "base_uri": "https://localhost:8080/",
          "height": 337
        },
        "id": "Wu-3dicnJ51x",
        "outputId": "645f189e-b6dc-4a78-f2af-fb7c6e8e21a2"
      },
      "execution_count": null,
      "outputs": [
        {
          "output_type": "display_data",
          "data": {
            "text/plain": [
              "<Figure size 432x288 with 1 Axes>"
            ],
            "image/png": "[encoded data removed]"
          },
          "metadata": {
            "needs_background": "light"
          }
        },
        {
          "output_type": "display_data",
          "data": {
            "text/plain": [
              "<Figure size 432x288 with 1 Axes>"
            ],
            "image/png": "[encoded data removed]"
          },
          "metadata": {
            "needs_background": "light"
          }
        }
      ]
    },
    {
      "cell_type": "markdown",
      "source": [
        "Using ADAM with this learning rate, a using the defalut values for beta 1 and beta 2 hyperparams, we achieved worse results that the standard SGD with the same learning rate. What happens when we lower the learning rate?"
      ],
      "metadata": {
        "id": "uX2123fbLl7y"
      }
    },
    {
      "cell_type": "markdown",
      "source": [
        "Learning rate is 100 times smaller i.e. ist 0.001 now"
      ],
      "metadata": {
        "id": "lK2iDMNzL3Wp"
      }
    },
    {
      "cell_type": "code",
      "source": [
        "def get_model():\n",
        "  model = nn.Sequential(\n",
        "  nn.Linear(28 * 28, 1000),\n",
        "  nn.ReLU(),\n",
        "  nn.Linear(1000, 10)\n",
        "  ).to(device)\n",
        "  loss_fn = nn.CrossEntropyLoss()\n",
        "  optimizer = Adam(model.parameters(), lr=1e-3)\n",
        "  return model, loss_fn, optimizer"
      ],
      "metadata": {
        "id": "XLZN9eQ_Lyzd"
      },
      "execution_count": null,
      "outputs": []
    },
    {
      "cell_type": "code",
      "source": [
        "epochs = np.arange(10)+1\n",
        "import matplotlib.ticker as mtick\n",
        "import matplotlib.pyplot as plt\n",
        "import matplotlib.ticker as mticker\n",
        "%matplotlib inline\n",
        "plt.subplot(211)\n",
        "plt.plot(epochs, train_losses, 'bo', label='Training loss')\n",
        "plt.plot(epochs, val_losses, 'r', label='Validation loss')\n",
        "plt.gca().xaxis.set_major_locator(mticker.MultipleLocator(1))\n",
        "plt.title('Training and validation loss \\\n",
        "when batch size is 32')\n",
        "plt.xlabel('Epochs')\n",
        "plt.ylabel('Loss')\n",
        "plt.legend()\n",
        "plt.grid('off')\n",
        "plt.show()\n",
        "plt.subplot(212)\n",
        "plt.plot(epochs, train_accuracies, 'bo', \\\n",
        " label='Training accuracy')\n",
        "plt.plot(epochs, val_accuracies, 'r', \\\n",
        " label='Validation accuracy')\n",
        "plt.gca().xaxis.set_major_locator(mticker.MultipleLocator(1))\n",
        "plt.title('Training and validation accuracy \\\n",
        "when batch size is 32')\n",
        "plt.xlabel('Epochs')\n",
        "plt.ylabel('Accuracy')\n",
        "plt.gca().set_yticklabels(['{:.0f}%'.format(x*100) \\\n",
        " for x in plt.gca().get_yticks()]) \n",
        "plt.legend()\n",
        "plt.grid('off')\n",
        "plt.show()"
      ],
      "metadata": {
        "colab": {
          "base_uri": "https://localhost:8080/",
          "height": 337
        },
        "id": "iM6ZWp27QvcD",
        "outputId": "454de918-6193-4ca4-8468-235e3f50c20c"
      },
      "execution_count": null,
      "outputs": [
        {
          "output_type": "display_data",
          "data": {
            "text/plain": [
              "<Figure size 432x288 with 1 Axes>"
            ],
            "image/png": "[encoded data removed]"
          },
          "metadata": {
            "needs_background": "light"
          }
        },
        {
          "output_type": "display_data",
          "data": {
            "text/plain": [
              "<Figure size 432x288 with 1 Axes>"
            ],
            "image/png": "[encoded data removed]"
          },
          "metadata": {
            "needs_background": "light"
          }
        }
      ]
    },
    {
      "cell_type": "markdown",
      "source": [
        "We can see that the with the learning rate being smaller and with the Adam optimizer, our model has achieved ~89% accuracz, which is better than the regular SGD with higher learning rate."
      ],
      "metadata": {
        "id": "qyhboTqPQyUx"
      }
    },
    {
      "cell_type": "markdown",
      "source": [
        "Learnin rate is even smaller now, it's 10000 times smaller than at the begining."
      ],
      "metadata": {
        "id": "sOjlRkSMRGUW"
      }
    },
    {
      "cell_type": "code",
      "source": [
        "def get_model():\n",
        "  model = nn.Sequential(\n",
        "  nn.Linear(28 * 28, 1000),\n",
        "  nn.ReLU(),\n",
        "  nn.Linear(1000, 10)\n",
        "  ).to(device)\n",
        "  loss_fn = nn.CrossEntropyLoss()\n",
        "  optimizer = Adam(model.parameters(), lr=1e-5)\n",
        "  return model, loss_fn, optimizer"
      ],
      "metadata": {
        "id": "Lc7Y2k3JRMzU"
      },
      "execution_count": null,
      "outputs": []
    },
    {
      "cell_type": "code",
      "source": [
        "epochs = np.arange(10)+1\n",
        "import matplotlib.ticker as mtick\n",
        "import matplotlib.pyplot as plt\n",
        "import matplotlib.ticker as mticker\n",
        "%matplotlib inline\n",
        "plt.subplot(211)\n",
        "plt.plot(epochs, train_losses, 'bo', label='Training loss')\n",
        "plt.plot(epochs, val_losses, 'r', label='Validation loss')\n",
        "plt.gca().xaxis.set_major_locator(mticker.MultipleLocator(1))\n",
        "plt.title('Training and validation loss \\\n",
        "when batch size is 10000')\n",
        "plt.xlabel('Epochs')\n",
        "plt.ylabel('Loss')\n",
        "plt.legend()\n",
        "plt.grid('off')\n",
        "plt.show()\n",
        "plt.subplot(212)\n",
        "plt.plot(epochs, train_accuracies, 'bo', \\\n",
        " label='Training accuracy')\n",
        "plt.plot(epochs, val_accuracies, 'r', \\\n",
        " label='Validation accuracy')\n",
        "plt.gca().xaxis.set_major_locator(mticker.MultipleLocator(1))\n",
        "plt.title('Training and validation accuracy \\\n",
        "when batch size is 10000')\n",
        "plt.xlabel('Epochs')\n",
        "plt.ylabel('Accuracy')\n",
        "plt.gca().set_yticklabels(['{:.0f}%'.format(x*100) \\\n",
        " for x in plt.gca().get_yticks()]) \n",
        "plt.legend()\n",
        "plt.grid('off')\n",
        "plt.show()"
      ],
      "metadata": {
        "id": "JNDQGtnbSInO",
        "outputId": "918d07fe-fb74-4158-e5a1-c8fdf8814c4a",
        "colab": {
          "base_uri": "https://localhost:8080/",
          "height": 337
        }
      },
      "execution_count": null,
      "outputs": [
        {
          "output_type": "display_data",
          "data": {
            "text/plain": [
              "<Figure size 432x288 with 1 Axes>"
            ],
            "image/png": "[encoded data removed]"
          },
          "metadata": {
            "needs_background": "light"
          }
        },
        {
          "output_type": "display_data",
          "data": {
            "text/plain": [
              "<Figure size 432x288 with 1 Axes>"
            ],
            "image/png": "[encoded data removed]"
          },
          "metadata": {
            "needs_background": "light"
          }
        }
      ]
    }
  ]
}