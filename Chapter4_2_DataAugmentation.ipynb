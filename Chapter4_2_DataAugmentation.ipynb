{
  "nbformat": 4,
  "nbformat_minor": 0,
  "metadata": {
    "colab": {
      "provenance": [],
      "authorship_tag": "ABX9TyPqE6Cz4OGYGadzbSEYDznM",
      "include_colab_link": true
    },
    "kernelspec": {
      "name": "python3",
      "display_name": "Python 3"
    },
    "language_info": {
      "name": "python"
    },
    "widgets": {
      "application/vnd.jupyter.widget-state+json": {
        "24d6d165d6f84b19a070d85db3ea8d0c": {
          "model_module": "@jupyter-widgets/controls",
          "model_name": "HBoxModel",
          "model_module_version": "1.5.0",
          "state": {
            "_dom_classes": [],
            "_model_module": "@jupyter-widgets/controls",
            "_model_module_version": "1.5.0",
            "_model_name": "HBoxModel",
            "_view_count": null,
            "_view_module": "@jupyter-widgets/controls",
            "_view_module_version": "1.5.0",
            "_view_name": "HBoxView",
            "box_style": "",
            "children": [
              "IPY_MODEL_cb6cd19bdc5e45d79cc465a305c26cae",
              "IPY_MODEL_902cb6c732534ec8955615fdebea09fe",
              "IPY_MODEL_0a1374a203b84d80a9ae8857d843022a"
            ],
            "layout": "IPY_MODEL_058a78ff36624155b6697e78ab002ed2"
          }
        },
        "cb6cd19bdc5e45d79cc465a305c26cae": {
          "model_module": "@jupyter-widgets/controls",
          "model_name": "HTMLModel",
          "model_module_version": "1.5.0",
          "state": {
            "_dom_classes": [],
            "_model_module": "@jupyter-widgets/controls",
            "_model_module_version": "1.5.0",
            "_model_name": "HTMLModel",
            "_view_count": null,
            "_view_module": "@jupyter-widgets/controls",
            "_view_module_version": "1.5.0",
            "_view_name": "HTMLView",
            "description": "",
            "description_tooltip": null,
            "layout": "IPY_MODEL_8d1764314fae469a95536d3b89e40771",
            "placeholder": "​",
            "style": "IPY_MODEL_c4e56f3c58f2426eb3f646c7c638ab32",
            "value": "100%"
          }
        },
        "902cb6c732534ec8955615fdebea09fe": {
          "model_module": "@jupyter-widgets/controls",
          "model_name": "FloatProgressModel",
          "model_module_version": "1.5.0",
          "state": {
            "_dom_classes": [],
            "_model_module": "@jupyter-widgets/controls",
            "_model_module_version": "1.5.0",
            "_model_name": "FloatProgressModel",
            "_view_count": null,
            "_view_module": "@jupyter-widgets/controls",
            "_view_module_version": "1.5.0",
            "_view_name": "ProgressView",
            "bar_style": "success",
            "description": "",
            "description_tooltip": null,
            "layout": "IPY_MODEL_194b65c1658a4920b07396d8afb01746",
            "max": 26421880,
            "min": 0,
            "orientation": "horizontal",
            "style": "IPY_MODEL_63c779001f494d1ca657c6743b53c405",
            "value": 26421880
          }
        },
        "0a1374a203b84d80a9ae8857d843022a": {
          "model_module": "@jupyter-widgets/controls",
          "model_name": "HTMLModel",
          "model_module_version": "1.5.0",
          "state": {
            "_dom_classes": [],
            "_model_module": "@jupyter-widgets/controls",
            "_model_module_version": "1.5.0",
            "_model_name": "HTMLModel",
            "_view_count": null,
            "_view_module": "@jupyter-widgets/controls",
            "_view_module_version": "1.5.0",
            "_view_name": "HTMLView",
            "description": "",
            "description_tooltip": null,
            "layout": "IPY_MODEL_097c322b92c247dc8a9f29352c78dfae",
            "placeholder": "​",
            "style": "IPY_MODEL_cbf88708a2034e21bc1476e7673432f4",
            "value": " 26421880/26421880 [00:01&lt;00:00, 25093201.08it/s]"
          }
        },
        "058a78ff36624155b6697e78ab002ed2": {
          "model_module": "@jupyter-widgets/base",
          "model_name": "LayoutModel",
          "model_module_version": "1.2.0",
          "state": {
            "_model_module": "@jupyter-widgets/base",
            "_model_module_version": "1.2.0",
            "_model_name": "LayoutModel",
            "_view_count": null,
            "_view_module": "@jupyter-widgets/base",
            "_view_module_version": "1.2.0",
            "_view_name": "LayoutView",
            "align_content": null,
            "align_items": null,
            "align_self": null,
            "border": null,
            "bottom": null,
            "display": null,
            "flex": null,
            "flex_flow": null,
            "grid_area": null,
            "grid_auto_columns": null,
            "grid_auto_flow": null,
            "grid_auto_rows": null,
            "grid_column": null,
            "grid_gap": null,
            "grid_row": null,
            "grid_template_areas": null,
            "grid_template_columns": null,
            "grid_template_rows": null,
            "height": null,
            "justify_content": null,
            "justify_items": null,
            "left": null,
            "margin": null,
            "max_height": null,
            "max_width": null,
            "min_height": null,
            "min_width": null,
            "object_fit": null,
            "object_position": null,
            "order": null,
            "overflow": null,
            "overflow_x": null,
            "overflow_y": null,
            "padding": null,
            "right": null,
            "top": null,
            "visibility": null,
            "width": null
          }
        },
        "8d1764314fae469a95536d3b89e40771": {
          "model_module": "@jupyter-widgets/base",
          "model_name": "LayoutModel",
          "model_module_version": "1.2.0",
          "state": {
            "_model_module": "@jupyter-widgets/base",
            "_model_module_version": "1.2.0",
            "_model_name": "LayoutModel",
            "_view_count": null,
            "_view_module": "@jupyter-widgets/base",
            "_view_module_version": "1.2.0",
            "_view_name": "LayoutView",
            "align_content": null,
            "align_items": null,
            "align_self": null,
            "border": null,
            "bottom": null,
            "display": null,
            "flex": null,
            "flex_flow": null,
            "grid_area": null,
            "grid_auto_columns": null,
            "grid_auto_flow": null,
            "grid_auto_rows": null,
            "grid_column": null,
            "grid_gap": null,
            "grid_row": null,
            "grid_template_areas": null,
            "grid_template_columns": null,
            "grid_template_rows": null,
            "height": null,
            "justify_content": null,
            "justify_items": null,
            "left": null,
            "margin": null,
            "max_height": null,
            "max_width": null,
            "min_height": null,
            "min_width": null,
            "object_fit": null,
            "object_position": null,
            "order": null,
            "overflow": null,
            "overflow_x": null,
            "overflow_y": null,
            "padding": null,
            "right": null,
            "top": null,
            "visibility": null,
            "width": null
          }
        },
        "c4e56f3c58f2426eb3f646c7c638ab32": {
          "model_module": "@jupyter-widgets/controls",
          "model_name": "DescriptionStyleModel",
          "model_module_version": "1.5.0",
          "state": {
            "_model_module": "@jupyter-widgets/controls",
            "_model_module_version": "1.5.0",
            "_model_name": "DescriptionStyleModel",
            "_view_count": null,
            "_view_module": "@jupyter-widgets/base",
            "_view_module_version": "1.2.0",
            "_view_name": "StyleView",
            "description_width": ""
          }
        },
        "194b65c1658a4920b07396d8afb01746": {
          "model_module": "@jupyter-widgets/base",
          "model_name": "LayoutModel",
          "model_module_version": "1.2.0",
          "state": {
            "_model_module": "@jupyter-widgets/base",
            "_model_module_version": "1.2.0",
            "_model_name": "LayoutModel",
            "_view_count": null,
            "_view_module": "@jupyter-widgets/base",
            "_view_module_version": "1.2.0",
            "_view_name": "LayoutView",
            "align_content": null,
            "align_items": null,
            "align_self": null,
            "border": null,
            "bottom": null,
            "display": null,
            "flex": null,
            "flex_flow": null,
            "grid_area": null,
            "grid_auto_columns": null,
            "grid_auto_flow": null,
            "grid_auto_rows": null,
            "grid_column": null,
            "grid_gap": null,
            "grid_row": null,
            "grid_template_areas": null,
            "grid_template_columns": null,
            "grid_template_rows": null,
            "height": null,
            "justify_content": null,
            "justify_items": null,
            "left": null,
            "margin": null,
            "max_height": null,
            "max_width": null,
            "min_height": null,
            "min_width": null,
            "object_fit": null,
            "object_position": null,
            "order": null,
            "overflow": null,
            "overflow_x": null,
            "overflow_y": null,
            "padding": null,
            "right": null,
            "top": null,
            "visibility": null,
            "width": null
          }
        },
        "63c779001f494d1ca657c6743b53c405": {
          "model_module": "@jupyter-widgets/controls",
          "model_name": "ProgressStyleModel",
          "model_module_version": "1.5.0",
          "state": {
            "_model_module": "@jupyter-widgets/controls",
            "_model_module_version": "1.5.0",
            "_model_name": "ProgressStyleModel",
            "_view_count": null,
            "_view_module": "@jupyter-widgets/base",
            "_view_module_version": "1.2.0",
            "_view_name": "StyleView",
            "bar_color": null,
            "description_width": ""
          }
        },
        "097c322b92c247dc8a9f29352c78dfae": {
          "model_module": "@jupyter-widgets/base",
          "model_name": "LayoutModel",
          "model_module_version": "1.2.0",
          "state": {
            "_model_module": "@jupyter-widgets/base",
            "_model_module_version": "1.2.0",
            "_model_name": "LayoutModel",
            "_view_count": null,
            "_view_module": "@jupyter-widgets/base",
            "_view_module_version": "1.2.0",
            "_view_name": "LayoutView",
            "align_content": null,
            "align_items": null,
            "align_self": null,
            "border": null,
            "bottom": null,
            "display": null,
            "flex": null,
            "flex_flow": null,
            "grid_area": null,
            "grid_auto_columns": null,
            "grid_auto_flow": null,
            "grid_auto_rows": null,
            "grid_column": null,
            "grid_gap": null,
            "grid_row": null,
            "grid_template_areas": null,
            "grid_template_columns": null,
            "grid_template_rows": null,
            "height": null,
            "justify_content": null,
            "justify_items": null,
            "left": null,
            "margin": null,
            "max_height": null,
            "max_width": null,
            "min_height": null,
            "min_width": null,
            "object_fit": null,
            "object_position": null,
            "order": null,
            "overflow": null,
            "overflow_x": null,
            "overflow_y": null,
            "padding": null,
            "right": null,
            "top": null,
            "visibility": null,
            "width": null
          }
        },
        "cbf88708a2034e21bc1476e7673432f4": {
          "model_module": "@jupyter-widgets/controls",
          "model_name": "DescriptionStyleModel",
          "model_module_version": "1.5.0",
          "state": {
            "_model_module": "@jupyter-widgets/controls",
            "_model_module_version": "1.5.0",
            "_model_name": "DescriptionStyleModel",
            "_view_count": null,
            "_view_module": "@jupyter-widgets/base",
            "_view_module_version": "1.2.0",
            "_view_name": "StyleView",
            "description_width": ""
          }
        },
        "681188cb3ded48a7be0420294062a67d": {
          "model_module": "@jupyter-widgets/controls",
          "model_name": "HBoxModel",
          "model_module_version": "1.5.0",
          "state": {
            "_dom_classes": [],
            "_model_module": "@jupyter-widgets/controls",
            "_model_module_version": "1.5.0",
            "_model_name": "HBoxModel",
            "_view_count": null,
            "_view_module": "@jupyter-widgets/controls",
            "_view_module_version": "1.5.0",
            "_view_name": "HBoxView",
            "box_style": "",
            "children": [
              "IPY_MODEL_41b9027ea0d64db383bba317670cd5d1",
              "IPY_MODEL_31bb05de116d45328035d4cf5af7b51d",
              "IPY_MODEL_6db813f384b9419fad26896f7ef67024"
            ],
            "layout": "IPY_MODEL_adff4389b8004cba89a5ab31bbe40f76"
          }
        },
        "41b9027ea0d64db383bba317670cd5d1": {
          "model_module": "@jupyter-widgets/controls",
          "model_name": "HTMLModel",
          "model_module_version": "1.5.0",
          "state": {
            "_dom_classes": [],
            "_model_module": "@jupyter-widgets/controls",
            "_model_module_version": "1.5.0",
            "_model_name": "HTMLModel",
            "_view_count": null,
            "_view_module": "@jupyter-widgets/controls",
            "_view_module_version": "1.5.0",
            "_view_name": "HTMLView",
            "description": "",
            "description_tooltip": null,
            "layout": "IPY_MODEL_408caf92a55a4e0eb4ede69ad45a11ef",
            "placeholder": "​",
            "style": "IPY_MODEL_6006649ccdd34d28aac4e442e886ea35",
            "value": "100%"
          }
        },
        "31bb05de116d45328035d4cf5af7b51d": {
          "model_module": "@jupyter-widgets/controls",
          "model_name": "FloatProgressModel",
          "model_module_version": "1.5.0",
          "state": {
            "_dom_classes": [],
            "_model_module": "@jupyter-widgets/controls",
            "_model_module_version": "1.5.0",
            "_model_name": "FloatProgressModel",
            "_view_count": null,
            "_view_module": "@jupyter-widgets/controls",
            "_view_module_version": "1.5.0",
            "_view_name": "ProgressView",
            "bar_style": "success",
            "description": "",
            "description_tooltip": null,
            "layout": "IPY_MODEL_ed4a4ec4f32d470ea239858999f44bff",
            "max": 29515,
            "min": 0,
            "orientation": "horizontal",
            "style": "IPY_MODEL_41e65b7a973a4b09a6024365eb3bedc8",
            "value": 29515
          }
        },
        "6db813f384b9419fad26896f7ef67024": {
          "model_module": "@jupyter-widgets/controls",
          "model_name": "HTMLModel",
          "model_module_version": "1.5.0",
          "state": {
            "_dom_classes": [],
            "_model_module": "@jupyter-widgets/controls",
            "_model_module_version": "1.5.0",
            "_model_name": "HTMLModel",
            "_view_count": null,
            "_view_module": "@jupyter-widgets/controls",
            "_view_module_version": "1.5.0",
            "_view_name": "HTMLView",
            "description": "",
            "description_tooltip": null,
            "layout": "IPY_MODEL_3efe372ade1d4a3ba381f66341cef2f4",
            "placeholder": "​",
            "style": "IPY_MODEL_dbf61a66be184f26be769a854cb3da49",
            "value": " 29515/29515 [00:00&lt;00:00, 271033.04it/s]"
          }
        },
        "adff4389b8004cba89a5ab31bbe40f76": {
          "model_module": "@jupyter-widgets/base",
          "model_name": "LayoutModel",
          "model_module_version": "1.2.0",
          "state": {
            "_model_module": "@jupyter-widgets/base",
            "_model_module_version": "1.2.0",
            "_model_name": "LayoutModel",
            "_view_count": null,
            "_view_module": "@jupyter-widgets/base",
            "_view_module_version": "1.2.0",
            "_view_name": "LayoutView",
            "align_content": null,
            "align_items": null,
            "align_self": null,
            "border": null,
            "bottom": null,
            "display": null,
            "flex": null,
            "flex_flow": null,
            "grid_area": null,
            "grid_auto_columns": null,
            "grid_auto_flow": null,
            "grid_auto_rows": null,
            "grid_column": null,
            "grid_gap": null,
            "grid_row": null,
            "grid_template_areas": null,
            "grid_template_columns": null,
            "grid_template_rows": null,
            "height": null,
            "justify_content": null,
            "justify_items": null,
            "left": null,
            "margin": null,
            "max_height": null,
            "max_width": null,
            "min_height": null,
            "min_width": null,
            "object_fit": null,
            "object_position": null,
            "order": null,
            "overflow": null,
            "overflow_x": null,
            "overflow_y": null,
            "padding": null,
            "right": null,
            "top": null,
            "visibility": null,
            "width": null
          }
        },
        "408caf92a55a4e0eb4ede69ad45a11ef": {
          "model_module": "@jupyter-widgets/base",
          "model_name": "LayoutModel",
          "model_module_version": "1.2.0",
          "state": {
            "_model_module": "@jupyter-widgets/base",
            "_model_module_version": "1.2.0",
            "_model_name": "LayoutModel",
            "_view_count": null,
            "_view_module": "@jupyter-widgets/base",
            "_view_module_version": "1.2.0",
            "_view_name": "LayoutView",
            "align_content": null,
            "align_items": null,
            "align_self": null,
            "border": null,
            "bottom": null,
            "display": null,
            "flex": null,
            "flex_flow": null,
            "grid_area": null,
            "grid_auto_columns": null,
            "grid_auto_flow": null,
            "grid_auto_rows": null,
            "grid_column": null,
            "grid_gap": null,
            "grid_row": null,
            "grid_template_areas": null,
            "grid_template_columns": null,
            "grid_template_rows": null,
            "height": null,
            "justify_content": null,
            "justify_items": null,
            "left": null,
            "margin": null,
            "max_height": null,
            "max_width": null,
            "min_height": null,
            "min_width": null,
            "object_fit": null,
            "object_position": null,
            "order": null,
            "overflow": null,
            "overflow_x": null,
            "overflow_y": null,
            "padding": null,
            "right": null,
            "top": null,
            "visibility": null,
            "width": null
          }
        },
        "6006649ccdd34d28aac4e442e886ea35": {
          "model_module": "@jupyter-widgets/controls",
          "model_name": "DescriptionStyleModel",
          "model_module_version": "1.5.0",
          "state": {
            "_model_module": "@jupyter-widgets/controls",
            "_model_module_version": "1.5.0",
            "_model_name": "DescriptionStyleModel",
            "_view_count": null,
            "_view_module": "@jupyter-widgets/base",
            "_view_module_version": "1.2.0",
            "_view_name": "StyleView",
            "description_width": ""
          }
        },
        "ed4a4ec4f32d470ea239858999f44bff": {
          "model_module": "@jupyter-widgets/base",
          "model_name": "LayoutModel",
          "model_module_version": "1.2.0",
          "state": {
            "_model_module": "@jupyter-widgets/base",
            "_model_module_version": "1.2.0",
            "_model_name": "LayoutModel",
            "_view_count": null,
            "_view_module": "@jupyter-widgets/base",
            "_view_module_version": "1.2.0",
            "_view_name": "LayoutView",
            "align_content": null,
            "align_items": null,
            "align_self": null,
            "border": null,
            "bottom": null,
            "display": null,
            "flex": null,
            "flex_flow": null,
            "grid_area": null,
            "grid_auto_columns": null,
            "grid_auto_flow": null,
            "grid_auto_rows": null,
            "grid_column": null,
            "grid_gap": null,
            "grid_row": null,
            "grid_template_areas": null,
            "grid_template_columns": null,
            "grid_template_rows": null,
            "height": null,
            "justify_content": null,
            "justify_items": null,
            "left": null,
            "margin": null,
            "max_height": null,
            "max_width": null,
            "min_height": null,
            "min_width": null,
            "object_fit": null,
            "object_position": null,
            "order": null,
            "overflow": null,
            "overflow_x": null,
            "overflow_y": null,
            "padding": null,
            "right": null,
            "top": null,
            "visibility": null,
            "width": null
          }
        },
        "41e65b7a973a4b09a6024365eb3bedc8": {
          "model_module": "@jupyter-widgets/controls",
          "model_name": "ProgressStyleModel",
          "model_module_version": "1.5.0",
          "state": {
            "_model_module": "@jupyter-widgets/controls",
            "_model_module_version": "1.5.0",
            "_model_name": "ProgressStyleModel",
            "_view_count": null,
            "_view_module": "@jupyter-widgets/base",
            "_view_module_version": "1.2.0",
            "_view_name": "StyleView",
            "bar_color": null,
            "description_width": ""
          }
        },
        "3efe372ade1d4a3ba381f66341cef2f4": {
          "model_module": "@jupyter-widgets/base",
          "model_name": "LayoutModel",
          "model_module_version": "1.2.0",
          "state": {
            "_model_module": "@jupyter-widgets/base",
            "_model_module_version": "1.2.0",
            "_model_name": "LayoutModel",
            "_view_count": null,
            "_view_module": "@jupyter-widgets/base",
            "_view_module_version": "1.2.0",
            "_view_name": "LayoutView",
            "align_content": null,
            "align_items": null,
            "align_self": null,
            "border": null,
            "bottom": null,
            "display": null,
            "flex": null,
            "flex_flow": null,
            "grid_area": null,
            "grid_auto_columns": null,
            "grid_auto_flow": null,
            "grid_auto_rows": null,
            "grid_column": null,
            "grid_gap": null,
            "grid_row": null,
            "grid_template_areas": null,
            "grid_template_columns": null,
            "grid_template_rows": null,
            "height": null,
            "justify_content": null,
            "justify_items": null,
            "left": null,
            "margin": null,
            "max_height": null,
            "max_width": null,
            "min_height": null,
            "min_width": null,
            "object_fit": null,
            "object_position": null,
            "order": null,
            "overflow": null,
            "overflow_x": null,
            "overflow_y": null,
            "padding": null,
            "right": null,
            "top": null,
            "visibility": null,
            "width": null
          }
        },
        "dbf61a66be184f26be769a854cb3da49": {
          "model_module": "@jupyter-widgets/controls",
          "model_name": "DescriptionStyleModel",
          "model_module_version": "1.5.0",
          "state": {
            "_model_module": "@jupyter-widgets/controls",
            "_model_module_version": "1.5.0",
            "_model_name": "DescriptionStyleModel",
            "_view_count": null,
            "_view_module": "@jupyter-widgets/base",
            "_view_module_version": "1.2.0",
            "_view_name": "StyleView",
            "description_width": ""
          }
        },
        "f7e872b566604c4a97caadf7a16c05c6": {
          "model_module": "@jupyter-widgets/controls",
          "model_name": "HBoxModel",
          "model_module_version": "1.5.0",
          "state": {
            "_dom_classes": [],
            "_model_module": "@jupyter-widgets/controls",
            "_model_module_version": "1.5.0",
            "_model_name": "HBoxModel",
            "_view_count": null,
            "_view_module": "@jupyter-widgets/controls",
            "_view_module_version": "1.5.0",
            "_view_name": "HBoxView",
            "box_style": "",
            "children": [
              "IPY_MODEL_dba9ee8aa65a488a9a68102defe84fc5",
              "IPY_MODEL_f58a6c0b88e74c328400eafcfb28a831",
              "IPY_MODEL_ff39cc6899e64c74a6ae0b4b9009d79b"
            ],
            "layout": "IPY_MODEL_25c5880de13647d78984b01bfe480e51"
          }
        },
        "dba9ee8aa65a488a9a68102defe84fc5": {
          "model_module": "@jupyter-widgets/controls",
          "model_name": "HTMLModel",
          "model_module_version": "1.5.0",
          "state": {
            "_dom_classes": [],
            "_model_module": "@jupyter-widgets/controls",
            "_model_module_version": "1.5.0",
            "_model_name": "HTMLModel",
            "_view_count": null,
            "_view_module": "@jupyter-widgets/controls",
            "_view_module_version": "1.5.0",
            "_view_name": "HTMLView",
            "description": "",
            "description_tooltip": null,
            "layout": "IPY_MODEL_cbc8eba0e82e425593a0f12190ea133d",
            "placeholder": "​",
            "style": "IPY_MODEL_3fae5ed5852045589587f66c34a3213b",
            "value": "100%"
          }
        },
        "f58a6c0b88e74c328400eafcfb28a831": {
          "model_module": "@jupyter-widgets/controls",
          "model_name": "FloatProgressModel",
          "model_module_version": "1.5.0",
          "state": {
            "_dom_classes": [],
            "_model_module": "@jupyter-widgets/controls",
            "_model_module_version": "1.5.0",
            "_model_name": "FloatProgressModel",
            "_view_count": null,
            "_view_module": "@jupyter-widgets/controls",
            "_view_module_version": "1.5.0",
            "_view_name": "ProgressView",
            "bar_style": "success",
            "description": "",
            "description_tooltip": null,
            "layout": "IPY_MODEL_0e90240054244de4abf1c8b8c81b7aef",
            "max": 4422102,
            "min": 0,
            "orientation": "horizontal",
            "style": "IPY_MODEL_520c01e8c4e84080983c14dc6a84c3ac",
            "value": 4422102
          }
        },
        "ff39cc6899e64c74a6ae0b4b9009d79b": {
          "model_module": "@jupyter-widgets/controls",
          "model_name": "HTMLModel",
          "model_module_version": "1.5.0",
          "state": {
            "_dom_classes": [],
            "_model_module": "@jupyter-widgets/controls",
            "_model_module_version": "1.5.0",
            "_model_name": "HTMLModel",
            "_view_count": null,
            "_view_module": "@jupyter-widgets/controls",
            "_view_module_version": "1.5.0",
            "_view_name": "HTMLView",
            "description": "",
            "description_tooltip": null,
            "layout": "IPY_MODEL_a89d9365161d48ad857a61222dc466bd",
            "placeholder": "​",
            "style": "IPY_MODEL_56529a21b54b4b00aef65881f2b3e527",
            "value": " 4422102/4422102 [00:00&lt;00:00, 5928397.91it/s]"
          }
        },
        "25c5880de13647d78984b01bfe480e51": {
          "model_module": "@jupyter-widgets/base",
          "model_name": "LayoutModel",
          "model_module_version": "1.2.0",
          "state": {
            "_model_module": "@jupyter-widgets/base",
            "_model_module_version": "1.2.0",
            "_model_name": "LayoutModel",
            "_view_count": null,
            "_view_module": "@jupyter-widgets/base",
            "_view_module_version": "1.2.0",
            "_view_name": "LayoutView",
            "align_content": null,
            "align_items": null,
            "align_self": null,
            "border": null,
            "bottom": null,
            "display": null,
            "flex": null,
            "flex_flow": null,
            "grid_area": null,
            "grid_auto_columns": null,
            "grid_auto_flow": null,
            "grid_auto_rows": null,
            "grid_column": null,
            "grid_gap": null,
            "grid_row": null,
            "grid_template_areas": null,
            "grid_template_columns": null,
            "grid_template_rows": null,
            "height": null,
            "justify_content": null,
            "justify_items": null,
            "left": null,
            "margin": null,
            "max_height": null,
            "max_width": null,
            "min_height": null,
            "min_width": null,
            "object_fit": null,
            "object_position": null,
            "order": null,
            "overflow": null,
            "overflow_x": null,
            "overflow_y": null,
            "padding": null,
            "right": null,
            "top": null,
            "visibility": null,
            "width": null
          }
        },
        "cbc8eba0e82e425593a0f12190ea133d": {
          "model_module": "@jupyter-widgets/base",
          "model_name": "LayoutModel",
          "model_module_version": "1.2.0",
          "state": {
            "_model_module": "@jupyter-widgets/base",
            "_model_module_version": "1.2.0",
            "_model_name": "LayoutModel",
            "_view_count": null,
            "_view_module": "@jupyter-widgets/base",
            "_view_module_version": "1.2.0",
            "_view_name": "LayoutView",
            "align_content": null,
            "align_items": null,
            "align_self": null,
            "border": null,
            "bottom": null,
            "display": null,
            "flex": null,
            "flex_flow": null,
            "grid_area": null,
            "grid_auto_columns": null,
            "grid_auto_flow": null,
            "grid_auto_rows": null,
            "grid_column": null,
            "grid_gap": null,
            "grid_row": null,
            "grid_template_areas": null,
            "grid_template_columns": null,
            "grid_template_rows": null,
            "height": null,
            "justify_content": null,
            "justify_items": null,
            "left": null,
            "margin": null,
            "max_height": null,
            "max_width": null,
            "min_height": null,
            "min_width": null,
            "object_fit": null,
            "object_position": null,
            "order": null,
            "overflow": null,
            "overflow_x": null,
            "overflow_y": null,
            "padding": null,
            "right": null,
            "top": null,
            "visibility": null,
            "width": null
          }
        },
        "3fae5ed5852045589587f66c34a3213b": {
          "model_module": "@jupyter-widgets/controls",
          "model_name": "DescriptionStyleModel",
          "model_module_version": "1.5.0",
          "state": {
            "_model_module": "@jupyter-widgets/controls",
            "_model_module_version": "1.5.0",
            "_model_name": "DescriptionStyleModel",
            "_view_count": null,
            "_view_module": "@jupyter-widgets/base",
            "_view_module_version": "1.2.0",
            "_view_name": "StyleView",
            "description_width": ""
          }
        },
        "0e90240054244de4abf1c8b8c81b7aef": {
          "model_module": "@jupyter-widgets/base",
          "model_name": "LayoutModel",
          "model_module_version": "1.2.0",
          "state": {
            "_model_module": "@jupyter-widgets/base",
            "_model_module_version": "1.2.0",
            "_model_name": "LayoutModel",
            "_view_count": null,
            "_view_module": "@jupyter-widgets/base",
            "_view_module_version": "1.2.0",
            "_view_name": "LayoutView",
            "align_content": null,
            "align_items": null,
            "align_self": null,
            "border": null,
            "bottom": null,
            "display": null,
            "flex": null,
            "flex_flow": null,
            "grid_area": null,
            "grid_auto_columns": null,
            "grid_auto_flow": null,
            "grid_auto_rows": null,
            "grid_column": null,
            "grid_gap": null,
            "grid_row": null,
            "grid_template_areas": null,
            "grid_template_columns": null,
            "grid_template_rows": null,
            "height": null,
            "justify_content": null,
            "justify_items": null,
            "left": null,
            "margin": null,
            "max_height": null,
            "max_width": null,
            "min_height": null,
            "min_width": null,
            "object_fit": null,
            "object_position": null,
            "order": null,
            "overflow": null,
            "overflow_x": null,
            "overflow_y": null,
            "padding": null,
            "right": null,
            "top": null,
            "visibility": null,
            "width": null
          }
        },
        "520c01e8c4e84080983c14dc6a84c3ac": {
          "model_module": "@jupyter-widgets/controls",
          "model_name": "ProgressStyleModel",
          "model_module_version": "1.5.0",
          "state": {
            "_model_module": "@jupyter-widgets/controls",
            "_model_module_version": "1.5.0",
            "_model_name": "ProgressStyleModel",
            "_view_count": null,
            "_view_module": "@jupyter-widgets/base",
            "_view_module_version": "1.2.0",
            "_view_name": "StyleView",
            "bar_color": null,
            "description_width": ""
          }
        },
        "a89d9365161d48ad857a61222dc466bd": {
          "model_module": "@jupyter-widgets/base",
          "model_name": "LayoutModel",
          "model_module_version": "1.2.0",
          "state": {
            "_model_module": "@jupyter-widgets/base",
            "_model_module_version": "1.2.0",
            "_model_name": "LayoutModel",
            "_view_count": null,
            "_view_module": "@jupyter-widgets/base",
            "_view_module_version": "1.2.0",
            "_view_name": "LayoutView",
            "align_content": null,
            "align_items": null,
            "align_self": null,
            "border": null,
            "bottom": null,
            "display": null,
            "flex": null,
            "flex_flow": null,
            "grid_area": null,
            "grid_auto_columns": null,
            "grid_auto_flow": null,
            "grid_auto_rows": null,
            "grid_column": null,
            "grid_gap": null,
            "grid_row": null,
            "grid_template_areas": null,
            "grid_template_columns": null,
            "grid_template_rows": null,
            "height": null,
            "justify_content": null,
            "justify_items": null,
            "left": null,
            "margin": null,
            "max_height": null,
            "max_width": null,
            "min_height": null,
            "min_width": null,
            "object_fit": null,
            "object_position": null,
            "order": null,
            "overflow": null,
            "overflow_x": null,
            "overflow_y": null,
            "padding": null,
            "right": null,
            "top": null,
            "visibility": null,
            "width": null
          }
        },
        "56529a21b54b4b00aef65881f2b3e527": {
          "model_module": "@jupyter-widgets/controls",
          "model_name": "DescriptionStyleModel",
          "model_module_version": "1.5.0",
          "state": {
            "_model_module": "@jupyter-widgets/controls",
            "_model_module_version": "1.5.0",
            "_model_name": "DescriptionStyleModel",
            "_view_count": null,
            "_view_module": "@jupyter-widgets/base",
            "_view_module_version": "1.2.0",
            "_view_name": "StyleView",
            "description_width": ""
          }
        },
        "491d977515984fb9a2ab9574cdffd694": {
          "model_module": "@jupyter-widgets/controls",
          "model_name": "HBoxModel",
          "model_module_version": "1.5.0",
          "state": {
            "_dom_classes": [],
            "_model_module": "@jupyter-widgets/controls",
            "_model_module_version": "1.5.0",
            "_model_name": "HBoxModel",
            "_view_count": null,
            "_view_module": "@jupyter-widgets/controls",
            "_view_module_version": "1.5.0",
            "_view_name": "HBoxView",
            "box_style": "",
            "children": [
              "IPY_MODEL_1337a2c0003045e9afe1f2ded9e56e15",
              "IPY_MODEL_46ab6304881a4cb6ba2801c66aa263fc",
              "IPY_MODEL_8b2ba8578d7548cb996af47c88586178"
            ],
            "layout": "IPY_MODEL_966f9771da0d468a8c5da4d8819eb1ef"
          }
        },
        "1337a2c0003045e9afe1f2ded9e56e15": {
          "model_module": "@jupyter-widgets/controls",
          "model_name": "HTMLModel",
          "model_module_version": "1.5.0",
          "state": {
            "_dom_classes": [],
            "_model_module": "@jupyter-widgets/controls",
            "_model_module_version": "1.5.0",
            "_model_name": "HTMLModel",
            "_view_count": null,
            "_view_module": "@jupyter-widgets/controls",
            "_view_module_version": "1.5.0",
            "_view_name": "HTMLView",
            "description": "",
            "description_tooltip": null,
            "layout": "IPY_MODEL_35f3a49c330e4a259be6702c35c895c9",
            "placeholder": "​",
            "style": "IPY_MODEL_6ba4e0ea959246dda160e40f294d776f",
            "value": "100%"
          }
        },
        "46ab6304881a4cb6ba2801c66aa263fc": {
          "model_module": "@jupyter-widgets/controls",
          "model_name": "FloatProgressModel",
          "model_module_version": "1.5.0",
          "state": {
            "_dom_classes": [],
            "_model_module": "@jupyter-widgets/controls",
            "_model_module_version": "1.5.0",
            "_model_name": "FloatProgressModel",
            "_view_count": null,
            "_view_module": "@jupyter-widgets/controls",
            "_view_module_version": "1.5.0",
            "_view_name": "ProgressView",
            "bar_style": "success",
            "description": "",
            "description_tooltip": null,
            "layout": "IPY_MODEL_68e22b65138a45e79cf8e328179bbc9a",
            "max": 5148,
            "min": 0,
            "orientation": "horizontal",
            "style": "IPY_MODEL_38dd2b5e9c9243f79e0d36270718c3ce",
            "value": 5148
          }
        },
        "8b2ba8578d7548cb996af47c88586178": {
          "model_module": "@jupyter-widgets/controls",
          "model_name": "HTMLModel",
          "model_module_version": "1.5.0",
          "state": {
            "_dom_classes": [],
            "_model_module": "@jupyter-widgets/controls",
            "_model_module_version": "1.5.0",
            "_model_name": "HTMLModel",
            "_view_count": null,
            "_view_module": "@jupyter-widgets/controls",
            "_view_module_version": "1.5.0",
            "_view_name": "HTMLView",
            "description": "",
            "description_tooltip": null,
            "layout": "IPY_MODEL_ff0d3aa47afb4dfa9a9efb0cfdf6b3c2",
            "placeholder": "​",
            "style": "IPY_MODEL_923f75786f444e7c995593a7d397098c",
            "value": " 5148/5148 [00:00&lt;00:00, 87852.05it/s]"
          }
        },
        "966f9771da0d468a8c5da4d8819eb1ef": {
          "model_module": "@jupyter-widgets/base",
          "model_name": "LayoutModel",
          "model_module_version": "1.2.0",
          "state": {
            "_model_module": "@jupyter-widgets/base",
            "_model_module_version": "1.2.0",
            "_model_name": "LayoutModel",
            "_view_count": null,
            "_view_module": "@jupyter-widgets/base",
            "_view_module_version": "1.2.0",
            "_view_name": "LayoutView",
            "align_content": null,
            "align_items": null,
            "align_self": null,
            "border": null,
            "bottom": null,
            "display": null,
            "flex": null,
            "flex_flow": null,
            "grid_area": null,
            "grid_auto_columns": null,
            "grid_auto_flow": null,
            "grid_auto_rows": null,
            "grid_column": null,
            "grid_gap": null,
            "grid_row": null,
            "grid_template_areas": null,
            "grid_template_columns": null,
            "grid_template_rows": null,
            "height": null,
            "justify_content": null,
            "justify_items": null,
            "left": null,
            "margin": null,
            "max_height": null,
            "max_width": null,
            "min_height": null,
            "min_width": null,
            "object_fit": null,
            "object_position": null,
            "order": null,
            "overflow": null,
            "overflow_x": null,
            "overflow_y": null,
            "padding": null,
            "right": null,
            "top": null,
            "visibility": null,
            "width": null
          }
        },
        "35f3a49c330e4a259be6702c35c895c9": {
          "model_module": "@jupyter-widgets/base",
          "model_name": "LayoutModel",
          "model_module_version": "1.2.0",
          "state": {
            "_model_module": "@jupyter-widgets/base",
            "_model_module_version": "1.2.0",
            "_model_name": "LayoutModel",
            "_view_count": null,
            "_view_module": "@jupyter-widgets/base",
            "_view_module_version": "1.2.0",
            "_view_name": "LayoutView",
            "align_content": null,
            "align_items": null,
            "align_self": null,
            "border": null,
            "bottom": null,
            "display": null,
            "flex": null,
            "flex_flow": null,
            "grid_area": null,
            "grid_auto_columns": null,
            "grid_auto_flow": null,
            "grid_auto_rows": null,
            "grid_column": null,
            "grid_gap": null,
            "grid_row": null,
            "grid_template_areas": null,
            "grid_template_columns": null,
            "grid_template_rows": null,
            "height": null,
            "justify_content": null,
            "justify_items": null,
            "left": null,
            "margin": null,
            "max_height": null,
            "max_width": null,
            "min_height": null,
            "min_width": null,
            "object_fit": null,
            "object_position": null,
            "order": null,
            "overflow": null,
            "overflow_x": null,
            "overflow_y": null,
            "padding": null,
            "right": null,
            "top": null,
            "visibility": null,
            "width": null
          }
        },
        "6ba4e0ea959246dda160e40f294d776f": {
          "model_module": "@jupyter-widgets/controls",
          "model_name": "DescriptionStyleModel",
          "model_module_version": "1.5.0",
          "state": {
            "_model_module": "@jupyter-widgets/controls",
            "_model_module_version": "1.5.0",
            "_model_name": "DescriptionStyleModel",
            "_view_count": null,
            "_view_module": "@jupyter-widgets/base",
            "_view_module_version": "1.2.0",
            "_view_name": "StyleView",
            "description_width": ""
          }
        },
        "68e22b65138a45e79cf8e328179bbc9a": {
          "model_module": "@jupyter-widgets/base",
          "model_name": "LayoutModel",
          "model_module_version": "1.2.0",
          "state": {
            "_model_module": "@jupyter-widgets/base",
            "_model_module_version": "1.2.0",
            "_model_name": "LayoutModel",
            "_view_count": null,
            "_view_module": "@jupyter-widgets/base",
            "_view_module_version": "1.2.0",
            "_view_name": "LayoutView",
            "align_content": null,
            "align_items": null,
            "align_self": null,
            "border": null,
            "bottom": null,
            "display": null,
            "flex": null,
            "flex_flow": null,
            "grid_area": null,
            "grid_auto_columns": null,
            "grid_auto_flow": null,
            "grid_auto_rows": null,
            "grid_column": null,
            "grid_gap": null,
            "grid_row": null,
            "grid_template_areas": null,
            "grid_template_columns": null,
            "grid_template_rows": null,
            "height": null,
            "justify_content": null,
            "justify_items": null,
            "left": null,
            "margin": null,
            "max_height": null,
            "max_width": null,
            "min_height": null,
            "min_width": null,
            "object_fit": null,
            "object_position": null,
            "order": null,
            "overflow": null,
            "overflow_x": null,
            "overflow_y": null,
            "padding": null,
            "right": null,
            "top": null,
            "visibility": null,
            "width": null
          }
        },
        "38dd2b5e9c9243f79e0d36270718c3ce": {
          "model_module": "@jupyter-widgets/controls",
          "model_name": "ProgressStyleModel",
          "model_module_version": "1.5.0",
          "state": {
            "_model_module": "@jupyter-widgets/controls",
            "_model_module_version": "1.5.0",
            "_model_name": "ProgressStyleModel",
            "_view_count": null,
            "_view_module": "@jupyter-widgets/base",
            "_view_module_version": "1.2.0",
            "_view_name": "StyleView",
            "bar_color": null,
            "description_width": ""
          }
        },
        "ff0d3aa47afb4dfa9a9efb0cfdf6b3c2": {
          "model_module": "@jupyter-widgets/base",
          "model_name": "LayoutModel",
          "model_module_version": "1.2.0",
          "state": {
            "_model_module": "@jupyter-widgets/base",
            "_model_module_version": "1.2.0",
            "_model_name": "LayoutModel",
            "_view_count": null,
            "_view_module": "@jupyter-widgets/base",
            "_view_module_version": "1.2.0",
            "_view_name": "LayoutView",
            "align_content": null,
            "align_items": null,
            "align_self": null,
            "border": null,
            "bottom": null,
            "display": null,
            "flex": null,
            "flex_flow": null,
            "grid_area": null,
            "grid_auto_columns": null,
            "grid_auto_flow": null,
            "grid_auto_rows": null,
            "grid_column": null,
            "grid_gap": null,
            "grid_row": null,
            "grid_template_areas": null,
            "grid_template_columns": null,
            "grid_template_rows": null,
            "height": null,
            "justify_content": null,
            "justify_items": null,
            "left": null,
            "margin": null,
            "max_height": null,
            "max_width": null,
            "min_height": null,
            "min_width": null,
            "object_fit": null,
            "object_position": null,
            "order": null,
            "overflow": null,
            "overflow_x": null,
            "overflow_y": null,
            "padding": null,
            "right": null,
            "top": null,
            "visibility": null,
            "width": null
          }
        },
        "923f75786f444e7c995593a7d397098c": {
          "model_module": "@jupyter-widgets/controls",
          "model_name": "DescriptionStyleModel",
          "model_module_version": "1.5.0",
          "state": {
            "_model_module": "@jupyter-widgets/controls",
            "_model_module_version": "1.5.0",
            "_model_name": "DescriptionStyleModel",
            "_view_count": null,
            "_view_module": "@jupyter-widgets/base",
            "_view_module_version": "1.2.0",
            "_view_name": "StyleView",
            "description_width": ""
          }
        }
      }
    }
  },
  "cells": [
    {
      "cell_type": "markdown",
      "metadata": {
        "id": "view-in-github",
        "colab_type": "text"
      },
      "source": [
        "<a href=\"https://colab.research.google.com/github/Voland24/ModernComputerVisionPytorch/blob/main/Chapter4_2_DataAugmentation.ipynb\" target=\"_parent\"><img src=\"https://colab.research.google.com/assets/colab-badge.svg\" alt=\"Open In Colab\"/></a>"
      ]
    },
    {
      "cell_type": "markdown",
      "source": [
        "# Data augmentation\n",
        "\n",
        "In the previous chapter, we had a CNN guess correctly a class for an image that was translated by 5px. If we had moved the image more or applied some other transformation, there is a very low chance that the CNN would have guessed correctly.\n",
        "Making a CNN imprevious to geometric or photometric changes is done by having the training set contain images that are rotated or translated or scaled or with different brightness. We apply these transformations to our original image and add all of these to the training set in order to improve our model.\n",
        "\n",
        "We can:\n",
        "  * rotate an image\n",
        "  * zoom in our out i.e scale an image\n",
        "  * introduce noise into the image\n",
        "  * change the brightness\n",
        "  * mirror or flip an image\n",
        "  * shear an image\n",
        "\n",
        "\n"
      ],
      "metadata": {
        "id": "N2UFs2OtJ29w"
      }
    },
    {
      "cell_type": "markdown",
      "source": [
        "**augmenters** class in the imgaug package has useful functions for this.\n",
        "Most prominent augmentations are:\n",
        "* Affine transformations\n",
        "* Brightness chnages\n",
        "* Adding noise"
      ],
      "metadata": {
        "id": "yxbVAsmbK2Z-"
      }
    },
    {
      "cell_type": "markdown",
      "source": [
        "# Affine transformations\n",
        "\n",
        "These involve **translating**, **rotating**, ** scaling **, ** shearing** an image.\n",
        "We can use the Affine method in the augmenters class for this."
      ],
      "metadata": {
        "id": "HKdzSDdXLONm"
      }
    },
    {
      "cell_type": "code",
      "source": [
        "from torchvision import datasets\n",
        "import torch\n",
        "data_folder = '/content/'\n",
        "fmnist = datasets.FashionMNIST(data_folder, download = True, train = True)\n",
        "\n",
        "tr_images = fmnist.data\n",
        "tr_targets = fmnist.targets\n"
      ],
      "metadata": {
        "id": "WS-vA3vALkR-",
        "colab": {
          "base_uri": "https://localhost:8080/",
          "height": 423,
          "referenced_widgets": [
            "24d6d165d6f84b19a070d85db3ea8d0c",
            "cb6cd19bdc5e45d79cc465a305c26cae",
            "902cb6c732534ec8955615fdebea09fe",
            "0a1374a203b84d80a9ae8857d843022a",
            "058a78ff36624155b6697e78ab002ed2",
            "8d1764314fae469a95536d3b89e40771",
            "c4e56f3c58f2426eb3f646c7c638ab32",
            "194b65c1658a4920b07396d8afb01746",
            "63c779001f494d1ca657c6743b53c405",
            "097c322b92c247dc8a9f29352c78dfae",
            "cbf88708a2034e21bc1476e7673432f4",
            "681188cb3ded48a7be0420294062a67d",
            "41b9027ea0d64db383bba317670cd5d1",
            "31bb05de116d45328035d4cf5af7b51d",
            "6db813f384b9419fad26896f7ef67024",
            "adff4389b8004cba89a5ab31bbe40f76",
            "408caf92a55a4e0eb4ede69ad45a11ef",
            "6006649ccdd34d28aac4e442e886ea35",
            "ed4a4ec4f32d470ea239858999f44bff",
            "41e65b7a973a4b09a6024365eb3bedc8",
            "3efe372ade1d4a3ba381f66341cef2f4",
            "dbf61a66be184f26be769a854cb3da49",
            "f7e872b566604c4a97caadf7a16c05c6",
            "dba9ee8aa65a488a9a68102defe84fc5",
            "f58a6c0b88e74c328400eafcfb28a831",
            "ff39cc6899e64c74a6ae0b4b9009d79b",
            "25c5880de13647d78984b01bfe480e51",
            "cbc8eba0e82e425593a0f12190ea133d",
            "3fae5ed5852045589587f66c34a3213b",
            "0e90240054244de4abf1c8b8c81b7aef",
            "520c01e8c4e84080983c14dc6a84c3ac",
            "a89d9365161d48ad857a61222dc466bd",
            "56529a21b54b4b00aef65881f2b3e527",
            "491d977515984fb9a2ab9574cdffd694",
            "1337a2c0003045e9afe1f2ded9e56e15",
            "46ab6304881a4cb6ba2801c66aa263fc",
            "8b2ba8578d7548cb996af47c88586178",
            "966f9771da0d468a8c5da4d8819eb1ef",
            "35f3a49c330e4a259be6702c35c895c9",
            "6ba4e0ea959246dda160e40f294d776f",
            "68e22b65138a45e79cf8e328179bbc9a",
            "38dd2b5e9c9243f79e0d36270718c3ce",
            "ff0d3aa47afb4dfa9a9efb0cfdf6b3c2",
            "923f75786f444e7c995593a7d397098c"
          ]
        },
        "outputId": "abada335-1e3c-4fcb-ad9d-23f66047d6a6"
      },
      "execution_count": 1,
      "outputs": [
        {
          "output_type": "stream",
          "name": "stdout",
          "text": [
            "Downloading http://fashion-mnist.s3-website.eu-central-1.amazonaws.com/train-images-idx3-ubyte.gz\n",
            "Downloading http://fashion-mnist.s3-website.eu-central-1.amazonaws.com/train-images-idx3-ubyte.gz to /content/FashionMNIST/raw/train-images-idx3-ubyte.gz\n"
          ]
        },
        {
          "output_type": "display_data",
          "data": {
            "text/plain": [
              "  0%|          | 0/26421880 [00:00<?, ?it/s]"
            ],
            "application/vnd.jupyter.widget-view+json": {
              "version_major": 2,
              "version_minor": 0,
              "model_id": "24d6d165d6f84b19a070d85db3ea8d0c"
            }
          },
          "metadata": {}
        },
        {
          "output_type": "stream",
          "name": "stdout",
          "text": [
            "Extracting /content/FashionMNIST/raw/train-images-idx3-ubyte.gz to /content/FashionMNIST/raw\n",
            "\n",
            "Downloading http://fashion-mnist.s3-website.eu-central-1.amazonaws.com/train-labels-idx1-ubyte.gz\n",
            "Downloading http://fashion-mnist.s3-website.eu-central-1.amazonaws.com/train-labels-idx1-ubyte.gz to /content/FashionMNIST/raw/train-labels-idx1-ubyte.gz\n"
          ]
        },
        {
          "output_type": "display_data",
          "data": {
            "text/plain": [
              "  0%|          | 0/29515 [00:00<?, ?it/s]"
            ],
            "application/vnd.jupyter.widget-view+json": {
              "version_major": 2,
              "version_minor": 0,
              "model_id": "681188cb3ded48a7be0420294062a67d"
            }
          },
          "metadata": {}
        },
        {
          "output_type": "stream",
          "name": "stdout",
          "text": [
            "Extracting /content/FashionMNIST/raw/train-labels-idx1-ubyte.gz to /content/FashionMNIST/raw\n",
            "\n",
            "Downloading http://fashion-mnist.s3-website.eu-central-1.amazonaws.com/t10k-images-idx3-ubyte.gz\n",
            "Downloading http://fashion-mnist.s3-website.eu-central-1.amazonaws.com/t10k-images-idx3-ubyte.gz to /content/FashionMNIST/raw/t10k-images-idx3-ubyte.gz\n"
          ]
        },
        {
          "output_type": "display_data",
          "data": {
            "text/plain": [
              "  0%|          | 0/4422102 [00:00<?, ?it/s]"
            ],
            "application/vnd.jupyter.widget-view+json": {
              "version_major": 2,
              "version_minor": 0,
              "model_id": "f7e872b566604c4a97caadf7a16c05c6"
            }
          },
          "metadata": {}
        },
        {
          "output_type": "stream",
          "name": "stdout",
          "text": [
            "Extracting /content/FashionMNIST/raw/t10k-images-idx3-ubyte.gz to /content/FashionMNIST/raw\n",
            "\n",
            "Downloading http://fashion-mnist.s3-website.eu-central-1.amazonaws.com/t10k-labels-idx1-ubyte.gz\n",
            "Downloading http://fashion-mnist.s3-website.eu-central-1.amazonaws.com/t10k-labels-idx1-ubyte.gz to /content/FashionMNIST/raw/t10k-labels-idx1-ubyte.gz\n"
          ]
        },
        {
          "output_type": "display_data",
          "data": {
            "text/plain": [
              "  0%|          | 0/5148 [00:00<?, ?it/s]"
            ],
            "application/vnd.jupyter.widget-view+json": {
              "version_major": 2,
              "version_minor": 0,
              "model_id": "491d977515984fb9a2ab9574cdffd694"
            }
          },
          "metadata": {}
        },
        {
          "output_type": "stream",
          "name": "stdout",
          "text": [
            "Extracting /content/FashionMNIST/raw/t10k-labels-idx1-ubyte.gz to /content/FashionMNIST/raw\n",
            "\n"
          ]
        }
      ]
    },
    {
      "cell_type": "markdown",
      "source": [
        "Let's see the first image"
      ],
      "metadata": {
        "id": "_61Zjfo_L7ba"
      }
    },
    {
      "cell_type": "code",
      "source": [
        "import matplotlib.pyplot as plt\n",
        "%matplotlib inline\n",
        "plt.imshow(tr_images[0])\n"
      ],
      "metadata": {
        "colab": {
          "base_uri": "https://localhost:8080/",
          "height": 282
        },
        "id": "ufDRaKnUL9Tn",
        "outputId": "0c708ee1-d4d5-48b9-f453-2f329ccdb80a"
      },
      "execution_count": 2,
      "outputs": [
        {
          "output_type": "execute_result",
          "data": {
            "text/plain": [
              "<matplotlib.image.AxesImage at 0x7f169f8614f0>"
            ]
          },
          "metadata": {},
          "execution_count": 2
        },
        {
          "output_type": "display_data",
          "data": {
            "text/plain": [
              "<Figure size 432x288 with 1 Axes>"
            ],
            "image/png": "[encoded data removed]"
          },
          "metadata": {
            "needs_background": "light"
          }
        }
      ]
    },
    {
      "cell_type": "markdown",
      "source": [
        "Let's perform the Affine transformations\n",
        "First, scaling"
      ],
      "metadata": {
        "id": "I0GstrWnMGiN"
      }
    },
    {
      "cell_type": "code",
      "source": [
        "from imgaug import augmenters as iaa\n",
        "import numpy as np\n",
        "aug = iaa.Affine(scale = 2)\n",
        "img = np.asarray(tr_images[0])\n",
        "plt.imshow(aug.augment_image(img))\n",
        "plt.title('Scaled image')"
      ],
      "metadata": {
        "colab": {
          "base_uri": "https://localhost:8080/",
          "height": 298
        },
        "id": "mn9dHz_rMLe4",
        "outputId": "16931a9b-2bc9-4144-b405-5daad927f89c"
      },
      "execution_count": 4,
      "outputs": [
        {
          "output_type": "execute_result",
          "data": {
            "text/plain": [
              "Text(0.5, 1.0, 'Scaled image')"
            ]
          },
          "metadata": {},
          "execution_count": 4
        },
        {
          "output_type": "display_data",
          "data": {
            "text/plain": [
              "<Figure size 432x288 with 1 Axes>"
            ],
            "image/png": "[encoded data removed]"
          },
          "metadata": {
            "needs_background": "light"
          }
        }
      ]
    },
    {
      "cell_type": "markdown",
      "source": [
        "Translation"
      ],
      "metadata": {
        "id": "_Ltmd7SHNptr"
      }
    },
    {
      "cell_type": "code",
      "source": [
        "aug = iaa.Affine(translate_px = 10)\n",
        "plt.imshow(aug.augment_image(np.asarray(tr_images[0])))\n",
        "plt.title('Translated image')"
      ],
      "metadata": {
        "colab": {
          "base_uri": "https://localhost:8080/",
          "height": 298
        },
        "id": "9iZ_R1rwNqsh",
        "outputId": "24a01fdc-53a3-45c4-b699-6ad4ff76e34e"
      },
      "execution_count": 5,
      "outputs": [
        {
          "output_type": "execute_result",
          "data": {
            "text/plain": [
              "Text(0.5, 1.0, 'Translated image')"
            ]
          },
          "metadata": {},
          "execution_count": 5
        },
        {
          "output_type": "display_data",
          "data": {
            "text/plain": [
              "<Figure size 432x288 with 1 Axes>"
            ],
            "image/png": "[encoded data removed]"
          },
          "metadata": {
            "needs_background": "light"
          }
        }
      ]
    },
    {
      "cell_type": "markdown",
      "source": [
        "The translation happened by both the x and y axis by 10px. We can specify differently if we choose so"
      ],
      "metadata": {
        "id": "mwvp3kl_N6k7"
      }
    },
    {
      "cell_type": "code",
      "source": [
        "aug = iaa.Affine(translate_px={'x':10, 'y':2})\n",
        "plt.imshow(aug.augment_image(np.asarray(tr_images[0])))\n",
        "plt.title('Translated differently for x and y axis')\n"
      ],
      "metadata": {
        "colab": {
          "base_uri": "https://localhost:8080/",
          "height": 298
        },
        "id": "By22D_kNOBjd",
        "outputId": "accbde95-558b-4c83-83a9-1437f827c319"
      },
      "execution_count": 6,
      "outputs": [
        {
          "output_type": "execute_result",
          "data": {
            "text/plain": [
              "Text(0.5, 1.0, 'Translated differently for x and y axis')"
            ]
          },
          "metadata": {},
          "execution_count": 6
        },
        {
          "output_type": "display_data",
          "data": {
            "text/plain": [
              "<Figure size 432x288 with 1 Axes>"
            ],
            "image/png": "[encoded data removed]"
          },
          "metadata": {
            "needs_background": "light"
          }
        }
      ]
    },
    {
      "cell_type": "markdown",
      "source": [
        "We can make the image after transformation fit the result better instead of the transformation causing some pixels to be cut out of the resulting image."
      ],
      "metadata": {
        "id": "rYbn_KwiOjfV"
      }
    },
    {
      "cell_type": "code",
      "source": [
        "plt.figure(figsize = (20,20))\n",
        "img = np.asarray(tr_images[0])\n",
        "plt.subplot(161)\n",
        "plt.imshow(tr_images[0])\n",
        "plt.title('Original image')\n",
        "plt.subplot(162)\n",
        "aug = iaa.Affine(scale = 2, fit_output = True)\n",
        "plt.imshow(aug.augment_image(img))\n",
        "plt.title('Scaled image')\n",
        "plt.subplot(163)\n",
        "aug = iaa.Affine(translate_px={'x':10, 'y':2}, fit_output = True)\n",
        "plt.imshow(aug.augment_image(img))\n",
        "plt.title('Translated image, 10px x and 2px by y')\n",
        "plt.subplot(164)\n",
        "aug = iaa.Affine(rotate = 30, fit_output = True)\n",
        "plt.imshow(aug.augment_image(img))\n",
        "plt.title('Rotated by 30 degrees')\n",
        "plt.subplot(165)\n",
        "aug = iaa.Affine(shear = 30, fit_output = True)\n",
        "plt.imshow(aug.augment_image(img))\n",
        "plt.title('Shear by 30 degrees')"
      ],
      "metadata": {
        "colab": {
          "base_uri": "https://localhost:8080/",
          "height": 240
        },
        "id": "qqmhN2jvOsFi",
        "outputId": "29e745e5-91ea-4594-a770-f772c921279b"
      },
      "execution_count": 7,
      "outputs": [
        {
          "output_type": "execute_result",
          "data": {
            "text/plain": [
              "Text(0.5, 1.0, 'Shear by 30 degrees')"
            ]
          },
          "metadata": {},
          "execution_count": 7
        },
        {
          "output_type": "display_data",
          "data": {
            "text/plain": [
              "<Figure size 1440x1440 with 5 Axes>"
            ],
            "image/png": "[encoded data removed]"
          },
          "metadata": {
            "needs_background": "light"
          }
        }
      ]
    },
    {
      "cell_type": "markdown",
      "source": [
        "We can see that the translation is negated by the fact that we set **fit_output = True**. This is expected behaviour"
      ],
      "metadata": {
        "id": "VhSqy71xQNx1"
      }
    },
    {
      "cell_type": "markdown",
      "source": [
        "There are new pixels created whe nwe rotated the image, they are by default 0, however we can set them to a different value in order to see them."
      ],
      "metadata": {
        "id": "IWCpPL6_QVpq"
      }
    },
    {
      "cell_type": "code",
      "source": [
        "aug = iaa.Affine(rotate = 30, fit_output = True, cval = 255)\n",
        "plt.imshow(aug.augment_image(img))\n",
        "plt.title('Rotation by 30 degrees')"
      ],
      "metadata": {
        "colab": {
          "base_uri": "https://localhost:8080/",
          "height": 298
        },
        "id": "dXHVFRByQgJV",
        "outputId": "9be257f0-ab5d-42f6-ad12-943f91fdc2af"
      },
      "execution_count": null,
      "outputs": [
        {
          "output_type": "execute_result",
          "data": {
            "text/plain": [
              "Text(0.5, 1.0, 'Rotation by 30 degrees')"
            ]
          },
          "metadata": {},
          "execution_count": 16
        },
        {
          "output_type": "display_data",
          "data": {
            "text/plain": [
              "<Figure size 432x288 with 1 Axes>"
            ],
            "image/png": "[encoded data removed]"
          },
          "metadata": {
            "needs_background": "light"
          }
        }
      ]
    },
    {
      "cell_type": "markdown",
      "source": [
        "There are also different modes of how we want the new pixel values to be filled, such as:\n",
        "* constant - pads with constant value\n",
        "* edge - pads with edge values of image\n",
        "* symmetric - pads with reflection of image mirrored along the edge\n",
        "* reflect - similar to symmetrci by it's on the first and last values of the image along each axis\n",
        "* wrap - wraps the image along the axis"
      ],
      "metadata": {
        "id": "pNmjfxMAQ_WX"
      }
    },
    {
      "cell_type": "code",
      "source": [
        "plt.figure(figsize=(20,20))\n",
        "plt.subplot(161)\n",
        "aug = iaa.Affine(rotate=30, fit_output=True, cval=0, mode='constant')\n",
        "plt.imshow(aug.augment_image((img)), cmap='gray')\n",
        "plt.title('Rotation of image by \\n30 degrees with constant mode')\n",
        "plt.subplot(162)\n",
        "aug = iaa.Affine(rotate=30, fit_output=True, cval=0, mode='edge')\n",
        "plt.imshow(aug.augment_image((img)), cmap='gray')\n",
        "plt.title('Rotation of image by 30 degrees \\n with edge mode')\n",
        "plt.subplot(163)\n",
        "aug = iaa.Affine(rotate=30, fit_output=True, cval=0, mode='symmetric')\n",
        "plt.imshow(aug.augment_image((img)), cmap='gray')\n",
        "plt.title('Rotation of image by \\n30 degrees with symmetric mode')\n",
        "plt.subplot(164)\n",
        "aug = iaa.Affine(rotate=30, fit_output=True, cval=0, mode='reflect')\n",
        "plt.imshow(aug.augment_image((img)), cmap='gray')\n",
        "plt.title('Rotation of image by 30 degrees \\n with reflect mode')\n",
        "plt.subplot(165)\n",
        "aug = iaa.Affine(rotate=30, fit_output=True, cval=0, mode='wrap')\n",
        "plt.imshow(aug.augment_image((img)), cmap='gray')\n",
        "plt.title('Rotation of image by \\n30 degrees with wrap mode')"
      ],
      "metadata": {
        "colab": {
          "base_uri": "https://localhost:8080/",
          "height": 255
        },
        "id": "YZVOYIOYRjdr",
        "outputId": "1bb1c8f6-bd04-40da-9ef9-47f34f00a321"
      },
      "execution_count": 8,
      "outputs": [
        {
          "output_type": "execute_result",
          "data": {
            "text/plain": [
              "Text(0.5, 1.0, 'Rotation of image by \\n30 degrees with wrap mode')"
            ]
          },
          "metadata": {},
          "execution_count": 8
        },
        {
          "output_type": "display_data",
          "data": {
            "text/plain": [
              "<Figure size 1440x1440 with 5 Axes>"
            ],
            "image/png": "[encoded data removed]"
          },
          "metadata": {
            "needs_background": "light"
          }
        }
      ]
    },
    {
      "cell_type": "markdown",
      "source": [
        "We will obvioulsy choose the constant mode for out FashionMNIST dataset."
      ],
      "metadata": {
        "id": "LHCcTmjPR8Dd"
      }
    },
    {
      "cell_type": "markdown",
      "source": [
        "# Brightness augmentations\n",
        "\n",
        "This is applied when the difference between the background and the foreground is not as prominent. We have to train the model in as many scenarios as possible for it to perform well on the test data.\n",
        "\n",
        "**Multiply** and **Linear contrast** are two different techniques applied to resolve these situations.\n",
        "**Multiply** method will multiply the image pixels by a value that we specify.\n",
        "**Linear contrast** does the following to the pixels **127 + alpha * (pixel - 127)**\n",
        "When alpha is 1, it leaves the pixel unchanged. When it's smaller than 1, it will dim the brighter pixels and amplify the dimmer ones."
      ],
      "metadata": {
        "id": "F_pPEOoJSB3f"
      }
    },
    {
      "cell_type": "code",
      "source": [
        "aug = iaa.Multiply(0.5)\n",
        "plt.imshow(aug.augment_image(img), cmap = 'gray', vmin = 0, vmax = 255)\n",
        "plt.title('Pixels multiplied by 0.5')\n"
      ],
      "metadata": {
        "colab": {
          "base_uri": "https://localhost:8080/",
          "height": 298
        },
        "id": "9nCGotRWTFh7",
        "outputId": "f24a8883-5330-4048-beb5-341cb2460216"
      },
      "execution_count": 9,
      "outputs": [
        {
          "output_type": "execute_result",
          "data": {
            "text/plain": [
              "Text(0.5, 1.0, 'Pixels multiplied by 0.5')"
            ]
          },
          "metadata": {},
          "execution_count": 9
        },
        {
          "output_type": "display_data",
          "data": {
            "text/plain": [
              "<Figure size 432x288 with 1 Axes>"
            ],
            "image/png": "[encoded data removed]"
          },
          "metadata": {
            "needs_background": "light"
          }
        }
      ]
    },
    {
      "cell_type": "code",
      "source": [
        "aug = iaa.LinearContrast(0.5)\n",
        "plt.imshow(aug.augment_image(img), cmap = 'gray', vmin = 0, vmax = 255)\n",
        "plt.title('Pixel contrast by 0.5')"
      ],
      "metadata": {
        "colab": {
          "base_uri": "https://localhost:8080/",
          "height": 298
        },
        "id": "yO7NdWfqToda",
        "outputId": "b04517e6-a9f1-4066-be00-60def1977998"
      },
      "execution_count": 10,
      "outputs": [
        {
          "output_type": "execute_result",
          "data": {
            "text/plain": [
              "Text(0.5, 1.0, 'Pixel contrast by 0.5')"
            ]
          },
          "metadata": {},
          "execution_count": 10
        },
        {
          "output_type": "display_data",
          "data": {
            "text/plain": [
              "<Figure size 432x288 with 1 Axes>"
            ],
            "image/png": "[encoded data removed]"
          },
          "metadata": {
            "needs_background": "light"
          }
        }
      ]
    },
    {
      "cell_type": "markdown",
      "source": [
        "We can also blur the image to mimic a more realistic scenario"
      ],
      "metadata": {
        "id": "85nsEm-_Tu5K"
      }
    },
    {
      "cell_type": "code",
      "source": [
        "aug = iaa.GaussianBlur(sigma = 1)\n",
        "plt.imshow(aug.augment_image(img), cmap = 'gray', vmin = 0, vmax = 255)\n",
        "plt.title('Gaussian Blur of image with sigma of 1')"
      ],
      "metadata": {
        "colab": {
          "base_uri": "https://localhost:8080/",
          "height": 298
        },
        "id": "sFLjQj5kTyb-",
        "outputId": "c7429e31-ec51-4e72-984a-33cdf2737fb0"
      },
      "execution_count": 11,
      "outputs": [
        {
          "output_type": "execute_result",
          "data": {
            "text/plain": [
              "Text(0.5, 1.0, 'Gaussian Blur of image with sigma of 1')"
            ]
          },
          "metadata": {},
          "execution_count": 11
        },
        {
          "output_type": "display_data",
          "data": {
            "text/plain": [
              "<Figure size 432x288 with 1 Axes>"
            ],
            "image/png": "[encoded data removed]"
          },
          "metadata": {
            "needs_background": "light"
          }
        }
      ]
    },
    {
      "cell_type": "markdown",
      "source": [
        "# Adding noise\n",
        "\n",
        "In a real world situation, we could encounter a noisy signal i.e. image. We can mimic this with the Dropout and the SaltAndPepper filters.\n",
        "\n"
      ],
      "metadata": {
        "id": "7YsLeKcnUNMA"
      }
    },
    {
      "cell_type": "code",
      "source": [
        "plt.figure(figsize = (10,10))\n",
        "plt.subplot(121)\n",
        "aug = iaa.Dropout(p = 0.2)\n",
        "plt.imshow(aug.augment_image(img), cmap = 'gray', vmin = 0, vmax = 255)\n",
        "plt.title('Random 20% of pixels set to black')\n",
        "plt.subplot(122)\n",
        "aug = iaa.SaltAndPepper(0.2)\n",
        "plt.imshow(aug.augment_image(img), cmap = 'gray', vmin = 0, vmax = 255)\n",
        "plt.title('Salt and pepper noise added')"
      ],
      "metadata": {
        "colab": {
          "base_uri": "https://localhost:8080/",
          "height": 335
        },
        "id": "qkpYu3RqUaYe",
        "outputId": "704583f6-23f0-4d47-94c9-2e08c90acae9"
      },
      "execution_count": 12,
      "outputs": [
        {
          "output_type": "execute_result",
          "data": {
            "text/plain": [
              "Text(0.5, 1.0, 'Salt and pepper noise added')"
            ]
          },
          "metadata": {},
          "execution_count": 12
        },
        {
          "output_type": "display_data",
          "data": {
            "text/plain": [
              "<Figure size 720x720 with 2 Axes>"
            ],
            "image/png": "[encoded data removed]"
          },
          "metadata": {
            "needs_background": "light"
          }
        }
      ]
    },
    {
      "cell_type": "markdown",
      "source": [
        "We can perform multiple operations on a single image, as to more realistically mimic the real world scenario that could happen."
      ],
      "metadata": {
        "id": "n93Ke4nkVP4t"
      }
    },
    {
      "cell_type": "code",
      "source": [
        "seq = iaa.Sequential([\n",
        "    iaa.Dropout(p = 0.2),\n",
        "    iaa.Affine(rotate = (-30,30))], random_order = True)"
      ],
      "metadata": {
        "id": "1XoWXQPaVXVq"
      },
      "execution_count": 13,
      "outputs": []
    },
    {
      "cell_type": "code",
      "source": [
        "plt.imshow(seq.augment_image(img), cmap = 'gray', vmin = 0, vmax = 255)\n",
        "plt.title('Result of two augmentation on the same image')"
      ],
      "metadata": {
        "colab": {
          "base_uri": "https://localhost:8080/",
          "height": 298
        },
        "id": "unxDhDU2Vmrk",
        "outputId": "efabdec7-cdbf-4ebe-f087-98d9d56fc17a"
      },
      "execution_count": 14,
      "outputs": [
        {
          "output_type": "execute_result",
          "data": {
            "text/plain": [
              "Text(0.5, 1.0, 'Result of two augmentation on the same image')"
            ]
          },
          "metadata": {},
          "execution_count": 14
        },
        {
          "output_type": "display_data",
          "data": {
            "text/plain": [
              "<Figure size 432x288 with 1 Axes>"
            ],
            "image/png": "[encoded data removed]"
          },
          "metadata": {
            "needs_background": "light"
          }
        }
      ]
    },
    {
      "cell_type": "markdown",
      "source": [
        "# Augmentations on a batch of images and collate_fn \n",
        "\n",
        "We can add the data augmentation in two places in the data pipeline.\n",
        "In the __init__ method of the Dataset, and then  we will perform the same augmentations only once on the whole dataset i.e. we would have the same augmenations for all the iterations\n",
        "Or, we can augment the data in the __getitem__ method, which is better since then we can have different augmentations for different iterations. However we will be performing the augmentations on one image at a time which is really slow.\n",
        "\n",
        "What we what is to perform the same augmentation on a batch of images, so we get the best of both approaches."
      ],
      "metadata": {
        "id": "4Oshas55V8P3"
      }
    },
    {
      "cell_type": "markdown",
      "source": [
        "We will translate the image between -10 and 10 pixels. One at a time and a batch of 32 and compare the time it took to complete"
      ],
      "metadata": {
        "id": "dmrHUPjdWrbF"
      }
    },
    {
      "cell_type": "code",
      "source": [
        "aug = iaa.Sequential([iaa.Affine(translate_px = {'x':(-10,10)}, mode = 'constant')])\n"
      ],
      "metadata": {
        "id": "rl_2VXohW00O"
      },
      "execution_count": 15,
      "outputs": []
    },
    {
      "cell_type": "markdown",
      "source": [
        "One at a time"
      ],
      "metadata": {
        "id": "N3eJ8oDiXWyM"
      }
    },
    {
      "cell_type": "code",
      "source": [
        "%%time\n",
        "for i in range(32):\n",
        "  aug.augment_image(np.asarray(tr_images[i]))\n",
        "  "
      ],
      "metadata": {
        "colab": {
          "base_uri": "https://localhost:8080/"
        },
        "id": "JfK1QIh3XX97",
        "outputId": "d89defd5-4110-4e1e-a422-0e91e91ea861"
      },
      "execution_count": 16,
      "outputs": [
        {
          "output_type": "stream",
          "name": "stdout",
          "text": [
            "CPU times: user 28.4 ms, sys: 877 µs, total: 29.3 ms\n",
            "Wall time: 31.3 ms\n"
          ]
        }
      ]
    },
    {
      "cell_type": "markdown",
      "source": [
        "A batch at a time"
      ],
      "metadata": {
        "id": "qr74pSt4XhCI"
      }
    },
    {
      "cell_type": "code",
      "source": [
        "%%time\n",
        "aug.augment_images(np.asarray(tr_images[:32]))"
      ],
      "metadata": {
        "colab": {
          "base_uri": "https://localhost:8080/"
        },
        "id": "uboaY9lAXiZx",
        "outputId": "9a4ab384-7394-4d89-d818-15aa668bf383"
      },
      "execution_count": 17,
      "outputs": [
        {
          "output_type": "stream",
          "name": "stdout",
          "text": [
            "CPU times: user 15.7 ms, sys: 0 ns, total: 15.7 ms\n",
            "Wall time: 25.3 ms\n"
          ]
        },
        {
          "output_type": "execute_result",
          "data": {
            "text/plain": [
              "array([[[  0,   0,   0, ...,   0,   0,   0],\n",
              "        [  0,   0,   0, ...,   0,   0,   0],\n",
              "        [  0,   0,   0, ...,   0,   0,   0],\n",
              "        ...,\n",
              "        [  0,  40,  61, ...,   0,   0,   0],\n",
              "        [  0,   0,   0, ...,   0,   0,   0],\n",
              "        [  0,   0,   0, ...,   0,   0,   0]],\n",
              "\n",
              "       [[  0,   0,   0, ...,  43,  87, 168],\n",
              "        [  0,   0,   0, ..., 255, 255, 217],\n",
              "        [  0,   0,   0, ..., 204, 202, 201],\n",
              "        ...,\n",
              "        [  0,   0,   0, ..., 205, 204, 201],\n",
              "        [  0,   0,   0, ..., 244, 244, 240],\n",
              "        [  0,   0,   0, ..., 124, 125, 121]],\n",
              "\n",
              "       [[  0,   0,   0, ...,   0,   0,   0],\n",
              "        [  0,   0,   0, ...,   0,   0,   0],\n",
              "        [  0,   0,   0, ...,   0,   0,   0],\n",
              "        ...,\n",
              "        [  0,   0,   0, ...,   0,   0,   0],\n",
              "        [  0,   0,   0, ...,   0,   0,   0],\n",
              "        [  0,   0,   0, ...,   0,   0,   0]],\n",
              "\n",
              "       ...,\n",
              "\n",
              "       [[  0,   0,   0, ...,   0,   0,   0],\n",
              "        [  0,   0,   0, ...,   0,   0,   0],\n",
              "        [  0,   1,   0, ...,   0,   0,   0],\n",
              "        ...,\n",
              "        [  0, 186, 198, ...,   0,   0,   0],\n",
              "        [  0, 224, 199, ...,   0,   0,   0],\n",
              "        [  0,  86, 163, ...,   0,   0,   0]],\n",
              "\n",
              "       [[  0,   0,   0, ...,   0,   0,   0],\n",
              "        [  0,   0,   0, ...,   0,   0,   0],\n",
              "        [  0,   0,   0, ...,   0,   0,   0],\n",
              "        ...,\n",
              "        [  0,   0,   0, ...,   0,   0,   0],\n",
              "        [  0,   0,   0, ...,   0,   0,   0],\n",
              "        [  0,   0,   0, ...,   0,   0,   0]],\n",
              "\n",
              "       [[  1,   0,   0, ...,   0,   0,   0],\n",
              "        [  1,   0,   2, ...,   0,   0,   0],\n",
              "        [  1,   0,   1, ...,   0,   0,   0],\n",
              "        ...,\n",
              "        [119, 146, 118, ...,   0,   0,   0],\n",
              "        [ 77, 160, 155, ...,   0,   0,   0],\n",
              "        [  0,   9,  50, ...,   0,   0,   0]]], dtype=uint8)"
            ]
          },
          "metadata": {},
          "execution_count": 17
        }
      ]
    },
    {
      "cell_type": "markdown",
      "source": [
        "Since the __getitem__ method in the Dataset class access the images on at a time, we have to add a new method called collate_fn which will allow us to manipulate a batch of images at once."
      ],
      "metadata": {
        "id": "ZthPt9_LX_Vv"
      }
    },
    {
      "cell_type": "code",
      "source": [
        "from torch.utils.data import Dataset,DataLoader\n",
        "device = 'cuda' if torch.cuda.is_available() else 'cpu'\n",
        "class FMNISTDataset(Dataset):\n",
        "  def __init__(self, x, y, aug = None):\n",
        "    self.x, self.y = x, y\n",
        "    self.aug = aug\n",
        "  def __getitem__(self, ix):\n",
        "    x,y = self.x[ix], self.y[ix]\n",
        "    return x, y\n",
        "  def __len__(self): return len(self.x)\n",
        "  def collate_fn(self, batch):\n",
        "    imgs, classes = list(zip(*batch))\n",
        "    if self.aug: # used so we can turn aug off for the validation dataset\n",
        "      imgs = self.aug.augment_images(images = np.asarray(imgs))\n",
        "      imgs = torch.tensor(imgs)[:,None, :, :].to(device)/ 255.\n",
        "      classes = torch.tensor(classes).to(device)\n",
        "      return imgs, classes"
      ],
      "metadata": {
        "id": "6KZ-z8CUYRkZ"
      },
      "execution_count": 18,
      "outputs": []
    },
    {
      "cell_type": "code",
      "source": [
        "train = FMNISTDataset(tr_images, tr_targets, aug = aug)\n",
        "\n",
        "trn_dl = DataLoader(train, batch_size = 64, collate_fn = train.collate_fn, shuffle = True)\n"
      ],
      "metadata": {
        "id": "hcmrZv3SZfPP"
      },
      "execution_count": 19,
      "outputs": []
    },
    {
      "cell_type": "markdown",
      "source": [
        "This will allow us to perform the augmentation on a batch of images much quicker and allow for better training results and thus better models."
      ],
      "metadata": {
        "id": "BsK1nFzcZwCG"
      }
    },
    {
      "cell_type": "markdown",
      "source": [
        "# Let's now see how the data augmentation helped with image classification\n"
      ],
      "metadata": {
        "id": "2Mei6zB6R_7r"
      }
    },
    {
      "cell_type": "markdown",
      "source": [
        "First, let's import the train and validation datasets"
      ],
      "metadata": {
        "id": "ZdF1aUM9S5Ga"
      }
    },
    {
      "cell_type": "code",
      "source": [
        "from torchvision import datasets\n",
        "import torch\n",
        "from torch.utils.data import Dataset, DataLoader\n",
        "from torchvision.transforms import ToTensor\n",
        "import torch.nn as nn\n",
        "import matplotlib.pyplot as plt\n",
        "%matplotlib inline\n",
        "import numpy as np\n",
        "\n",
        "device = 'cuda' if torch.cuda.is_available() else 'cpu'\n",
        "data_folder = '/content/'\n",
        "fmnist = datasets.FashionMNIST(data_folder, download = True, train = True, transform=ToTensor())\n",
        "\n",
        "tr_images = fmnist.data\n",
        "tr_targets = fmnist.targets\n",
        "val_fmnist = datasets.FashionMNIST(data_folder, download = True, train = False, transform=ToTensor())\n",
        "\n",
        "val_images = val_fmnist.data\n",
        "val_targets = val_fmnist.targets\n",
        "\n"
      ],
      "metadata": {
        "id": "-OlXX7ssSJH_"
      },
      "execution_count": 85,
      "outputs": []
    },
    {
      "cell_type": "markdown",
      "source": [
        "Next, we create a class that performs random translations between -10 and 10 px on an image"
      ],
      "metadata": {
        "id": "Hl3U9V3JS9lY"
      }
    },
    {
      "cell_type": "code",
      "source": [
        "from imgaug import augmenters as iaa\n",
        "aug = iaa.Sequential([iaa.Affine(translate_px = {'x' : (-10,10)}, mode = 'constant')])\n",
        "\n",
        "class FMNISTDataset(Dataset):\n",
        "    def __init__(self, x, y, aug=None):\n",
        "        self.x, self.y = x, y\n",
        "        self.aug = aug\n",
        "    def __getitem__(self, ix):\n",
        "        x, y = self.x[ix], self.y[ix]\n",
        "        return x, y\n",
        "    def __len__(self): return len(self.x)\n",
        "\n",
        "    def collate_fn(self, batch):\n",
        "        'logic to modify a batch of images'\n",
        "        ims, classes = list(zip(*batch))\n",
        "        # transform a batch of images at once\n",
        "        if self.aug: ims=self.aug.augment_images(images=np.asarray(ims))\n",
        "        ims = torch.tensor(ims)[:,None,:,:].to(device)/255.\n",
        "        classes = torch.tensor(classes).to(device)\n",
        "        return ims, classes\n"
      ],
      "metadata": {
        "id": "yvYSP0xLTGy3"
      },
      "execution_count": 86,
      "outputs": []
    },
    {
      "cell_type": "markdown",
      "source": [
        "We now define the model's architecture"
      ],
      "metadata": {
        "id": "DLDdLHFxUN8c"
      }
    },
    {
      "cell_type": "code",
      "source": [
        "from torch.optim import SGD, Adam\n",
        "def get_model():\n",
        "  model = nn.Sequential(\n",
        "      nn.Conv2d(1,64, kernel_size = 3),\n",
        "      nn.MaxPool2d(2),\n",
        "      nn.ReLU(),\n",
        "      nn.Conv2d(64,128, kernel_size = 3),\n",
        "      nn.MaxPool2d(2),\n",
        "      nn.ReLU(),\n",
        "      nn.Flatten(),\n",
        "      nn.Linear(3200, 256),\n",
        "      nn.ReLU(),\n",
        "      nn.Linear(256,10)\n",
        "  ).to(device)\n",
        "  loss_fn = nn.CrossEntropyLoss()\n",
        "  optimizer = Adam(model.parameters(), lr = 1e-3)\n",
        "  return model, loss_fn, optimizer\n",
        "\n",
        "\n"
      ],
      "metadata": {
        "id": "NnmV6k4QUR7G"
      },
      "execution_count": 22,
      "outputs": []
    },
    {
      "cell_type": "markdown",
      "source": [
        "Since we will be training the model in batches of data, we will define the functions for that"
      ],
      "metadata": {
        "id": "ixHTPefAVBkO"
      }
    },
    {
      "cell_type": "code",
      "source": [
        "def train_batch(x, y, model, optimizer, loss_fn):\n",
        "  model.train()\n",
        "  prediction = model(x)\n",
        "  batch_loss = loss_fn(prediction, y)\n",
        "  batch_loss.backward()\n",
        "  optimizer.step()\n",
        "  optimizer.zero_grad()\n",
        "  return batch_loss.item()"
      ],
      "metadata": {
        "id": "jcozYv0wVG6Q"
      },
      "execution_count": 23,
      "outputs": []
    },
    {
      "cell_type": "markdown",
      "source": [
        "Next, we define the function used to fetch the train and validation data"
      ],
      "metadata": {
        "id": "NHL_rxGyViK9"
      }
    },
    {
      "cell_type": "code",
      "source": [
        "def get_data():\n",
        "    train = FMNISTDataset(tr_images, tr_targets, aug=aug)\n",
        "    'notice the collate_fn argument'\n",
        "    trn_dl = DataLoader(train, batch_size=64,\n",
        "                collate_fn=train.collate_fn, shuffle=True)\n",
        "    val = FMNISTDataset(val_images, val_targets)\n",
        "    val_dl = DataLoader(val, batch_size=len(val_images),\n",
        "                collate_fn=val.collate_fn, shuffle=True)\n",
        "    return trn_dl, val_dl\n"
      ],
      "metadata": {
        "id": "KAiNmnclVydO"
      },
      "execution_count": 87,
      "outputs": []
    },
    {
      "cell_type": "markdown",
      "source": [
        "We fetch the train and validation data, and get the model, optimizer and loss function"
      ],
      "metadata": {
        "id": "tJH2i9OmWjUi"
      }
    },
    {
      "cell_type": "code",
      "source": [
        "trn_dl, val_dl = get_data()\n",
        "model, loss_fn, optimizer = get_model()"
      ],
      "metadata": {
        "id": "eT4OXdglWomQ"
      },
      "execution_count": 79,
      "outputs": []
    },
    {
      "cell_type": "markdown",
      "source": [
        "We train the model for 5 epochs"
      ],
      "metadata": {
        "id": "oYox8VzrWwRw"
      }
    },
    {
      "cell_type": "code",
      "source": [
        "for epoch in range(5):\n",
        "  print(f\"Epoch number {epoch + 1}\")\n",
        "  print(type(trn_dl))\n",
        "  for ix, batch in enumerate(iter(trn_dl)):\n",
        "        x, y = batch\n",
        "        batch_loss = train_batch(x, y, model, optimizer, loss_fn)"
      ],
      "metadata": {
        "id": "TutoGyMljCah"
      },
      "execution_count": null,
      "outputs": []
    }
  ]
}